{
 "cells": [
  {
   "cell_type": "markdown",
   "metadata": {
    "toc": true
   },
   "source": [
    "<h1>Table of Contents<span class=\"tocSkip\"></span></h1>\n",
    "<div class=\"toc\"><ul class=\"toc-item\"><li><span><a href=\"#Find-total-quantity-of-product-involved-in-energy\" data-toc-modified-id=\"Find-total-quantity-of-product-involved-in-energy-1\"><span class=\"toc-item-num\">1&nbsp;&nbsp;</span>Find total quantity of product involved in energy</a></span></li><li><span><a href=\"#Product-Classes\" data-toc-modified-id=\"Product-Classes-2\"><span class=\"toc-item-num\">2&nbsp;&nbsp;</span>Product Classes</a></span></li><li><span><a href=\"#Oil-Global-Production\" data-toc-modified-id=\"Oil-Global-Production-3\"><span class=\"toc-item-num\">3&nbsp;&nbsp;</span>Oil Global Production</a></span></li><li><span><a href=\"#Coal-Peat-and-Oil-Shale-Global-Production\" data-toc-modified-id=\"Coal-Peat-and-Oil-Shale-Global-Production-4\"><span class=\"toc-item-num\">4&nbsp;&nbsp;</span>Coal Peat and Oil Shale Global Production</a></span></li><li><span><a href=\"#Natural-Manufactured-or-Recovered-Natural-Gas-Global-Production\" data-toc-modified-id=\"Natural-Manufactured-or-Recovered-Natural-Gas-Global-Production-5\"><span class=\"toc-item-num\">5&nbsp;&nbsp;</span>Natural Manufactured or Recovered Natural Gas Global Production</a></span></li><li><span><a href=\"#Biofuels-and-Waste-Products\" data-toc-modified-id=\"Biofuels-and-Waste-Products-6\"><span class=\"toc-item-num\">6&nbsp;&nbsp;</span>Biofuels and Waste Products</a></span></li><li><span><a href=\"#Electricity-Production\" data-toc-modified-id=\"Electricity-Production-7\"><span class=\"toc-item-num\">7&nbsp;&nbsp;</span>Electricity Production</a></span></li></ul></div>"
   ]
  },
  {
   "cell_type": "code",
   "execution_count": 597,
   "metadata": {},
   "outputs": [],
   "source": [
    "# Import libraries\n",
    "import pandas as pd\n",
    "import numpy as np\n",
    "import os\n",
    "import matplotlib.pyplot as plt\n",
    "import matplotlib.patches as mpatches\n",
    "import collections"
   ]
  },
  {
   "cell_type": "code",
   "execution_count": 2,
   "metadata": {},
   "outputs": [
    {
     "data": {
      "text/html": [
       "<div>\n",
       "<style scoped>\n",
       "    .dataframe tbody tr th:only-of-type {\n",
       "        vertical-align: middle;\n",
       "    }\n",
       "\n",
       "    .dataframe tbody tr th {\n",
       "        vertical-align: top;\n",
       "    }\n",
       "\n",
       "    .dataframe thead th {\n",
       "        text-align: right;\n",
       "    }\n",
       "</style>\n",
       "<table border=\"1\" class=\"dataframe\">\n",
       "  <thead>\n",
       "    <tr style=\"text-align: right;\">\n",
       "      <th></th>\n",
       "      <th>country_or_area</th>\n",
       "      <th>commodity_transaction</th>\n",
       "      <th>year</th>\n",
       "      <th>unit</th>\n",
       "      <th>quantity</th>\n",
       "      <th>quantity_footnotes</th>\n",
       "      <th>category</th>\n",
       "    </tr>\n",
       "  </thead>\n",
       "  <tbody>\n",
       "    <tr>\n",
       "      <td>0</td>\n",
       "      <td>Austria</td>\n",
       "      <td>Additives and Oxygenates - Exports</td>\n",
       "      <td>1996</td>\n",
       "      <td>Metric tons,  thousand</td>\n",
       "      <td>5.0</td>\n",
       "      <td>NaN</td>\n",
       "      <td>additives_and_oxygenates</td>\n",
       "    </tr>\n",
       "    <tr>\n",
       "      <td>1</td>\n",
       "      <td>Austria</td>\n",
       "      <td>Additives and Oxygenates - Exports</td>\n",
       "      <td>1995</td>\n",
       "      <td>Metric tons,  thousand</td>\n",
       "      <td>17.0</td>\n",
       "      <td>NaN</td>\n",
       "      <td>additives_and_oxygenates</td>\n",
       "    </tr>\n",
       "    <tr>\n",
       "      <td>2</td>\n",
       "      <td>Belgium</td>\n",
       "      <td>Additives and Oxygenates - Exports</td>\n",
       "      <td>2014</td>\n",
       "      <td>Metric tons,  thousand</td>\n",
       "      <td>0.0</td>\n",
       "      <td>NaN</td>\n",
       "      <td>additives_and_oxygenates</td>\n",
       "    </tr>\n",
       "    <tr>\n",
       "      <td>3</td>\n",
       "      <td>Belgium</td>\n",
       "      <td>Additives and Oxygenates - Exports</td>\n",
       "      <td>2013</td>\n",
       "      <td>Metric tons,  thousand</td>\n",
       "      <td>0.0</td>\n",
       "      <td>NaN</td>\n",
       "      <td>additives_and_oxygenates</td>\n",
       "    </tr>\n",
       "    <tr>\n",
       "      <td>4</td>\n",
       "      <td>Belgium</td>\n",
       "      <td>Additives and Oxygenates - Exports</td>\n",
       "      <td>2012</td>\n",
       "      <td>Metric tons,  thousand</td>\n",
       "      <td>35.0</td>\n",
       "      <td>NaN</td>\n",
       "      <td>additives_and_oxygenates</td>\n",
       "    </tr>\n",
       "  </tbody>\n",
       "</table>\n",
       "</div>"
      ],
      "text/plain": [
       "  country_or_area               commodity_transaction  year  \\\n",
       "0         Austria  Additives and Oxygenates - Exports  1996   \n",
       "1         Austria  Additives and Oxygenates - Exports  1995   \n",
       "2         Belgium  Additives and Oxygenates - Exports  2014   \n",
       "3         Belgium  Additives and Oxygenates - Exports  2013   \n",
       "4         Belgium  Additives and Oxygenates - Exports  2012   \n",
       "\n",
       "                     unit  quantity  quantity_footnotes  \\\n",
       "0  Metric tons,  thousand       5.0                 NaN   \n",
       "1  Metric tons,  thousand      17.0                 NaN   \n",
       "2  Metric tons,  thousand       0.0                 NaN   \n",
       "3  Metric tons,  thousand       0.0                 NaN   \n",
       "4  Metric tons,  thousand      35.0                 NaN   \n",
       "\n",
       "                   category  \n",
       "0  additives_and_oxygenates  \n",
       "1  additives_and_oxygenates  \n",
       "2  additives_and_oxygenates  \n",
       "3  additives_and_oxygenates  \n",
       "4  additives_and_oxygenates  "
      ]
     },
     "execution_count": 2,
     "metadata": {},
     "output_type": "execute_result"
    }
   ],
   "source": [
    "energy_df = pd.read_csv(\"all_energy_statistics.csv\")\n",
    "energy_df.head()"
   ]
  },
  {
   "cell_type": "code",
   "execution_count": 3,
   "metadata": {},
   "outputs": [],
   "source": [
    "# expand all column widths so that entire strings can be read in each cell\n",
    "pd.options.display.max_colwidth = 200"
   ]
  },
  {
   "cell_type": "code",
   "execution_count": 4,
   "metadata": {},
   "outputs": [
    {
     "name": "stdout",
     "output_type": "stream",
     "text": [
      "<class 'pandas.core.frame.DataFrame'>\n",
      "RangeIndex: 1189482 entries, 0 to 1189481\n",
      "Data columns (total 7 columns):\n",
      "country_or_area          1189482 non-null object\n",
      "commodity_transaction    1189482 non-null object\n",
      "year                     1189482 non-null int64\n",
      "unit                     1189482 non-null object\n",
      "quantity                 1189482 non-null float64\n",
      "quantity_footnotes       163946 non-null float64\n",
      "category                 1189482 non-null object\n",
      "dtypes: float64(2), int64(1), object(4)\n",
      "memory usage: 63.5+ MB\n"
     ]
    }
   ],
   "source": [
    "# identify the types of objects in the data frame\n",
    "energy_df.info()\n",
    "\n",
    "# data is missing from the quantity footnotes column"
   ]
  },
  {
   "cell_type": "code",
   "execution_count": null,
   "metadata": {},
   "outputs": [],
   "source": []
  },
  {
   "cell_type": "code",
   "execution_count": 5,
   "metadata": {},
   "outputs": [
    {
     "name": "stdout",
     "output_type": "stream",
     "text": [
      "Number of Unique Countries 243\n",
      "Number of Unique Products 71\n",
      "Number of Unique Transactions 2452\n",
      "Different Units of Measure 6\n",
      "Different FootNote Values 1\n"
     ]
    }
   ],
   "source": [
    "# find number of unique values in each column\n",
    "print(f\"Number of Unique Countries {energy_df.country_or_area.nunique()}\")\n",
    "print(f\"Number of Unique Products {energy_df.category.nunique()}\")\n",
    "print(f\"Number of Unique Transactions {energy_df.commodity_transaction.nunique()}\")\n",
    "print(f\"Different Units of Measure {energy_df.unit.nunique()}\")\n",
    "print(f\"Different FootNote Values {energy_df.quantity_footnotes.nunique()}\")"
   ]
  },
  {
   "cell_type": "code",
   "execution_count": 6,
   "metadata": {},
   "outputs": [
    {
     "name": "stdout",
     "output_type": "stream",
     "text": [
      "Earliest year: 1990 \n",
      "Latest year: 2014\n"
     ]
    }
   ],
   "source": [
    "latest_year = energy_df['year'].max()\n",
    "earliest_year = energy_df['year'].min()\n",
    "\n",
    "print(f'Earliest year: {earliest_year} \\nLatest year: {latest_year}')"
   ]
  },
  {
   "cell_type": "markdown",
   "metadata": {
    "heading_collapsed": true
   },
   "source": [
    "# Find total quantity of product involved in energy"
   ]
  },
  {
   "cell_type": "code",
   "execution_count": 7,
   "metadata": {
    "hidden": true
   },
   "outputs": [
    {
     "data": {
      "text/html": [
       "<div>\n",
       "<style scoped>\n",
       "    .dataframe tbody tr th:only-of-type {\n",
       "        vertical-align: middle;\n",
       "    }\n",
       "\n",
       "    .dataframe tbody tr th {\n",
       "        vertical-align: top;\n",
       "    }\n",
       "\n",
       "    .dataframe thead th {\n",
       "        text-align: right;\n",
       "    }\n",
       "</style>\n",
       "<table border=\"1\" class=\"dataframe\">\n",
       "  <thead>\n",
       "    <tr style=\"text-align: right;\">\n",
       "      <th></th>\n",
       "      <th></th>\n",
       "      <th>quantity</th>\n",
       "    </tr>\n",
       "    <tr>\n",
       "      <th>category</th>\n",
       "      <th>unit</th>\n",
       "      <th></th>\n",
       "    </tr>\n",
       "  </thead>\n",
       "  <tbody>\n",
       "    <tr>\n",
       "      <td>additives_and_oxygenates</td>\n",
       "      <td>Metric tons,  thousand</td>\n",
       "      <td>355.34</td>\n",
       "    </tr>\n",
       "    <tr>\n",
       "      <td>animal_waste</td>\n",
       "      <td>Terajoules</td>\n",
       "      <td>50930.30</td>\n",
       "    </tr>\n",
       "    <tr>\n",
       "      <td>anthracite</td>\n",
       "      <td>Metric tons,  thousand</td>\n",
       "      <td>534.20</td>\n",
       "    </tr>\n",
       "    <tr>\n",
       "      <td>aviation_gasoline</td>\n",
       "      <td>Metric tons,  thousand</td>\n",
       "      <td>18.19</td>\n",
       "    </tr>\n",
       "    <tr>\n",
       "      <td>bagasse</td>\n",
       "      <td>Metric tons,  thousand</td>\n",
       "      <td>3815.99</td>\n",
       "    </tr>\n",
       "  </tbody>\n",
       "</table>\n",
       "</div>"
      ],
      "text/plain": [
       "                                                 quantity\n",
       "category                 unit                            \n",
       "additives_and_oxygenates Metric tons,  thousand    355.34\n",
       "animal_waste             Terajoules              50930.30\n",
       "anthracite               Metric tons,  thousand    534.20\n",
       "aviation_gasoline        Metric tons,  thousand     18.19\n",
       "bagasse                  Metric tons,  thousand   3815.99"
      ]
     },
     "execution_count": 7,
     "metadata": {},
     "output_type": "execute_result"
    }
   ],
   "source": [
    "total_energy = energy_df.groupby(['category', 'unit']).mean().round(2).drop(['year', 'quantity_footnotes'], axis=1)\n",
    "total_energy.head()"
   ]
  },
  {
   "cell_type": "code",
   "execution_count": 8,
   "metadata": {
    "hidden": true
   },
   "outputs": [],
   "source": [
    "# reset index to plot quantity against products\n",
    "total_energy = total_energy.reset_index()"
   ]
  },
  {
   "cell_type": "code",
   "execution_count": 9,
   "metadata": {
    "hidden": true
   },
   "outputs": [
    {
     "data": {
      "text/html": [
       "<div>\n",
       "<style scoped>\n",
       "    .dataframe tbody tr th:only-of-type {\n",
       "        vertical-align: middle;\n",
       "    }\n",
       "\n",
       "    .dataframe tbody tr th {\n",
       "        vertical-align: top;\n",
       "    }\n",
       "\n",
       "    .dataframe thead th {\n",
       "        text-align: right;\n",
       "    }\n",
       "</style>\n",
       "<table border=\"1\" class=\"dataframe\">\n",
       "  <thead>\n",
       "    <tr style=\"text-align: right;\">\n",
       "      <th></th>\n",
       "      <th>category</th>\n",
       "      <th>unit</th>\n",
       "      <th>quantity</th>\n",
       "    </tr>\n",
       "  </thead>\n",
       "  <tbody>\n",
       "    <tr>\n",
       "      <td>11</td>\n",
       "      <td>brown_coal</td>\n",
       "      <td>Metric tons,  thousand</td>\n",
       "      <td>1967868.84</td>\n",
       "    </tr>\n",
       "    <tr>\n",
       "      <td>30</td>\n",
       "      <td>hard_coal</td>\n",
       "      <td>Metric tons,  thousand</td>\n",
       "      <td>1694778.49</td>\n",
       "    </tr>\n",
       "    <tr>\n",
       "      <td>41</td>\n",
       "      <td>natural_gas_including_lng</td>\n",
       "      <td>Terajoules</td>\n",
       "      <td>1343446.28</td>\n",
       "    </tr>\n",
       "    <tr>\n",
       "      <td>57</td>\n",
       "      <td>peat</td>\n",
       "      <td>Metric tons,  thousand</td>\n",
       "      <td>736122.47</td>\n",
       "    </tr>\n",
       "    <tr>\n",
       "      <td>17</td>\n",
       "      <td>conventional_crude_oil</td>\n",
       "      <td>Metric tons,  thousand</td>\n",
       "      <td>253327.06</td>\n",
       "    </tr>\n",
       "  </tbody>\n",
       "</table>\n",
       "</div>"
      ],
      "text/plain": [
       "                     category                    unit    quantity\n",
       "11                 brown_coal  Metric tons,  thousand  1967868.84\n",
       "30                  hard_coal  Metric tons,  thousand  1694778.49\n",
       "41  natural_gas_including_lng              Terajoules  1343446.28\n",
       "57                       peat  Metric tons,  thousand   736122.47\n",
       "17     conventional_crude_oil  Metric tons,  thousand   253327.06"
      ]
     },
     "execution_count": 9,
     "metadata": {},
     "output_type": "execute_result"
    }
   ],
   "source": [
    "total_energy = total_energy.sort_values(by=['quantity'], ascending=False)\n",
    "total_energy.head()"
   ]
  },
  {
   "cell_type": "code",
   "execution_count": 10,
   "metadata": {
    "hidden": true
   },
   "outputs": [
    {
     "data": {
      "image/png": "[encoded data removed]",
      "text/plain": [
       "<Figure size 1080x360 with 1 Axes>"
      ]
     },
     "metadata": {
      "needs_background": "light"
     },
     "output_type": "display_data"
    }
   ],
   "source": [
    "plt.figure(figsize=(15,5))\n",
    "\n",
    "plt.bar(total_energy['category'], total_energy['quantity'])\n",
    "plt.xticks(rotation=90)\n",
    "plt.yscale('log')\n",
    "\n",
    "plt.show()"
   ]
  },
  {
   "cell_type": "markdown",
   "metadata": {
    "heading_collapsed": true
   },
   "source": [
    "# Product Classes"
   ]
  },
  {
   "cell_type": "code",
   "execution_count": 11,
   "metadata": {
    "hidden": true
   },
   "outputs": [],
   "source": [
    "# The graph above shows how much of each product has been produced, transformed, exported, imported, and/or consumed \n",
    "# from 1990 to 2014 in any country. This is very general and does not provide much information.\n",
    "\n",
    "# Need to break down this data into sections\n",
    "#        *Products_Class\n",
    "#        *Consumption\n",
    "#        *Transformation Processes"
   ]
  },
  {
   "cell_type": "code",
   "execution_count": 12,
   "metadata": {
    "hidden": true
   },
   "outputs": [],
   "source": [
    "# Drop FootNote Column\n",
    "energy_df = energy_df.drop(['quantity_footnotes'], axis=1)\n",
    "\n",
    "# Rename category column to product and add empty column named product class\n",
    "energy_df = energy_df.rename(columns={\"category\":\"product\"})\n",
    "energy_df[\"product_class\"] = ''"
   ]
  },
  {
   "cell_type": "code",
   "execution_count": 13,
   "metadata": {
    "hidden": true
   },
   "outputs": [
    {
     "data": {
      "text/html": [
       "<div>\n",
       "<style scoped>\n",
       "    .dataframe tbody tr th:only-of-type {\n",
       "        vertical-align: middle;\n",
       "    }\n",
       "\n",
       "    .dataframe tbody tr th {\n",
       "        vertical-align: top;\n",
       "    }\n",
       "\n",
       "    .dataframe thead th {\n",
       "        text-align: right;\n",
       "    }\n",
       "</style>\n",
       "<table border=\"1\" class=\"dataframe\">\n",
       "  <thead>\n",
       "    <tr style=\"text-align: right;\">\n",
       "      <th></th>\n",
       "      <th>country_or_area</th>\n",
       "      <th>commodity_transaction</th>\n",
       "      <th>year</th>\n",
       "      <th>unit</th>\n",
       "      <th>quantity</th>\n",
       "      <th>product</th>\n",
       "      <th>product_class</th>\n",
       "    </tr>\n",
       "  </thead>\n",
       "  <tbody>\n",
       "    <tr>\n",
       "      <td>0</td>\n",
       "      <td>Austria</td>\n",
       "      <td>Additives and Oxygenates - Exports</td>\n",
       "      <td>1996</td>\n",
       "      <td>Metric tons,  thousand</td>\n",
       "      <td>5.0</td>\n",
       "      <td>additives_and_oxygenates</td>\n",
       "      <td></td>\n",
       "    </tr>\n",
       "    <tr>\n",
       "      <td>1</td>\n",
       "      <td>Austria</td>\n",
       "      <td>Additives and Oxygenates - Exports</td>\n",
       "      <td>1995</td>\n",
       "      <td>Metric tons,  thousand</td>\n",
       "      <td>17.0</td>\n",
       "      <td>additives_and_oxygenates</td>\n",
       "      <td></td>\n",
       "    </tr>\n",
       "    <tr>\n",
       "      <td>2</td>\n",
       "      <td>Belgium</td>\n",
       "      <td>Additives and Oxygenates - Exports</td>\n",
       "      <td>2014</td>\n",
       "      <td>Metric tons,  thousand</td>\n",
       "      <td>0.0</td>\n",
       "      <td>additives_and_oxygenates</td>\n",
       "      <td></td>\n",
       "    </tr>\n",
       "    <tr>\n",
       "      <td>3</td>\n",
       "      <td>Belgium</td>\n",
       "      <td>Additives and Oxygenates - Exports</td>\n",
       "      <td>2013</td>\n",
       "      <td>Metric tons,  thousand</td>\n",
       "      <td>0.0</td>\n",
       "      <td>additives_and_oxygenates</td>\n",
       "      <td></td>\n",
       "    </tr>\n",
       "    <tr>\n",
       "      <td>4</td>\n",
       "      <td>Belgium</td>\n",
       "      <td>Additives and Oxygenates - Exports</td>\n",
       "      <td>2012</td>\n",
       "      <td>Metric tons,  thousand</td>\n",
       "      <td>35.0</td>\n",
       "      <td>additives_and_oxygenates</td>\n",
       "      <td></td>\n",
       "    </tr>\n",
       "  </tbody>\n",
       "</table>\n",
       "</div>"
      ],
      "text/plain": [
       "  country_or_area               commodity_transaction  year  \\\n",
       "0         Austria  Additives and Oxygenates - Exports  1996   \n",
       "1         Austria  Additives and Oxygenates - Exports  1995   \n",
       "2         Belgium  Additives and Oxygenates - Exports  2014   \n",
       "3         Belgium  Additives and Oxygenates - Exports  2013   \n",
       "4         Belgium  Additives and Oxygenates - Exports  2012   \n",
       "\n",
       "                     unit  quantity                   product product_class  \n",
       "0  Metric tons,  thousand       5.0  additives_and_oxygenates                \n",
       "1  Metric tons,  thousand      17.0  additives_and_oxygenates                \n",
       "2  Metric tons,  thousand       0.0  additives_and_oxygenates                \n",
       "3  Metric tons,  thousand       0.0  additives_and_oxygenates                \n",
       "4  Metric tons,  thousand      35.0  additives_and_oxygenates                "
      ]
     },
     "execution_count": 13,
     "metadata": {},
     "output_type": "execute_result"
    }
   ],
   "source": [
    "energy_df.head()"
   ]
  },
  {
   "cell_type": "code",
   "execution_count": 14,
   "metadata": {
    "hidden": true
   },
   "outputs": [
    {
     "data": {
      "text/html": [
       "<div>\n",
       "<style scoped>\n",
       "    .dataframe tbody tr th:only-of-type {\n",
       "        vertical-align: middle;\n",
       "    }\n",
       "\n",
       "    .dataframe tbody tr th {\n",
       "        vertical-align: top;\n",
       "    }\n",
       "\n",
       "    .dataframe thead th {\n",
       "        text-align: right;\n",
       "    }\n",
       "</style>\n",
       "<table border=\"1\" class=\"dataframe\">\n",
       "  <thead>\n",
       "    <tr style=\"text-align: right;\">\n",
       "      <th></th>\n",
       "      <th>country_or_area</th>\n",
       "      <th>commodity_transaction</th>\n",
       "      <th>year</th>\n",
       "      <th>unit</th>\n",
       "      <th>quantity</th>\n",
       "      <th>product</th>\n",
       "      <th>product_class</th>\n",
       "    </tr>\n",
       "  </thead>\n",
       "  <tbody>\n",
       "    <tr>\n",
       "      <td>121826</td>\n",
       "      <td>Albania</td>\n",
       "      <td>Lignite brown coal - total known reserves</td>\n",
       "      <td>2014</td>\n",
       "      <td>Metric tons,  thousand</td>\n",
       "      <td>727000.0</td>\n",
       "      <td>brown_coal</td>\n",
       "      <td></td>\n",
       "    </tr>\n",
       "    <tr>\n",
       "      <td>121827</td>\n",
       "      <td>Albania</td>\n",
       "      <td>Lignite brown coal - total known reserves</td>\n",
       "      <td>2005</td>\n",
       "      <td>Metric tons,  thousand</td>\n",
       "      <td>794000.0</td>\n",
       "      <td>brown_coal</td>\n",
       "      <td></td>\n",
       "    </tr>\n",
       "    <tr>\n",
       "      <td>121828</td>\n",
       "      <td>Albania</td>\n",
       "      <td>Lignite brown coal - total known reserves</td>\n",
       "      <td>2002</td>\n",
       "      <td>Metric tons,  thousand</td>\n",
       "      <td>712000.0</td>\n",
       "      <td>brown_coal</td>\n",
       "      <td></td>\n",
       "    </tr>\n",
       "    <tr>\n",
       "      <td>121829</td>\n",
       "      <td>Albania</td>\n",
       "      <td>Lignite brown coal - total known reserves</td>\n",
       "      <td>2001</td>\n",
       "      <td>Metric tons,  thousand</td>\n",
       "      <td>712000.0</td>\n",
       "      <td>brown_coal</td>\n",
       "      <td></td>\n",
       "    </tr>\n",
       "    <tr>\n",
       "      <td>121830</td>\n",
       "      <td>Albania</td>\n",
       "      <td>Lignite brown coal - total known reserves</td>\n",
       "      <td>2000</td>\n",
       "      <td>Metric tons,  thousand</td>\n",
       "      <td>712000.0</td>\n",
       "      <td>brown_coal</td>\n",
       "      <td></td>\n",
       "    </tr>\n",
       "  </tbody>\n",
       "</table>\n",
       "</div>"
      ],
      "text/plain": [
       "       country_or_area                      commodity_transaction  year  \\\n",
       "121826         Albania  Lignite brown coal - total known reserves  2014   \n",
       "121827         Albania  Lignite brown coal - total known reserves  2005   \n",
       "121828         Albania  Lignite brown coal - total known reserves  2002   \n",
       "121829         Albania  Lignite brown coal - total known reserves  2001   \n",
       "121830         Albania  Lignite brown coal - total known reserves  2000   \n",
       "\n",
       "                          unit  quantity     product product_class  \n",
       "121826  Metric tons,  thousand  727000.0  brown_coal                \n",
       "121827  Metric tons,  thousand  794000.0  brown_coal                \n",
       "121828  Metric tons,  thousand  712000.0  brown_coal                \n",
       "121829  Metric tons,  thousand  712000.0  brown_coal                \n",
       "121830  Metric tons,  thousand  712000.0  brown_coal                "
      ]
     },
     "execution_count": 14,
     "metadata": {},
     "output_type": "execute_result"
    }
   ],
   "source": [
    "energy_df[energy_df['commodity_transaction'].str.contains(\"total\")].head()"
   ]
  },
  {
   "cell_type": "code",
   "execution_count": 15,
   "metadata": {
    "hidden": true
   },
   "outputs": [
    {
     "data": {
      "text/html": [
       "<div>\n",
       "<style scoped>\n",
       "    .dataframe tbody tr th:only-of-type {\n",
       "        vertical-align: middle;\n",
       "    }\n",
       "\n",
       "    .dataframe tbody tr th {\n",
       "        vertical-align: top;\n",
       "    }\n",
       "\n",
       "    .dataframe thead th {\n",
       "        text-align: right;\n",
       "    }\n",
       "</style>\n",
       "<table border=\"1\" class=\"dataframe\">\n",
       "  <thead>\n",
       "    <tr style=\"text-align: right;\">\n",
       "      <th></th>\n",
       "      <th>country_or_area</th>\n",
       "      <th>commodity_transaction</th>\n",
       "      <th>year</th>\n",
       "      <th>unit</th>\n",
       "      <th>quantity</th>\n",
       "      <th>product</th>\n",
       "      <th>product_class</th>\n",
       "    </tr>\n",
       "  </thead>\n",
       "  <tbody>\n",
       "    <tr>\n",
       "      <td>1300</td>\n",
       "      <td>Argentina</td>\n",
       "      <td>Additives and Oxygenates - Total energy supply</td>\n",
       "      <td>2014</td>\n",
       "      <td>Metric tons,  thousand</td>\n",
       "      <td>369.0</td>\n",
       "      <td>additives_and_oxygenates</td>\n",
       "      <td></td>\n",
       "    </tr>\n",
       "    <tr>\n",
       "      <td>1301</td>\n",
       "      <td>Argentina</td>\n",
       "      <td>Additives and Oxygenates - Total energy supply</td>\n",
       "      <td>2013</td>\n",
       "      <td>Metric tons,  thousand</td>\n",
       "      <td>379.0</td>\n",
       "      <td>additives_and_oxygenates</td>\n",
       "      <td></td>\n",
       "    </tr>\n",
       "    <tr>\n",
       "      <td>1302</td>\n",
       "      <td>Argentina</td>\n",
       "      <td>Additives and Oxygenates - Total energy supply</td>\n",
       "      <td>2012</td>\n",
       "      <td>Metric tons,  thousand</td>\n",
       "      <td>393.0</td>\n",
       "      <td>additives_and_oxygenates</td>\n",
       "      <td></td>\n",
       "    </tr>\n",
       "    <tr>\n",
       "      <td>1303</td>\n",
       "      <td>Argentina</td>\n",
       "      <td>Additives and Oxygenates - Total energy supply</td>\n",
       "      <td>2011</td>\n",
       "      <td>Metric tons,  thousand</td>\n",
       "      <td>355.0</td>\n",
       "      <td>additives_and_oxygenates</td>\n",
       "      <td></td>\n",
       "    </tr>\n",
       "    <tr>\n",
       "      <td>1304</td>\n",
       "      <td>Argentina</td>\n",
       "      <td>Additives and Oxygenates - Total energy supply</td>\n",
       "      <td>2010</td>\n",
       "      <td>Metric tons,  thousand</td>\n",
       "      <td>418.0</td>\n",
       "      <td>additives_and_oxygenates</td>\n",
       "      <td></td>\n",
       "    </tr>\n",
       "  </tbody>\n",
       "</table>\n",
       "</div>"
      ],
      "text/plain": [
       "     country_or_area                           commodity_transaction  year  \\\n",
       "1300       Argentina  Additives and Oxygenates - Total energy supply  2014   \n",
       "1301       Argentina  Additives and Oxygenates - Total energy supply  2013   \n",
       "1302       Argentina  Additives and Oxygenates - Total energy supply  2012   \n",
       "1303       Argentina  Additives and Oxygenates - Total energy supply  2011   \n",
       "1304       Argentina  Additives and Oxygenates - Total energy supply  2010   \n",
       "\n",
       "                        unit  quantity                   product product_class  \n",
       "1300  Metric tons,  thousand     369.0  additives_and_oxygenates                \n",
       "1301  Metric tons,  thousand     379.0  additives_and_oxygenates                \n",
       "1302  Metric tons,  thousand     393.0  additives_and_oxygenates                \n",
       "1303  Metric tons,  thousand     355.0  additives_and_oxygenates                \n",
       "1304  Metric tons,  thousand     418.0  additives_and_oxygenates                "
      ]
     },
     "execution_count": 15,
     "metadata": {},
     "output_type": "execute_result"
    }
   ],
   "source": [
    "energy_df[energy_df['commodity_transaction'].str.contains(\"Total\")].head()"
   ]
  },
  {
   "cell_type": "code",
   "execution_count": 16,
   "metadata": {
    "hidden": true
   },
   "outputs": [],
   "source": [
    "# Need to convert all string to lower\n",
    "energy_df['country_or_area'] = energy_df['country_or_area'].str.lower()\n",
    "energy_df['commodity_transaction'] = energy_df['commodity_transaction'].str.lower()\n",
    "energy_df['product'] = energy_df['product'].str.lower()"
   ]
  },
  {
   "cell_type": "code",
   "execution_count": 17,
   "metadata": {
    "hidden": true
   },
   "outputs": [
    {
     "data": {
      "text/html": [
       "<div>\n",
       "<style scoped>\n",
       "    .dataframe tbody tr th:only-of-type {\n",
       "        vertical-align: middle;\n",
       "    }\n",
       "\n",
       "    .dataframe tbody tr th {\n",
       "        vertical-align: top;\n",
       "    }\n",
       "\n",
       "    .dataframe thead th {\n",
       "        text-align: right;\n",
       "    }\n",
       "</style>\n",
       "<table border=\"1\" class=\"dataframe\">\n",
       "  <thead>\n",
       "    <tr style=\"text-align: right;\">\n",
       "      <th></th>\n",
       "      <th>country_or_area</th>\n",
       "      <th>commodity_transaction</th>\n",
       "      <th>year</th>\n",
       "      <th>unit</th>\n",
       "      <th>quantity</th>\n",
       "      <th>product</th>\n",
       "      <th>product_class</th>\n",
       "    </tr>\n",
       "  </thead>\n",
       "  <tbody>\n",
       "    <tr>\n",
       "      <td>0</td>\n",
       "      <td>austria</td>\n",
       "      <td>additives and oxygenates - exports</td>\n",
       "      <td>1996</td>\n",
       "      <td>Metric tons,  thousand</td>\n",
       "      <td>5.0</td>\n",
       "      <td>additives_and_oxygenates</td>\n",
       "      <td></td>\n",
       "    </tr>\n",
       "    <tr>\n",
       "      <td>1</td>\n",
       "      <td>austria</td>\n",
       "      <td>additives and oxygenates - exports</td>\n",
       "      <td>1995</td>\n",
       "      <td>Metric tons,  thousand</td>\n",
       "      <td>17.0</td>\n",
       "      <td>additives_and_oxygenates</td>\n",
       "      <td></td>\n",
       "    </tr>\n",
       "    <tr>\n",
       "      <td>2</td>\n",
       "      <td>belgium</td>\n",
       "      <td>additives and oxygenates - exports</td>\n",
       "      <td>2014</td>\n",
       "      <td>Metric tons,  thousand</td>\n",
       "      <td>0.0</td>\n",
       "      <td>additives_and_oxygenates</td>\n",
       "      <td></td>\n",
       "    </tr>\n",
       "    <tr>\n",
       "      <td>3</td>\n",
       "      <td>belgium</td>\n",
       "      <td>additives and oxygenates - exports</td>\n",
       "      <td>2013</td>\n",
       "      <td>Metric tons,  thousand</td>\n",
       "      <td>0.0</td>\n",
       "      <td>additives_and_oxygenates</td>\n",
       "      <td></td>\n",
       "    </tr>\n",
       "    <tr>\n",
       "      <td>4</td>\n",
       "      <td>belgium</td>\n",
       "      <td>additives and oxygenates - exports</td>\n",
       "      <td>2012</td>\n",
       "      <td>Metric tons,  thousand</td>\n",
       "      <td>35.0</td>\n",
       "      <td>additives_and_oxygenates</td>\n",
       "      <td></td>\n",
       "    </tr>\n",
       "  </tbody>\n",
       "</table>\n",
       "</div>"
      ],
      "text/plain": [
       "  country_or_area               commodity_transaction  year  \\\n",
       "0         austria  additives and oxygenates - exports  1996   \n",
       "1         austria  additives and oxygenates - exports  1995   \n",
       "2         belgium  additives and oxygenates - exports  2014   \n",
       "3         belgium  additives and oxygenates - exports  2013   \n",
       "4         belgium  additives and oxygenates - exports  2012   \n",
       "\n",
       "                     unit  quantity                   product product_class  \n",
       "0  Metric tons,  thousand       5.0  additives_and_oxygenates                \n",
       "1  Metric tons,  thousand      17.0  additives_and_oxygenates                \n",
       "2  Metric tons,  thousand       0.0  additives_and_oxygenates                \n",
       "3  Metric tons,  thousand       0.0  additives_and_oxygenates                \n",
       "4  Metric tons,  thousand      35.0  additives_and_oxygenates                "
      ]
     },
     "execution_count": 17,
     "metadata": {},
     "output_type": "execute_result"
    }
   ],
   "source": [
    "energy_df.head()"
   ]
  },
  {
   "cell_type": "code",
   "execution_count": 18,
   "metadata": {
    "hidden": true
   },
   "outputs": [],
   "source": [
    "# Create lists of product classes to compare products against\n",
    "Oil_Class = ['additives_and_oxygenates', 'paraffin_waxes', 'conventional_crude_oil', 'natural_gas_liquids','other_hydrocarbons','aviation_gasoline','motor_gasoline','biogasoline','of_which_biogasoline','gasoline_type_jet_fuel','kerosene_type_jet_fuel','other_kerosene','gas_oil_diesel_oil','of_which_biodiesel','biodiesel','fuel_oil','liquified_petroleum_gas','refinery_feedstocks','naphtha','white_spirit_and_special_boiling_point_industrial_spirits','lubricants','bitumen','paraffin_waxes','petroleum_coke','refinery_gas','ethane','other_oil_products_n_e_c']\n",
    "Coal_Peat_Oil_Shales_Class = ['hard_coal','anthracite','coking_coal','other_bituminous_coal','brown_coal','sub_bituminous_coal','lignite','peat','oil_shale_oil_sands','coke_oven_coke','gas_coke','patent_fuel','brown_coal_briquettes','peat_products','coal_tar','other_coal_products']\n",
    "Natural_Manufactured_Recovered_Gas_Class = ['natural_gas_including_lng','gasworks_gas','coke_oven_gas','blast_furnace_gas','other_recovered_gases']\n",
    "Electricity_Class = ['electricity_net_installed_capacity_of_electric_power_plants','electricity', 'hydro','nuclear_electricity','solar_electricity','thermal_electricity','tide_wave_and_ocean_electricity','total_electricity','total_refinery_output','wind_electricity','falling_water','geothermal']\n",
    "Heat_Class = ['heat','direct_use_of_geothermal_heat','direct_use_of_solar_thermal_heat']\n",
    "Biofuels_Waste_Class = ['fuelwood','charcoal','bagasse','animal_waste','other_vegetal_material_and_residues','municipal_wastes','industrial_waste','black_liquor','biogasoline','biodiesels','bio_jet_kerosene','other_liquid_biofuels','biogases','uranium']\n"
   ]
  },
  {
   "cell_type": "code",
   "execution_count": 19,
   "metadata": {
    "hidden": true
   },
   "outputs": [
    {
     "data": {
      "text/plain": [
       "country_or_area                      yugoslavia, sfr (former)\n",
       "commodity_transaction    natural gas (including lng) - vented\n",
       "year                                                     2014\n",
       "unit                                               Terajoules\n",
       "quantity                                          2.12782e+09\n",
       "product                             natural_gas_including_lng\n",
       "product_class                                                \n",
       "dtype: object"
      ]
     },
     "execution_count": 19,
     "metadata": {},
     "output_type": "execute_result"
    }
   ],
   "source": [
    "energy_df.loc[energy_df[\"product\"] == \"natural_gas_including_lng\"].max()"
   ]
  },
  {
   "cell_type": "code",
   "execution_count": 20,
   "metadata": {
    "hidden": true
   },
   "outputs": [],
   "source": [
    "energy_dict = energy_df.to_dict()"
   ]
  },
  {
   "cell_type": "code",
   "execution_count": 21,
   "metadata": {
    "hidden": true
   },
   "outputs": [],
   "source": [
    "def product_class(x,y):\n",
    "    for product in energy_dict['product']:\n",
    "        for products in x:\n",
    "            if energy_dict['product'][product] == products:\n",
    "                energy_dict['product_class'][product] = y"
   ]
  },
  {
   "cell_type": "code",
   "execution_count": 22,
   "metadata": {
    "hidden": true
   },
   "outputs": [],
   "source": [
    "product_class(Oil_Class, 'Oil')\n",
    "product_class(Coal_Peat_Oil_Shales_Class, 'Coal_Peat_or_Oil_Shales')\n",
    "product_class(Natural_Manufactured_Recovered_Gas_Class, 'Natural_Manufactured_or_Recovered_Gas')\n",
    "product_class(Electricity_Class, 'Electricity')\n",
    "product_class(Heat_Class, 'Heat')\n",
    "product_class(Biofuels_Waste_Class, \"Biofuels_Waste\")"
   ]
  },
  {
   "cell_type": "code",
   "execution_count": 23,
   "metadata": {
    "hidden": true
   },
   "outputs": [
    {
     "name": "stdout",
     "output_type": "stream",
     "text": [
      "Oil\n",
      "Coal_Peat_or_Oil_Shales\n",
      "Natural_Manufactured_or_Recovered_Gas\n",
      "Electricity\n",
      "Heat\n",
      "Biofuels_Waste\n"
     ]
    }
   ],
   "source": [
    "# checking to see if function works\n",
    "print(energy_dict['product_class'][170962])\n",
    "print(energy_dict['product_class'][170960])\n",
    "print(energy_dict['product_class'][84807])\n",
    "print(energy_dict['product_class'][204398])\n",
    "print(energy_dict['product_class'][198314])\n",
    "print(energy_dict['product_class'][332737])"
   ]
  },
  {
   "cell_type": "code",
   "execution_count": 24,
   "metadata": {
    "hidden": true
   },
   "outputs": [],
   "source": [
    "# check to ensure no empty strings\n",
    "for product in energy_dict['product_class']:\n",
    "    if energy_dict['product_class'][product] == '':\n",
    "        print(energy_dict['product'][product])\n"
   ]
  },
  {
   "cell_type": "code",
   "execution_count": 25,
   "metadata": {
    "hidden": true
   },
   "outputs": [],
   "source": [
    "energy_df = pd.DataFrame.from_dict(energy_dict)"
   ]
  },
  {
   "cell_type": "code",
   "execution_count": 26,
   "metadata": {
    "hidden": true
   },
   "outputs": [
    {
     "data": {
      "text/html": [
       "<div>\n",
       "<style scoped>\n",
       "    .dataframe tbody tr th:only-of-type {\n",
       "        vertical-align: middle;\n",
       "    }\n",
       "\n",
       "    .dataframe tbody tr th {\n",
       "        vertical-align: top;\n",
       "    }\n",
       "\n",
       "    .dataframe thead th {\n",
       "        text-align: right;\n",
       "    }\n",
       "</style>\n",
       "<table border=\"1\" class=\"dataframe\">\n",
       "  <thead>\n",
       "    <tr style=\"text-align: right;\">\n",
       "      <th></th>\n",
       "      <th>country_or_area</th>\n",
       "      <th>commodity_transaction</th>\n",
       "      <th>year</th>\n",
       "      <th>unit</th>\n",
       "      <th>quantity</th>\n",
       "      <th>product</th>\n",
       "      <th>product_class</th>\n",
       "    </tr>\n",
       "  </thead>\n",
       "  <tbody>\n",
       "    <tr>\n",
       "      <td>1189477</td>\n",
       "      <td>viet nam</td>\n",
       "      <td>electricity - total wind production</td>\n",
       "      <td>2012</td>\n",
       "      <td>Kilowatt-hours, million</td>\n",
       "      <td>92.0</td>\n",
       "      <td>wind_electricity</td>\n",
       "      <td>Electricity</td>\n",
       "    </tr>\n",
       "    <tr>\n",
       "      <td>1189478</td>\n",
       "      <td>viet nam</td>\n",
       "      <td>electricity - total wind production</td>\n",
       "      <td>2011</td>\n",
       "      <td>Kilowatt-hours, million</td>\n",
       "      <td>87.0</td>\n",
       "      <td>wind_electricity</td>\n",
       "      <td>Electricity</td>\n",
       "    </tr>\n",
       "    <tr>\n",
       "      <td>1189479</td>\n",
       "      <td>viet nam</td>\n",
       "      <td>electricity - total wind production</td>\n",
       "      <td>2010</td>\n",
       "      <td>Kilowatt-hours, million</td>\n",
       "      <td>50.0</td>\n",
       "      <td>wind_electricity</td>\n",
       "      <td>Electricity</td>\n",
       "    </tr>\n",
       "    <tr>\n",
       "      <td>1189480</td>\n",
       "      <td>viet nam</td>\n",
       "      <td>electricity - total wind production</td>\n",
       "      <td>2009</td>\n",
       "      <td>Kilowatt-hours, million</td>\n",
       "      <td>10.0</td>\n",
       "      <td>wind_electricity</td>\n",
       "      <td>Electricity</td>\n",
       "    </tr>\n",
       "    <tr>\n",
       "      <td>1189481</td>\n",
       "      <td>viet nam</td>\n",
       "      <td>electricity - total wind production</td>\n",
       "      <td>2008</td>\n",
       "      <td>Kilowatt-hours, million</td>\n",
       "      <td>1.0</td>\n",
       "      <td>wind_electricity</td>\n",
       "      <td>Electricity</td>\n",
       "    </tr>\n",
       "  </tbody>\n",
       "</table>\n",
       "</div>"
      ],
      "text/plain": [
       "        country_or_area                commodity_transaction  year  \\\n",
       "1189477        viet nam  electricity - total wind production  2012   \n",
       "1189478        viet nam  electricity - total wind production  2011   \n",
       "1189479        viet nam  electricity - total wind production  2010   \n",
       "1189480        viet nam  electricity - total wind production  2009   \n",
       "1189481        viet nam  electricity - total wind production  2008   \n",
       "\n",
       "                            unit  quantity           product product_class  \n",
       "1189477  Kilowatt-hours, million      92.0  wind_electricity   Electricity  \n",
       "1189478  Kilowatt-hours, million      87.0  wind_electricity   Electricity  \n",
       "1189479  Kilowatt-hours, million      50.0  wind_electricity   Electricity  \n",
       "1189480  Kilowatt-hours, million      10.0  wind_electricity   Electricity  \n",
       "1189481  Kilowatt-hours, million       1.0  wind_electricity   Electricity  "
      ]
     },
     "execution_count": 26,
     "metadata": {},
     "output_type": "execute_result"
    }
   ],
   "source": [
    "energy_df.tail()"
   ]
  },
  {
   "cell_type": "code",
   "execution_count": 27,
   "metadata": {
    "hidden": true
   },
   "outputs": [],
   "source": [
    "# create dataframe for each of the product classes\n",
    "Oil_df = energy_df[energy_df['product_class'] == 'Oil']\n",
    "Coal_Peat_or_Oil_Shales_df = energy_df[energy_df['product_class'] == 'Coal_Peat_or_Oil_Shales']\n",
    "Natural_Manufactured_or_Recovered_Gas_df = energy_df[energy_df['product_class'] == 'Natural_Manufactured_or_Recovered_Gas']\n",
    "Electricity_df = energy_df[energy_df['product_class'] == 'Electricity']\n",
    "Heat_df = energy_df[energy_df['product_class'] == 'Heat']\n",
    "Biofuels_Waste_df = energy_df[energy_df['product_class'] == 'Biofuels_Waste']\n"
   ]
  },
  {
   "cell_type": "code",
   "execution_count": 28,
   "metadata": {
    "hidden": true
   },
   "outputs": [
    {
     "name": "stdout",
     "output_type": "stream",
     "text": [
      "['Metric tons,  thousand']\n",
      "['Metric tons,  thousand' 'Terajoules']\n",
      "['Terajoules']\n",
      "['Kilowatts,  thousand' 'Kilowatt-hours, million' 'Metric tons,  thousand']\n",
      "['Terajoules']\n",
      "['Terajoules' 'Metric tons,  thousand' 'Cubic metres, thousand'\n",
      " 'Metric Tons']\n"
     ]
    }
   ],
   "source": [
    "# find all unique units from each dataframe to ensure all comparisons are valid\n",
    "\n",
    "print(Oil_df.unit.unique())\n",
    "print(Coal_Peat_or_Oil_Shales_df.unit.unique())\n",
    "print(Natural_Manufactured_or_Recovered_Gas_df.unit.unique())\n",
    "print(Electricity_df.unit.unique())\n",
    "print(Heat_df.unit.unique())\n",
    "print(Biofuels_Waste_df.unit.unique())\n"
   ]
  },
  {
   "cell_type": "code",
   "execution_count": 29,
   "metadata": {
    "hidden": true
   },
   "outputs": [],
   "source": [
    "# Oil, Natural Gas, and Heat dataframes all have one unit of measure\n",
    "# Coal Peat and Shale has mass and energy units of measure, respectively\n",
    "# Electricity has power, energy, and mass units of measure, respectivey\n",
    "# Biofuels and Waste has energy, two mass units (separated by 3 orders of magnitude), and volume units of measure, respectivey"
   ]
  },
  {
   "cell_type": "markdown",
   "metadata": {
    "heading_collapsed": true
   },
   "source": [
    "# Oil Global Production"
   ]
  },
  {
   "cell_type": "code",
   "execution_count": 149,
   "metadata": {
    "hidden": true
   },
   "outputs": [
    {
     "data": {
      "text/html": [
       "<div>\n",
       "<style scoped>\n",
       "    .dataframe tbody tr th:only-of-type {\n",
       "        vertical-align: middle;\n",
       "    }\n",
       "\n",
       "    .dataframe tbody tr th {\n",
       "        vertical-align: top;\n",
       "    }\n",
       "\n",
       "    .dataframe thead th {\n",
       "        text-align: right;\n",
       "    }\n",
       "</style>\n",
       "<table border=\"1\" class=\"dataframe\">\n",
       "  <thead>\n",
       "    <tr style=\"text-align: right;\">\n",
       "      <th></th>\n",
       "      <th>country_or_area</th>\n",
       "      <th>commodity_transaction</th>\n",
       "      <th>year</th>\n",
       "      <th>unit</th>\n",
       "      <th>quantity</th>\n",
       "      <th>product</th>\n",
       "      <th>product_class</th>\n",
       "    </tr>\n",
       "  </thead>\n",
       "  <tbody>\n",
       "    <tr>\n",
       "      <td>0</td>\n",
       "      <td>austria</td>\n",
       "      <td>additives and oxygenates - exports</td>\n",
       "      <td>1996</td>\n",
       "      <td>Metric tons,  thousand</td>\n",
       "      <td>5.0</td>\n",
       "      <td>additives_and_oxygenates</td>\n",
       "      <td>Oil</td>\n",
       "    </tr>\n",
       "    <tr>\n",
       "      <td>1</td>\n",
       "      <td>austria</td>\n",
       "      <td>additives and oxygenates - exports</td>\n",
       "      <td>1995</td>\n",
       "      <td>Metric tons,  thousand</td>\n",
       "      <td>17.0</td>\n",
       "      <td>additives_and_oxygenates</td>\n",
       "      <td>Oil</td>\n",
       "    </tr>\n",
       "    <tr>\n",
       "      <td>2</td>\n",
       "      <td>belgium</td>\n",
       "      <td>additives and oxygenates - exports</td>\n",
       "      <td>2014</td>\n",
       "      <td>Metric tons,  thousand</td>\n",
       "      <td>0.0</td>\n",
       "      <td>additives_and_oxygenates</td>\n",
       "      <td>Oil</td>\n",
       "    </tr>\n",
       "    <tr>\n",
       "      <td>3</td>\n",
       "      <td>belgium</td>\n",
       "      <td>additives and oxygenates - exports</td>\n",
       "      <td>2013</td>\n",
       "      <td>Metric tons,  thousand</td>\n",
       "      <td>0.0</td>\n",
       "      <td>additives_and_oxygenates</td>\n",
       "      <td>Oil</td>\n",
       "    </tr>\n",
       "    <tr>\n",
       "      <td>4</td>\n",
       "      <td>belgium</td>\n",
       "      <td>additives and oxygenates - exports</td>\n",
       "      <td>2012</td>\n",
       "      <td>Metric tons,  thousand</td>\n",
       "      <td>35.0</td>\n",
       "      <td>additives_and_oxygenates</td>\n",
       "      <td>Oil</td>\n",
       "    </tr>\n",
       "  </tbody>\n",
       "</table>\n",
       "</div>"
      ],
      "text/plain": [
       "  country_or_area               commodity_transaction  year  \\\n",
       "0         austria  additives and oxygenates - exports  1996   \n",
       "1         austria  additives and oxygenates - exports  1995   \n",
       "2         belgium  additives and oxygenates - exports  2014   \n",
       "3         belgium  additives and oxygenates - exports  2013   \n",
       "4         belgium  additives and oxygenates - exports  2012   \n",
       "\n",
       "                     unit  quantity                   product product_class  \n",
       "0  Metric tons,  thousand       5.0  additives_and_oxygenates           Oil  \n",
       "1  Metric tons,  thousand      17.0  additives_and_oxygenates           Oil  \n",
       "2  Metric tons,  thousand       0.0  additives_and_oxygenates           Oil  \n",
       "3  Metric tons,  thousand       0.0  additives_and_oxygenates           Oil  \n",
       "4  Metric tons,  thousand      35.0  additives_and_oxygenates           Oil  "
      ]
     },
     "execution_count": 149,
     "metadata": {},
     "output_type": "execute_result"
    }
   ],
   "source": [
    "Oil_df.head()"
   ]
  },
  {
   "cell_type": "code",
   "execution_count": null,
   "metadata": {
    "hidden": true
   },
   "outputs": [],
   "source": []
  },
  {
   "cell_type": "code",
   "execution_count": 150,
   "metadata": {
    "hidden": true
   },
   "outputs": [],
   "source": [
    "oil_production = Oil_df[Oil_df['commodity_transaction'].str.contains(\"production\")]\n",
    "total_oil_production = oil_production.groupby(['product']).sum().round(2).drop(['year'], axis=1)\n",
    "total_oil_production = total_oil_production.reset_index()"
   ]
  },
  {
   "cell_type": "code",
   "execution_count": 151,
   "metadata": {
    "hidden": true
   },
   "outputs": [],
   "source": [
    "total_oil_production = total_oil_production.sort_values(by=['quantity'], ascending=False)"
   ]
  },
  {
   "cell_type": "code",
   "execution_count": 152,
   "metadata": {
    "hidden": true
   },
   "outputs": [
    {
     "data": {
      "text/html": [
       "<div>\n",
       "<style scoped>\n",
       "    .dataframe tbody tr th:only-of-type {\n",
       "        vertical-align: middle;\n",
       "    }\n",
       "\n",
       "    .dataframe tbody tr th {\n",
       "        vertical-align: top;\n",
       "    }\n",
       "\n",
       "    .dataframe thead th {\n",
       "        text-align: right;\n",
       "    }\n",
       "</style>\n",
       "<table border=\"1\" class=\"dataframe\">\n",
       "  <thead>\n",
       "    <tr style=\"text-align: right;\">\n",
       "      <th></th>\n",
       "      <th>product</th>\n",
       "      <th>quantity</th>\n",
       "    </tr>\n",
       "  </thead>\n",
       "  <tbody>\n",
       "    <tr>\n",
       "      <td>4</td>\n",
       "      <td>conventional_crude_oil</td>\n",
       "      <td>96172650.96</td>\n",
       "    </tr>\n",
       "    <tr>\n",
       "      <td>7</td>\n",
       "      <td>gas_oil_diesel_oil</td>\n",
       "      <td>53411371.26</td>\n",
       "    </tr>\n",
       "    <tr>\n",
       "      <td>12</td>\n",
       "      <td>motor_gasoline</td>\n",
       "      <td>42220638.45</td>\n",
       "    </tr>\n",
       "    <tr>\n",
       "      <td>6</td>\n",
       "      <td>fuel_oil</td>\n",
       "      <td>30293930.90</td>\n",
       "    </tr>\n",
       "    <tr>\n",
       "      <td>9</td>\n",
       "      <td>kerosene_type_jet_fuel</td>\n",
       "      <td>10406187.94</td>\n",
       "    </tr>\n",
       "  </tbody>\n",
       "</table>\n",
       "</div>"
      ],
      "text/plain": [
       "                   product     quantity\n",
       "4   conventional_crude_oil  96172650.96\n",
       "7       gas_oil_diesel_oil  53411371.26\n",
       "12          motor_gasoline  42220638.45\n",
       "6                 fuel_oil  30293930.90\n",
       "9   kerosene_type_jet_fuel  10406187.94"
      ]
     },
     "execution_count": 152,
     "metadata": {},
     "output_type": "execute_result"
    }
   ],
   "source": [
    "total_oil_production.head()"
   ]
  },
  {
   "cell_type": "code",
   "execution_count": 191,
   "metadata": {
    "hidden": true
   },
   "outputs": [
    {
     "data": {
      "image/png": "[encoded data removed]",
      "text/plain": [
       "<Figure size 1080x360 with 1 Axes>"
      ]
     },
     "metadata": {
      "needs_background": "light"
     },
     "output_type": "display_data"
    }
   ],
   "source": [
    "oil_products = total_oil_production['product']\n",
    "oil_quantity = total_oil_production['quantity']*1000\n",
    "\n",
    "fig, ax1 = plt.subplots(figsize=(15,5))\n",
    "\n",
    "\n",
    "ax1.bar(oil_products, oil_quantity, color='blue')\n",
    "ax1.tick_params('x', labelrotation=90)\n",
    "ax1.tick_params('y', pad=8)\n",
    "ax1.set_xlabel('products', fontsize=12)\n",
    "ax1.set_ylabel('Produced Material (Metric Tons)', fontsize=12)\n",
    "ax1.set_title('Total Global Prodution of Products form 1990-2014', fontsize=18)\n",
    "ax1.set_yscale('log')\n",
    "\n"
   ]
  },
  {
   "cell_type": "code",
   "execution_count": null,
   "metadata": {
    "hidden": true
   },
   "outputs": [],
   "source": [
    "# Lets look at the top produced materials over time"
   ]
  },
  {
   "cell_type": "code",
   "execution_count": 266,
   "metadata": {
    "hidden": true
   },
   "outputs": [
    {
     "data": {
      "text/plain": [
       "array(['additives and oxygenates - production',\n",
       "       'aviation gasoline - production',\n",
       "       'aviation gasoline - production from plants',\n",
       "       'aviation gasoline - production from refineries',\n",
       "       'biodiesel - production', 'bitumen - production',\n",
       "       'bitumen - production from plants',\n",
       "       'bitumen - production from refineries',\n",
       "       'conventional crude oil - production',\n",
       "       'conventional crude oil - production from off-shore',\n",
       "       'ethane - production', 'ethane - production from plants',\n",
       "       'ethane - production from refineries', 'fuel oil - production',\n",
       "       'fuel oil - production from plants',\n",
       "       'fuel oil - production from refineries',\n",
       "       'gas oil/ diesel oil - production',\n",
       "       'gas oil/ diesel oil - production from plants',\n",
       "       'gas oil/ diesel oil - production from refineries',\n",
       "       'gasoline-type jet fuel - production',\n",
       "       'gasoline-type jet fuel - production from refineries',\n",
       "       'kerosene-type jet fuel - production',\n",
       "       'kerosene-type jet fuel - production from refineries',\n",
       "       'liquefied petroleum gas (lpg) - production',\n",
       "       'liquefied petroleum gas (lpg) - production from plants',\n",
       "       'liquefied petroleum gas (lpg) - production from refineries',\n",
       "       'lubricants - production',\n",
       "       'lubricants - production from refineries',\n",
       "       'motor gasoline - production',\n",
       "       'motor gasoline - production from plants',\n",
       "       'motor gasoline - production from refineries',\n",
       "       'naphtha - production', 'naphtha - production from plants',\n",
       "       'naphtha - production from refineries',\n",
       "       'natural gas liquids - production',\n",
       "       'other hydrocarbons - production', 'other kerosene - production',\n",
       "       'other kerosene - production from plants',\n",
       "       'other kerosene - production from refineries',\n",
       "       'other oil products n.e.c. - production',\n",
       "       'other oil products n.e.c. - production from plants',\n",
       "       'other oil products n.e.c. - production from refineries',\n",
       "       'paraffin waxes - production',\n",
       "       'paraffin waxes - production from refineries',\n",
       "       'petroleum coke - production',\n",
       "       'petroleum coke - production from refineries',\n",
       "       'feedstocks - production',\n",
       "       'feedstocks - production from refineries',\n",
       "       'refinery gas - production',\n",
       "       'refinery gas - production from refineries',\n",
       "       'white spirit and special boiling point industrial spirits - production',\n",
       "       'white spirit and special boiling point industrial spirits - production from plants',\n",
       "       'white spirit and special boiling point industrial spirits - production from refineries'],\n",
       "      dtype=object)"
      ]
     },
     "execution_count": 266,
     "metadata": {},
     "output_type": "execute_result"
    }
   ],
   "source": [
    "oil_production.commodity_transaction.unique()"
   ]
  },
  {
   "cell_type": "code",
   "execution_count": 245,
   "metadata": {
    "hidden": true
   },
   "outputs": [],
   "source": [
    "conventional_crude_oil_production = oil_production[oil_production['product'].str.contains(\"conventional\")].sort_values('year').groupby(['year']).sum().round(3).reset_index()\n",
    "gas_oil_diesel_oil_production = oil_production[oil_production['product'].str.contains(\"gas_oil\")].sort_values('year').groupby(['year']).sum().round(3).reset_index()\n",
    "motor_gasoline_production = oil_production[oil_production['product'].str.contains(\"motor\")].sort_values('year').groupby(['year']).sum().round(3).reset_index()\n",
    "fuel_oil_production = oil_production[oil_production['product'].str.contains(\"fuel_oil\")].sort_values('year').groupby(['year']).sum().round(3).reset_index()\n",
    "\n",
    "kerosene_jet_fuel_production = oil_production[oil_production['commodity_transaction'].str.contains(\"kerosene-type\")].sort_values('year').groupby(['year']).sum().round(3).reset_index()\n",
    "naphtha_production = oil_production[oil_production['commodity_transaction'].str.contains(\"naphtha\")].sort_values('year').groupby(['year']).sum().round(3).reset_index()\n",
    "liquefied_petroleum_gas_production = oil_production[oil_production['commodity_transaction'].str.contains(\"liquefied\")].sort_values('year').groupby(['year']).sum().round(3).reset_index()\n",
    "natural_gas_liquids_production = oil_production[oil_production['commodity_transaction'].str.contains(\"liquids\")].sort_values('year').groupby(['year']).sum().round(3).reset_index()"
   ]
  },
  {
   "cell_type": "code",
   "execution_count": 251,
   "metadata": {
    "hidden": true
   },
   "outputs": [
    {
     "data": {
      "image/png": "[encoded data removed]",
      "text/plain": [
       "<Figure size 1080x720 with 1 Axes>"
      ]
     },
     "metadata": {
      "needs_background": "light"
     },
     "output_type": "display_data"
    }
   ],
   "source": [
    "time = conventional_crude_oil_production['year']\n",
    "conventional_crude_oil = conventional_crude_oil_production['quantity']*1000\n",
    "gas_and_diesel_oil = gas_oil_diesel_oil_production['quantity']*1000\n",
    "motor_gasoline = motor_gasoline_production['quantity']*1000\n",
    "fuel_oil = fuel_oil_production['quantity']*1000\n",
    "kerosene_jet_fuel = kerosene_jet_fuel_production['quantity']*1000\n",
    "naphtha = naphtha_production['quantity']*1000\n",
    "liquefied_petroleum_gas = liquefied_petroleum_gas_production['quantity']*1000\n",
    "natural_gas_liquids = natural_gas_liquids_production['quantity']*1000\n",
    "\n",
    "\n",
    "fig, ax = plt.subplots(figsize = (15,10))\n",
    "\n",
    "\n",
    "ax.plot(time, conventional_crude_oil, label='conventional crude oil')\n",
    "ax.plot(time, gas_and_diesel_oil, label='gas and diesel oil', color = 'red')\n",
    "ax.plot(time, motor_gasoline, label='motor gasoline')\n",
    "ax.plot(time, fuel_oil, label='fuel oil')\n",
    "ax.plot(time, kerosene_jet_fuel, label='kerosene jet fuel', color='brown')\n",
    "ax.plot(time, naphtha, label='naphtha', color='C9')\n",
    "ax.plot(time, liquefied_petroleum_gas, label='liquefied petroleum gas', color='black')\n",
    "ax.plot(time, natural_gas_liquids, label='natural gas liquids', color='purple')\n",
    "# ax.ticklabel_format(scilimits= [3,3])\n",
    "\n",
    "ax.legend()\n",
    "ax.set_xlabel('year', fontsize=14)\n",
    "ax.set_ylabel('Production (Metric tons, thousands)', fontsize=14)\n",
    "ax.set_title('Total Global Production of Coal, Peat, and Oil Shal Products from 1990-2014', fontsize=18)\n",
    "\n",
    "\n",
    "\n",
    "plt.show()\n",
    "\n"
   ]
  },
  {
   "cell_type": "code",
   "execution_count": null,
   "metadata": {
    "hidden": true
   },
   "outputs": [],
   "source": []
  },
  {
   "cell_type": "markdown",
   "metadata": {
    "heading_collapsed": true
   },
   "source": [
    "# Coal Peat and Oil Shale Global Production"
   ]
  },
  {
   "cell_type": "code",
   "execution_count": 35,
   "metadata": {
    "hidden": true
   },
   "outputs": [
    {
     "data": {
      "text/html": [
       "<div>\n",
       "<style scoped>\n",
       "    .dataframe tbody tr th:only-of-type {\n",
       "        vertical-align: middle;\n",
       "    }\n",
       "\n",
       "    .dataframe tbody tr th {\n",
       "        vertical-align: top;\n",
       "    }\n",
       "\n",
       "    .dataframe thead th {\n",
       "        text-align: right;\n",
       "    }\n",
       "</style>\n",
       "<table border=\"1\" class=\"dataframe\">\n",
       "  <thead>\n",
       "    <tr style=\"text-align: right;\">\n",
       "      <th></th>\n",
       "      <th>country_or_area</th>\n",
       "      <th>commodity_transaction</th>\n",
       "      <th>year</th>\n",
       "      <th>unit</th>\n",
       "      <th>quantity</th>\n",
       "      <th>product</th>\n",
       "      <th>product_class</th>\n",
       "    </tr>\n",
       "  </thead>\n",
       "  <tbody>\n",
       "    <tr>\n",
       "      <td>4940</td>\n",
       "      <td>bulgaria</td>\n",
       "      <td>anthracite - commerce and public services</td>\n",
       "      <td>2014</td>\n",
       "      <td>Metric tons,  thousand</td>\n",
       "      <td>2.0</td>\n",
       "      <td>anthracite</td>\n",
       "      <td>Coal_Peat_or_Oil_Shales</td>\n",
       "    </tr>\n",
       "    <tr>\n",
       "      <td>4941</td>\n",
       "      <td>bulgaria</td>\n",
       "      <td>anthracite - commerce and public services</td>\n",
       "      <td>2013</td>\n",
       "      <td>Metric tons,  thousand</td>\n",
       "      <td>4.0</td>\n",
       "      <td>anthracite</td>\n",
       "      <td>Coal_Peat_or_Oil_Shales</td>\n",
       "    </tr>\n",
       "    <tr>\n",
       "      <td>4942</td>\n",
       "      <td>bulgaria</td>\n",
       "      <td>anthracite - commerce and public services</td>\n",
       "      <td>2012</td>\n",
       "      <td>Metric tons,  thousand</td>\n",
       "      <td>2.0</td>\n",
       "      <td>anthracite</td>\n",
       "      <td>Coal_Peat_or_Oil_Shales</td>\n",
       "    </tr>\n",
       "    <tr>\n",
       "      <td>4943</td>\n",
       "      <td>bulgaria</td>\n",
       "      <td>anthracite - commerce and public services</td>\n",
       "      <td>2011</td>\n",
       "      <td>Metric tons,  thousand</td>\n",
       "      <td>2.0</td>\n",
       "      <td>anthracite</td>\n",
       "      <td>Coal_Peat_or_Oil_Shales</td>\n",
       "    </tr>\n",
       "    <tr>\n",
       "      <td>4944</td>\n",
       "      <td>bulgaria</td>\n",
       "      <td>anthracite - commerce and public services</td>\n",
       "      <td>2010</td>\n",
       "      <td>Metric tons,  thousand</td>\n",
       "      <td>2.0</td>\n",
       "      <td>anthracite</td>\n",
       "      <td>Coal_Peat_or_Oil_Shales</td>\n",
       "    </tr>\n",
       "  </tbody>\n",
       "</table>\n",
       "</div>"
      ],
      "text/plain": [
       "     country_or_area                      commodity_transaction  year  \\\n",
       "4940        bulgaria  anthracite - commerce and public services  2014   \n",
       "4941        bulgaria  anthracite - commerce and public services  2013   \n",
       "4942        bulgaria  anthracite - commerce and public services  2012   \n",
       "4943        bulgaria  anthracite - commerce and public services  2011   \n",
       "4944        bulgaria  anthracite - commerce and public services  2010   \n",
       "\n",
       "                        unit  quantity     product            product_class  \n",
       "4940  Metric tons,  thousand       2.0  anthracite  Coal_Peat_or_Oil_Shales  \n",
       "4941  Metric tons,  thousand       4.0  anthracite  Coal_Peat_or_Oil_Shales  \n",
       "4942  Metric tons,  thousand       2.0  anthracite  Coal_Peat_or_Oil_Shales  \n",
       "4943  Metric tons,  thousand       2.0  anthracite  Coal_Peat_or_Oil_Shales  \n",
       "4944  Metric tons,  thousand       2.0  anthracite  Coal_Peat_or_Oil_Shales  "
      ]
     },
     "execution_count": 35,
     "metadata": {},
     "output_type": "execute_result"
    }
   ],
   "source": [
    "Coal_Peat_or_Oil_Shales_df.head()"
   ]
  },
  {
   "cell_type": "code",
   "execution_count": 258,
   "metadata": {
    "hidden": true
   },
   "outputs": [
    {
     "data": {
      "text/plain": [
       "array(['anthracite - production'], dtype=object)"
      ]
     },
     "execution_count": 258,
     "metadata": {},
     "output_type": "execute_result"
    }
   ],
   "source": [
    "# find total energy supply for each product in Coal_Peat_Oil_Shale(CPO) Class\n"
   ]
  },
  {
   "cell_type": "code",
   "execution_count": 37,
   "metadata": {
    "hidden": true
   },
   "outputs": [],
   "source": [
    "cpo_production = Coal_Peat_or_Oil_Shales_df[Coal_Peat_or_Oil_Shales_df['commodity_transaction'].str.contains(\"production\")]"
   ]
  },
  {
   "cell_type": "code",
   "execution_count": 38,
   "metadata": {
    "hidden": true
   },
   "outputs": [
    {
     "data": {
      "text/html": [
       "<div>\n",
       "<style scoped>\n",
       "    .dataframe tbody tr th:only-of-type {\n",
       "        vertical-align: middle;\n",
       "    }\n",
       "\n",
       "    .dataframe tbody tr th {\n",
       "        vertical-align: top;\n",
       "    }\n",
       "\n",
       "    .dataframe thead th {\n",
       "        text-align: right;\n",
       "    }\n",
       "</style>\n",
       "<table border=\"1\" class=\"dataframe\">\n",
       "  <thead>\n",
       "    <tr style=\"text-align: right;\">\n",
       "      <th></th>\n",
       "      <th>country_or_area</th>\n",
       "      <th>commodity_transaction</th>\n",
       "      <th>year</th>\n",
       "      <th>unit</th>\n",
       "      <th>quantity</th>\n",
       "      <th>product</th>\n",
       "      <th>product_class</th>\n",
       "    </tr>\n",
       "  </thead>\n",
       "  <tbody>\n",
       "    <tr>\n",
       "      <td>8430</td>\n",
       "      <td>australia</td>\n",
       "      <td>anthracite - production</td>\n",
       "      <td>2014</td>\n",
       "      <td>Metric tons,  thousand</td>\n",
       "      <td>14.0</td>\n",
       "      <td>anthracite</td>\n",
       "      <td>Coal_Peat_or_Oil_Shales</td>\n",
       "    </tr>\n",
       "    <tr>\n",
       "      <td>8431</td>\n",
       "      <td>australia</td>\n",
       "      <td>anthracite - production</td>\n",
       "      <td>2013</td>\n",
       "      <td>Metric tons,  thousand</td>\n",
       "      <td>361.0</td>\n",
       "      <td>anthracite</td>\n",
       "      <td>Coal_Peat_or_Oil_Shales</td>\n",
       "    </tr>\n",
       "    <tr>\n",
       "      <td>8432</td>\n",
       "      <td>australia</td>\n",
       "      <td>anthracite - production</td>\n",
       "      <td>2012</td>\n",
       "      <td>Metric tons,  thousand</td>\n",
       "      <td>578.0</td>\n",
       "      <td>anthracite</td>\n",
       "      <td>Coal_Peat_or_Oil_Shales</td>\n",
       "    </tr>\n",
       "    <tr>\n",
       "      <td>8433</td>\n",
       "      <td>australia</td>\n",
       "      <td>anthracite - production</td>\n",
       "      <td>2011</td>\n",
       "      <td>Metric tons,  thousand</td>\n",
       "      <td>604.0</td>\n",
       "      <td>anthracite</td>\n",
       "      <td>Coal_Peat_or_Oil_Shales</td>\n",
       "    </tr>\n",
       "    <tr>\n",
       "      <td>8434</td>\n",
       "      <td>australia</td>\n",
       "      <td>anthracite - production</td>\n",
       "      <td>2010</td>\n",
       "      <td>Metric tons,  thousand</td>\n",
       "      <td>329.0</td>\n",
       "      <td>anthracite</td>\n",
       "      <td>Coal_Peat_or_Oil_Shales</td>\n",
       "    </tr>\n",
       "  </tbody>\n",
       "</table>\n",
       "</div>"
      ],
      "text/plain": [
       "     country_or_area    commodity_transaction  year                    unit  \\\n",
       "8430       australia  anthracite - production  2014  Metric tons,  thousand   \n",
       "8431       australia  anthracite - production  2013  Metric tons,  thousand   \n",
       "8432       australia  anthracite - production  2012  Metric tons,  thousand   \n",
       "8433       australia  anthracite - production  2011  Metric tons,  thousand   \n",
       "8434       australia  anthracite - production  2010  Metric tons,  thousand   \n",
       "\n",
       "      quantity     product            product_class  \n",
       "8430      14.0  anthracite  Coal_Peat_or_Oil_Shales  \n",
       "8431     361.0  anthracite  Coal_Peat_or_Oil_Shales  \n",
       "8432     578.0  anthracite  Coal_Peat_or_Oil_Shales  \n",
       "8433     604.0  anthracite  Coal_Peat_or_Oil_Shales  \n",
       "8434     329.0  anthracite  Coal_Peat_or_Oil_Shales  "
      ]
     },
     "execution_count": 38,
     "metadata": {},
     "output_type": "execute_result"
    }
   ],
   "source": [
    "cpo_production.head()"
   ]
  },
  {
   "cell_type": "code",
   "execution_count": 39,
   "metadata": {
    "hidden": true
   },
   "outputs": [
    {
     "data": {
      "text/plain": [
       "array(['Metric tons,  thousand', 'Terajoules'], dtype=object)"
      ]
     },
     "execution_count": 39,
     "metadata": {},
     "output_type": "execute_result"
    }
   ],
   "source": [
    "cpo_production.unit.unique()\n",
    "# Need to separate produced products measured in Metric tons form Terajoules or convert Terajoules of energy to Metric tons"
   ]
  },
  {
   "cell_type": "code",
   "execution_count": 40,
   "metadata": {
    "hidden": true
   },
   "outputs": [],
   "source": [
    "cpo_production_energy = cpo_production[cpo_production['unit'] == 'Terajoules']"
   ]
  },
  {
   "cell_type": "code",
   "execution_count": 41,
   "metadata": {
    "hidden": true
   },
   "outputs": [],
   "source": [
    "cpo_production_material = cpo_production[cpo_production['unit'] == 'Metric tons,  thousand']"
   ]
  },
  {
   "cell_type": "code",
   "execution_count": 42,
   "metadata": {
    "hidden": true
   },
   "outputs": [
    {
     "data": {
      "text/plain": [
       "array(['coke oven gas - production'], dtype=object)"
      ]
     },
     "execution_count": 42,
     "metadata": {},
     "output_type": "execute_result"
    }
   ],
   "source": [
    "cpo_production_energy.commodity_transaction.unique()\n",
    "# There is only one product that is reported in terms of energy. \n",
    "# Coke oven gas is formed by heating coal to 1100 °C without access of air. The classic composition of coke gas: \n",
    "# hydrogen (H2 - 51%), methane (CH4 - 34%), carbon monoxide (CO - 10%), ethylene (C2H4 - 5%)"
   ]
  },
  {
   "cell_type": "code",
   "execution_count": 43,
   "metadata": {
    "hidden": true
   },
   "outputs": [
    {
     "data": {
      "text/plain": [
       "array(['anthracite - production', 'brown coal briquettes - production',\n",
       "       'brown coal - production', 'coal tar - production',\n",
       "       'coking coal - production', 'gas coke - production',\n",
       "       'hard coal - production', 'lignite - production',\n",
       "       'oil shale - production', 'other bituminous coal - production',\n",
       "       'patent fuel - production', 'peat - production',\n",
       "       'peat products - production', 'sub-bituminous coal - production'],\n",
       "      dtype=object)"
      ]
     },
     "execution_count": 43,
     "metadata": {},
     "output_type": "execute_result"
    }
   ],
   "source": [
    "cpo_production_material.commodity_transaction.unique()"
   ]
  },
  {
   "cell_type": "code",
   "execution_count": 260,
   "metadata": {
    "hidden": true
   },
   "outputs": [
    {
     "data": {
      "text/plain": [
       "array(['brown coal briquettes - production', 'brown coal - production'],\n",
       "      dtype=object)"
      ]
     },
     "execution_count": 260,
     "metadata": {},
     "output_type": "execute_result"
    }
   ],
   "source": [
    "cpo_production[cpo_production['commodity_transaction'].str.contains(\"brown coal\")].commodity_transaction.unique()"
   ]
  },
  {
   "cell_type": "code",
   "execution_count": 44,
   "metadata": {
    "hidden": true
   },
   "outputs": [],
   "source": [
    "total_cpo_production = cpo_production.groupby(['product']).sum().round(2).drop(['year'], axis=1)\n",
    "total_cpo_production = total_cpo_production.reset_index()\n",
    "total_cpo_production = total_cpo_production.sort_values(by=['quantity'], ascending=False)"
   ]
  },
  {
   "cell_type": "code",
   "execution_count": 113,
   "metadata": {
    "hidden": true,
    "scrolled": false
   },
   "outputs": [
    {
     "data": {
      "text/plain": [
       "Text(-1, -0.65, '*Coke Oven Coke is reported in Terajoules because its production generates Coke Oven Gas')"
      ]
     },
     "execution_count": 113,
     "metadata": {},
     "output_type": "execute_result"
    },
    {
     "data": {
      "image/png": "[encoded data removed]",
      "text/plain": [
       "<Figure size 1080x360 with 2 Axes>"
      ]
     },
     "metadata": {
      "needs_background": "light"
     },
     "output_type": "display_data"
    }
   ],
   "source": [
    "products = total_cpo_production['product']\n",
    "quantity = total_cpo_production['quantity']\n",
    "\n",
    "fig, ax1 = plt.subplots(figsize=(15,5))\n",
    "\n",
    "ax1.bar(products, quantity)\n",
    "ax1.tick_params('x', labelrotation=90, labelsize=11)\n",
    "ax1.tick_params('y', pad=8, labelsize=11)\n",
    "ax1.set_xlabel('products', fontsize=12)\n",
    "ax1.set_ylabel('Produced Material (Metric Tons, thousands)', fontsize=12)\n",
    "ax1.set_title('Avg. Global Prodution of Coal, Peat or OilShale material form 1990-2014', fontsize=18)\n",
    "# ax1.ticklabel_format(scilimits= [3,3])\n",
    "\n",
    "ax2=ax1.twinx() #instantiate a second axes that shares the same x-axis\n",
    "ax2.bar(products, quantity)\n",
    "ax2.set_ylabel('Produced Material (Terajoules)', fontsize=12)\n",
    "ax2.tick_params('y', pad=8, labelsize=11)\n",
    "\n",
    "barlist=plt.bar(products, quantity, color='blue')\n",
    "barlist[1].set_color('red')\n",
    "\n",
    "ax1.legend(handles=[barlist, barlist[1]], labels=['Metric Tons', 'Terajoules'], fontsize=12)\n",
    "\n",
    "\n",
    "trans = ax1.get_xaxis_transform()\n",
    "ax1.annotate('*Coke Oven Coke is reported in Terajoules because its production generates Coke Oven Gas', xy=(-1, -0.65), xycoords=trans, fontsize=12)"
   ]
  },
  {
   "cell_type": "code",
   "execution_count": 46,
   "metadata": {
    "code_folding": [],
    "hidden": true
   },
   "outputs": [],
   "source": [
    "# lets look at the top 8 produced products over time"
   ]
  },
  {
   "cell_type": "code",
   "execution_count": 252,
   "metadata": {
    "hidden": true
   },
   "outputs": [],
   "source": [
    "hard_coal_production = cpo_production[cpo_production['commodity_transaction'] == 'hard coal - production'].sort_values('year').groupby(['year']).sum().round(3).reset_index()\n",
    "coke_oven_coke_production = cpo_production[cpo_production['commodity_transaction'] == 'coke oven gas - production'].sort_values('year').groupby(['year']).sum().round(3).reset_index()\n",
    "sub_bituminous_coal_production = cpo_production[cpo_production['commodity_transaction'] == 'sub-bituminous coal - production'].sort_values('year').groupby(['year']).sum().round(3).reset_index()\n",
    "other_bituminous_coal_production = cpo_production[cpo_production['commodity_transaction'] == 'other bituminous coal - production'].sort_values('year').groupby(['year']).sum().round(3).reset_index()\n",
    "\n",
    "brown_coal_production = cpo_production[cpo_production['commodity_transaction'] == 'brown coal - production'].sort_values('year').groupby(['year']).sum().round(3).reset_index()\n",
    "lignite_production = cpo_production[cpo_production['commodity_transaction'] == 'lignite - production'].sort_values('year').groupby(['year']).sum().round(3).reset_index()\n",
    "coking_coal_production = cpo_production[cpo_production['commodity_transaction'] == 'coking coal - production'].sort_values('year').groupby(['year']).sum().round(3).reset_index()\n",
    "oil_shale_oil_sands_production = cpo_production[cpo_production['commodity_transaction'] == 'oil shale - production'].sort_values('year').groupby(['year']).sum().round(3).reset_index()\n"
   ]
  },
  {
   "cell_type": "code",
   "execution_count": 253,
   "metadata": {
    "hidden": true
   },
   "outputs": [
    {
     "data": {
      "text/html": [
       "<div>\n",
       "<style scoped>\n",
       "    .dataframe tbody tr th:only-of-type {\n",
       "        vertical-align: middle;\n",
       "    }\n",
       "\n",
       "    .dataframe tbody tr th {\n",
       "        vertical-align: top;\n",
       "    }\n",
       "\n",
       "    .dataframe thead th {\n",
       "        text-align: right;\n",
       "    }\n",
       "</style>\n",
       "<table border=\"1\" class=\"dataframe\">\n",
       "  <thead>\n",
       "    <tr style=\"text-align: right;\">\n",
       "      <th></th>\n",
       "      <th>year</th>\n",
       "      <th>quantity</th>\n",
       "    </tr>\n",
       "  </thead>\n",
       "  <tbody>\n",
       "    <tr>\n",
       "      <td>0</td>\n",
       "      <td>1990</td>\n",
       "      <td>2441948.00</td>\n",
       "    </tr>\n",
       "    <tr>\n",
       "      <td>1</td>\n",
       "      <td>1991</td>\n",
       "      <td>2361062.00</td>\n",
       "    </tr>\n",
       "    <tr>\n",
       "      <td>2</td>\n",
       "      <td>1992</td>\n",
       "      <td>2135837.00</td>\n",
       "    </tr>\n",
       "    <tr>\n",
       "      <td>3</td>\n",
       "      <td>1993</td>\n",
       "      <td>2107047.00</td>\n",
       "    </tr>\n",
       "    <tr>\n",
       "      <td>4</td>\n",
       "      <td>1994</td>\n",
       "      <td>2076275.00</td>\n",
       "    </tr>\n",
       "    <tr>\n",
       "      <td>5</td>\n",
       "      <td>1995</td>\n",
       "      <td>2071945.00</td>\n",
       "    </tr>\n",
       "    <tr>\n",
       "      <td>6</td>\n",
       "      <td>1996</td>\n",
       "      <td>2074554.00</td>\n",
       "    </tr>\n",
       "    <tr>\n",
       "      <td>7</td>\n",
       "      <td>1997</td>\n",
       "      <td>2075864.00</td>\n",
       "    </tr>\n",
       "    <tr>\n",
       "      <td>8</td>\n",
       "      <td>1998</td>\n",
       "      <td>2031404.00</td>\n",
       "    </tr>\n",
       "    <tr>\n",
       "      <td>9</td>\n",
       "      <td>1999</td>\n",
       "      <td>1909987.00</td>\n",
       "    </tr>\n",
       "    <tr>\n",
       "      <td>10</td>\n",
       "      <td>2000</td>\n",
       "      <td>1971596.00</td>\n",
       "    </tr>\n",
       "    <tr>\n",
       "      <td>11</td>\n",
       "      <td>2001</td>\n",
       "      <td>1921300.00</td>\n",
       "    </tr>\n",
       "    <tr>\n",
       "      <td>12</td>\n",
       "      <td>2002</td>\n",
       "      <td>1858969.30</td>\n",
       "    </tr>\n",
       "    <tr>\n",
       "      <td>13</td>\n",
       "      <td>2003</td>\n",
       "      <td>1900693.35</td>\n",
       "    </tr>\n",
       "    <tr>\n",
       "      <td>14</td>\n",
       "      <td>2004</td>\n",
       "      <td>2029484.05</td>\n",
       "    </tr>\n",
       "    <tr>\n",
       "      <td>15</td>\n",
       "      <td>2005</td>\n",
       "      <td>2354685.78</td>\n",
       "    </tr>\n",
       "    <tr>\n",
       "      <td>16</td>\n",
       "      <td>2006</td>\n",
       "      <td>2602296.86</td>\n",
       "    </tr>\n",
       "    <tr>\n",
       "      <td>17</td>\n",
       "      <td>2007</td>\n",
       "      <td>2659042.28</td>\n",
       "    </tr>\n",
       "    <tr>\n",
       "      <td>18</td>\n",
       "      <td>2008</td>\n",
       "      <td>2887835.23</td>\n",
       "    </tr>\n",
       "    <tr>\n",
       "      <td>19</td>\n",
       "      <td>2009</td>\n",
       "      <td>2674704.71</td>\n",
       "    </tr>\n",
       "    <tr>\n",
       "      <td>20</td>\n",
       "      <td>2010</td>\n",
       "      <td>3051559.69</td>\n",
       "    </tr>\n",
       "    <tr>\n",
       "      <td>21</td>\n",
       "      <td>2011</td>\n",
       "      <td>3216819.38</td>\n",
       "    </tr>\n",
       "    <tr>\n",
       "      <td>22</td>\n",
       "      <td>2012</td>\n",
       "      <td>3139942.02</td>\n",
       "    </tr>\n",
       "    <tr>\n",
       "      <td>23</td>\n",
       "      <td>2013</td>\n",
       "      <td>3246561.43</td>\n",
       "    </tr>\n",
       "    <tr>\n",
       "      <td>24</td>\n",
       "      <td>2014</td>\n",
       "      <td>3185538.00</td>\n",
       "    </tr>\n",
       "  </tbody>\n",
       "</table>\n",
       "</div>"
      ],
      "text/plain": [
       "    year    quantity\n",
       "0   1990  2441948.00\n",
       "1   1991  2361062.00\n",
       "2   1992  2135837.00\n",
       "3   1993  2107047.00\n",
       "4   1994  2076275.00\n",
       "5   1995  2071945.00\n",
       "6   1996  2074554.00\n",
       "7   1997  2075864.00\n",
       "8   1998  2031404.00\n",
       "9   1999  1909987.00\n",
       "10  2000  1971596.00\n",
       "11  2001  1921300.00\n",
       "12  2002  1858969.30\n",
       "13  2003  1900693.35\n",
       "14  2004  2029484.05\n",
       "15  2005  2354685.78\n",
       "16  2006  2602296.86\n",
       "17  2007  2659042.28\n",
       "18  2008  2887835.23\n",
       "19  2009  2674704.71\n",
       "20  2010  3051559.69\n",
       "21  2011  3216819.38\n",
       "22  2012  3139942.02\n",
       "23  2013  3246561.43\n",
       "24  2014  3185538.00"
      ]
     },
     "execution_count": 253,
     "metadata": {},
     "output_type": "execute_result"
    }
   ],
   "source": [
    "# COME BACK TO THIS\n",
    "\n",
    "\n",
    "\n",
    "cpo_production[cpo_production['commodity_transaction'] == 'coke oven gas - production'].sort_values('year').groupby(['year']).sum().round(3).reset_index()"
   ]
  },
  {
   "cell_type": "code",
   "execution_count": 254,
   "metadata": {
    "hidden": true
   },
   "outputs": [
    {
     "data": {
      "image/png": "[encoded data removed]",
      "text/plain": [
       "<Figure size 1080x720 with 1 Axes>"
      ]
     },
     "metadata": {
      "needs_background": "light"
     },
     "output_type": "display_data"
    }
   ],
   "source": [
    "time = hard_coal_production['year']\n",
    "hard_coal = hard_coal_production['quantity']\n",
    "coke_oven_coke = coke_oven_coke_production['quantity']\n",
    "sub_bituminous_coal = sub_bituminous_coal_production['quantity']\n",
    "other_bituminous_coal = other_bituminous_coal_production['quantity']\n",
    "brown_coal = brown_coal_production['quantity']\n",
    "lignite = lignite_production['quantity']\n",
    "coking_coal = coking_coal_production['quantity']\n",
    "oil_shale_oil_sands = oil_shale_oil_sands_production['quantity']\n",
    "\n",
    "fig, ax = plt.subplots(figsize = (15,10))\n",
    "\n",
    "\n",
    "ax.plot(time, hard_coal, label='hard coal')\n",
    "ax.plot(time, coke_oven_coke, linestyle = \"dashed\", label='coke oven coke', color = 'red')\n",
    "ax.plot(time, sub_bituminous_coal, label='sub bituminous coal')\n",
    "ax.plot(time, other_bituminous_coal, label='other bituminous coal')\n",
    "ax.plot(time, brown_coal, label='brown coal', color='brown')\n",
    "ax.plot(time, lignite, label='lignite', color='pink')\n",
    "ax.plot(time, coking_coal, label='coking coal', color='black')\n",
    "ax.plot(time, oil_shale_oil_sands, label='oil shale', color='purple')\n",
    "# ax.ticklabel_format(scilimits= [3,3])\n",
    "\n",
    "ax.legend()\n",
    "ax.set_xlabel('year', fontsize=14)\n",
    "ax.set_ylabel('Production (Metric tons, thousands)', fontsize=14)\n",
    "ax.set_title('Total Global Production of Coal, Peat, and Oil Shal Products from 1990-2014', fontsize=18)\n",
    "\n",
    "secax = ax.secondary_yaxis('right')\n",
    "secax.set_ylabel('Terajoules', fontsize=14, color=\"red\")\n",
    "\n",
    "\n",
    "plt.show()\n",
    "\n"
   ]
  },
  {
   "cell_type": "markdown",
   "metadata": {
    "heading_collapsed": true
   },
   "source": [
    "# Natural Manufactured or Recovered Natural Gas Global Production"
   ]
  },
  {
   "cell_type": "code",
   "execution_count": 318,
   "metadata": {
    "hidden": true
   },
   "outputs": [],
   "source": [
    "Natural_Manufactured_or_Recovered_Gas_Production = Natural_Manufactured_or_Recovered_Gas_df[Natural_Manufactured_or_Recovered_Gas_df['commodity_transaction'].str.contains(\"production\")]\n",
    "Total_Natural_Manufactured_or_Recovered_Gas_Production = Natural_Manufactured_or_Recovered_Gas_Production.groupby(['commodity_transaction']).sum().round(2).drop(['year'], axis=1).reset_index().sort_values(by=['quantity'], ascending=False)\n"
   ]
  },
  {
   "cell_type": "code",
   "execution_count": 319,
   "metadata": {
    "hidden": true
   },
   "outputs": [],
   "source": [
    "Total_Natural_Manufactured_or_Recovered_Gas_Production['commodity_transaction'] = Total_Natural_Manufactured_or_Recovered_Gas_Production['commodity_transaction'].str.strip(' - production')"
   ]
  },
  {
   "cell_type": "code",
   "execution_count": 322,
   "metadata": {
    "hidden": true
   },
   "outputs": [],
   "source": [
    "# remove gross production of natural gases\n",
    "Filtered_Total_Natural_Manufactured_or_Recovered_Gas_Production = Total_Natural_Manufactured_or_Recovered_Gas_Production.drop(2)"
   ]
  },
  {
   "cell_type": "code",
   "execution_count": 328,
   "metadata": {
    "hidden": true
   },
   "outputs": [],
   "source": [
    "Filtered_Total_Natural_Manufactured_or_Recovered_Gas_Production = Filtered_Total_Natural_Manufactured_or_Recovered_Gas_Production.replace({'commodity_transaction': 'atural gas (including lng)'}, 'natural gas (including lng)')\n",
    "Filtered_Total_Natural_Manufactured_or_Recovered_Gas_Production = Filtered_Total_Natural_Manufactured_or_Recovered_Gas_Production.replace({'commodity_transaction': 'her recovered gases'}, 'other recovered gases')"
   ]
  },
  {
   "cell_type": "code",
   "execution_count": 310,
   "metadata": {
    "hidden": true
   },
   "outputs": [
    {
     "data": {
      "text/plain": [
       "array(['blast furnace gas - production', 'gasworks gas - production',\n",
       "       'natural gas (including lng) - memo:gross production',\n",
       "       'natural gas (including lng) - production',\n",
       "       'other recovered gases - production'], dtype=object)"
      ]
     },
     "execution_count": 310,
     "metadata": {},
     "output_type": "execute_result"
    }
   ],
   "source": [
    "Natural_Manufactured_or_Recovered_Gas_Production.commodity_transaction.unique()"
   ]
  },
  {
   "cell_type": "code",
   "execution_count": 311,
   "metadata": {
    "collapsed": true,
    "hidden": true
   },
   "outputs": [
    {
     "name": "stderr",
     "output_type": "stream",
     "text": [
      "C:\\Users\\phili\\Anaconda3\\envs\\PandasLearn\\lib\\site-packages\\ipykernel_launcher.py:1: UserWarning: Boolean Series key will be reindexed to match DataFrame index.\n",
      "  \"\"\"Entry point for launching an IPython kernel.\n"
     ]
    },
    {
     "data": {
      "text/html": [
       "<div>\n",
       "<style scoped>\n",
       "    .dataframe tbody tr th:only-of-type {\n",
       "        vertical-align: middle;\n",
       "    }\n",
       "\n",
       "    .dataframe tbody tr th {\n",
       "        vertical-align: top;\n",
       "    }\n",
       "\n",
       "    .dataframe thead th {\n",
       "        text-align: right;\n",
       "    }\n",
       "</style>\n",
       "<table border=\"1\" class=\"dataframe\">\n",
       "  <thead>\n",
       "    <tr style=\"text-align: right;\">\n",
       "      <th></th>\n",
       "      <th>country_or_area</th>\n",
       "      <th>commodity_transaction</th>\n",
       "      <th>year</th>\n",
       "      <th>unit</th>\n",
       "      <th>quantity</th>\n",
       "      <th>product</th>\n",
       "      <th>product_class</th>\n",
       "    </tr>\n",
       "  </thead>\n",
       "  <tbody>\n",
       "    <tr>\n",
       "      <td>822755</td>\n",
       "      <td>united states</td>\n",
       "      <td>natural gas (including lng) - memo:gross production</td>\n",
       "      <td>2014</td>\n",
       "      <td>Terajoules</td>\n",
       "      <td>33726056.0</td>\n",
       "      <td>natural_gas_including_lng</td>\n",
       "      <td>Natural_Manufactured_or_Recovered_Gas</td>\n",
       "    </tr>\n",
       "    <tr>\n",
       "      <td>822756</td>\n",
       "      <td>united states</td>\n",
       "      <td>natural gas (including lng) - memo:gross production</td>\n",
       "      <td>2013</td>\n",
       "      <td>Terajoules</td>\n",
       "      <td>31645380.0</td>\n",
       "      <td>natural_gas_including_lng</td>\n",
       "      <td>Natural_Manufactured_or_Recovered_Gas</td>\n",
       "    </tr>\n",
       "    <tr>\n",
       "      <td>822757</td>\n",
       "      <td>united states</td>\n",
       "      <td>natural gas (including lng) - memo:gross production</td>\n",
       "      <td>2012</td>\n",
       "      <td>Terajoules</td>\n",
       "      <td>31154822.0</td>\n",
       "      <td>natural_gas_including_lng</td>\n",
       "      <td>Natural_Manufactured_or_Recovered_Gas</td>\n",
       "    </tr>\n",
       "    <tr>\n",
       "      <td>822758</td>\n",
       "      <td>united states</td>\n",
       "      <td>natural gas (including lng) - memo:gross production</td>\n",
       "      <td>2011</td>\n",
       "      <td>Terajoules</td>\n",
       "      <td>29849958.0</td>\n",
       "      <td>natural_gas_including_lng</td>\n",
       "      <td>Natural_Manufactured_or_Recovered_Gas</td>\n",
       "    </tr>\n",
       "    <tr>\n",
       "      <td>822759</td>\n",
       "      <td>united states</td>\n",
       "      <td>natural gas (including lng) - memo:gross production</td>\n",
       "      <td>2010</td>\n",
       "      <td>Terajoules</td>\n",
       "      <td>28113124.0</td>\n",
       "      <td>natural_gas_including_lng</td>\n",
       "      <td>Natural_Manufactured_or_Recovered_Gas</td>\n",
       "    </tr>\n",
       "    <tr>\n",
       "      <td>822760</td>\n",
       "      <td>united states</td>\n",
       "      <td>natural gas (including lng) - memo:gross production</td>\n",
       "      <td>2009</td>\n",
       "      <td>Terajoules</td>\n",
       "      <td>27464589.0</td>\n",
       "      <td>natural_gas_including_lng</td>\n",
       "      <td>Natural_Manufactured_or_Recovered_Gas</td>\n",
       "    </tr>\n",
       "    <tr>\n",
       "      <td>822761</td>\n",
       "      <td>united states</td>\n",
       "      <td>natural gas (including lng) - memo:gross production</td>\n",
       "      <td>2008</td>\n",
       "      <td>Terajoules</td>\n",
       "      <td>27054304.0</td>\n",
       "      <td>natural_gas_including_lng</td>\n",
       "      <td>Natural_Manufactured_or_Recovered_Gas</td>\n",
       "    </tr>\n",
       "    <tr>\n",
       "      <td>822762</td>\n",
       "      <td>united states</td>\n",
       "      <td>natural gas (including lng) - memo:gross production</td>\n",
       "      <td>2007</td>\n",
       "      <td>Terajoules</td>\n",
       "      <td>26104469.0</td>\n",
       "      <td>natural_gas_including_lng</td>\n",
       "      <td>Natural_Manufactured_or_Recovered_Gas</td>\n",
       "    </tr>\n",
       "    <tr>\n",
       "      <td>822763</td>\n",
       "      <td>united states</td>\n",
       "      <td>natural gas (including lng) - memo:gross production</td>\n",
       "      <td>2006</td>\n",
       "      <td>Terajoules</td>\n",
       "      <td>24781008.0</td>\n",
       "      <td>natural_gas_including_lng</td>\n",
       "      <td>Natural_Manufactured_or_Recovered_Gas</td>\n",
       "    </tr>\n",
       "    <tr>\n",
       "      <td>822764</td>\n",
       "      <td>united states</td>\n",
       "      <td>natural gas (including lng) - memo:gross production</td>\n",
       "      <td>2005</td>\n",
       "      <td>Terajoules</td>\n",
       "      <td>24740629.0</td>\n",
       "      <td>natural_gas_including_lng</td>\n",
       "      <td>Natural_Manufactured_or_Recovered_Gas</td>\n",
       "    </tr>\n",
       "    <tr>\n",
       "      <td>822765</td>\n",
       "      <td>united states</td>\n",
       "      <td>natural gas (including lng) - memo:gross production</td>\n",
       "      <td>2004</td>\n",
       "      <td>Terajoules</td>\n",
       "      <td>25323731.0</td>\n",
       "      <td>natural_gas_including_lng</td>\n",
       "      <td>Natural_Manufactured_or_Recovered_Gas</td>\n",
       "    </tr>\n",
       "    <tr>\n",
       "      <td>822766</td>\n",
       "      <td>united states</td>\n",
       "      <td>natural gas (including lng) - memo:gross production</td>\n",
       "      <td>2003</td>\n",
       "      <td>Terajoules</td>\n",
       "      <td>25735005.0</td>\n",
       "      <td>natural_gas_including_lng</td>\n",
       "      <td>Natural_Manufactured_or_Recovered_Gas</td>\n",
       "    </tr>\n",
       "    <tr>\n",
       "      <td>822767</td>\n",
       "      <td>united states</td>\n",
       "      <td>natural gas (including lng) - memo:gross production</td>\n",
       "      <td>2002</td>\n",
       "      <td>Terajoules</td>\n",
       "      <td>25457923.0</td>\n",
       "      <td>natural_gas_including_lng</td>\n",
       "      <td>Natural_Manufactured_or_Recovered_Gas</td>\n",
       "    </tr>\n",
       "    <tr>\n",
       "      <td>822768</td>\n",
       "      <td>united states</td>\n",
       "      <td>natural gas (including lng) - memo:gross production</td>\n",
       "      <td>2001</td>\n",
       "      <td>Terajoules</td>\n",
       "      <td>26149061.0</td>\n",
       "      <td>natural_gas_including_lng</td>\n",
       "      <td>Natural_Manufactured_or_Recovered_Gas</td>\n",
       "    </tr>\n",
       "    <tr>\n",
       "      <td>822769</td>\n",
       "      <td>united states</td>\n",
       "      <td>natural gas (including lng) - memo:gross production</td>\n",
       "      <td>2000</td>\n",
       "      <td>Terajoules</td>\n",
       "      <td>25693761.0</td>\n",
       "      <td>natural_gas_including_lng</td>\n",
       "      <td>Natural_Manufactured_or_Recovered_Gas</td>\n",
       "    </tr>\n",
       "    <tr>\n",
       "      <td>822770</td>\n",
       "      <td>united states</td>\n",
       "      <td>natural gas (including lng) - memo:gross production</td>\n",
       "      <td>1999</td>\n",
       "      <td>Terajoules</td>\n",
       "      <td>25238811.0</td>\n",
       "      <td>natural_gas_including_lng</td>\n",
       "      <td>Natural_Manufactured_or_Recovered_Gas</td>\n",
       "    </tr>\n",
       "    <tr>\n",
       "      <td>822771</td>\n",
       "      <td>united states</td>\n",
       "      <td>natural gas (including lng) - memo:gross production</td>\n",
       "      <td>1998</td>\n",
       "      <td>Terajoules</td>\n",
       "      <td>25464514.0</td>\n",
       "      <td>natural_gas_including_lng</td>\n",
       "      <td>Natural_Manufactured_or_Recovered_Gas</td>\n",
       "    </tr>\n",
       "    <tr>\n",
       "      <td>822772</td>\n",
       "      <td>united states</td>\n",
       "      <td>natural gas (including lng) - memo:gross production</td>\n",
       "      <td>1997</td>\n",
       "      <td>Terajoules</td>\n",
       "      <td>25667343.0</td>\n",
       "      <td>natural_gas_including_lng</td>\n",
       "      <td>Natural_Manufactured_or_Recovered_Gas</td>\n",
       "    </tr>\n",
       "    <tr>\n",
       "      <td>822773</td>\n",
       "      <td>united states</td>\n",
       "      <td>natural gas (including lng) - memo:gross production</td>\n",
       "      <td>1996</td>\n",
       "      <td>Terajoules</td>\n",
       "      <td>25604697.0</td>\n",
       "      <td>natural_gas_including_lng</td>\n",
       "      <td>Natural_Manufactured_or_Recovered_Gas</td>\n",
       "    </tr>\n",
       "    <tr>\n",
       "      <td>822774</td>\n",
       "      <td>united states</td>\n",
       "      <td>natural gas (including lng) - memo:gross production</td>\n",
       "      <td>1995</td>\n",
       "      <td>Terajoules</td>\n",
       "      <td>25413601.0</td>\n",
       "      <td>natural_gas_including_lng</td>\n",
       "      <td>Natural_Manufactured_or_Recovered_Gas</td>\n",
       "    </tr>\n",
       "    <tr>\n",
       "      <td>822775</td>\n",
       "      <td>united states</td>\n",
       "      <td>natural gas (including lng) - memo:gross production</td>\n",
       "      <td>1994</td>\n",
       "      <td>Terajoules</td>\n",
       "      <td>25229344.0</td>\n",
       "      <td>natural_gas_including_lng</td>\n",
       "      <td>Natural_Manufactured_or_Recovered_Gas</td>\n",
       "    </tr>\n",
       "    <tr>\n",
       "      <td>822776</td>\n",
       "      <td>united states</td>\n",
       "      <td>natural gas (including lng) - memo:gross production</td>\n",
       "      <td>1993</td>\n",
       "      <td>Terajoules</td>\n",
       "      <td>24290394.0</td>\n",
       "      <td>natural_gas_including_lng</td>\n",
       "      <td>Natural_Manufactured_or_Recovered_Gas</td>\n",
       "    </tr>\n",
       "    <tr>\n",
       "      <td>822777</td>\n",
       "      <td>united states</td>\n",
       "      <td>natural gas (including lng) - memo:gross production</td>\n",
       "      <td>1992</td>\n",
       "      <td>Terajoules</td>\n",
       "      <td>23842635.0</td>\n",
       "      <td>natural_gas_including_lng</td>\n",
       "      <td>Natural_Manufactured_or_Recovered_Gas</td>\n",
       "    </tr>\n",
       "    <tr>\n",
       "      <td>822778</td>\n",
       "      <td>united states</td>\n",
       "      <td>natural gas (including lng) - memo:gross production</td>\n",
       "      <td>1991</td>\n",
       "      <td>Terajoules</td>\n",
       "      <td>23430709.0</td>\n",
       "      <td>natural_gas_including_lng</td>\n",
       "      <td>Natural_Manufactured_or_Recovered_Gas</td>\n",
       "    </tr>\n",
       "    <tr>\n",
       "      <td>822779</td>\n",
       "      <td>united states</td>\n",
       "      <td>natural gas (including lng) - memo:gross production</td>\n",
       "      <td>1990</td>\n",
       "      <td>Terajoules</td>\n",
       "      <td>23195472.0</td>\n",
       "      <td>natural_gas_including_lng</td>\n",
       "      <td>Natural_Manufactured_or_Recovered_Gas</td>\n",
       "    </tr>\n",
       "    <tr>\n",
       "      <td>830576</td>\n",
       "      <td>united states</td>\n",
       "      <td>natural gas (including lng) - production</td>\n",
       "      <td>2014</td>\n",
       "      <td>Terajoules</td>\n",
       "      <td>28026934.0</td>\n",
       "      <td>natural_gas_including_lng</td>\n",
       "      <td>Natural_Manufactured_or_Recovered_Gas</td>\n",
       "    </tr>\n",
       "    <tr>\n",
       "      <td>830577</td>\n",
       "      <td>united states</td>\n",
       "      <td>natural gas (including lng) - production</td>\n",
       "      <td>2013</td>\n",
       "      <td>Terajoules</td>\n",
       "      <td>26238464.0</td>\n",
       "      <td>natural_gas_including_lng</td>\n",
       "      <td>Natural_Manufactured_or_Recovered_Gas</td>\n",
       "    </tr>\n",
       "    <tr>\n",
       "      <td>830578</td>\n",
       "      <td>united states</td>\n",
       "      <td>natural gas (including lng) - production</td>\n",
       "      <td>2012</td>\n",
       "      <td>Terajoules</td>\n",
       "      <td>25975611.0</td>\n",
       "      <td>natural_gas_including_lng</td>\n",
       "      <td>Natural_Manufactured_or_Recovered_Gas</td>\n",
       "    </tr>\n",
       "    <tr>\n",
       "      <td>830579</td>\n",
       "      <td>united states</td>\n",
       "      <td>natural gas (including lng) - production</td>\n",
       "      <td>2011</td>\n",
       "      <td>Terajoules</td>\n",
       "      <td>24704847.0</td>\n",
       "      <td>natural_gas_including_lng</td>\n",
       "      <td>Natural_Manufactured_or_Recovered_Gas</td>\n",
       "    </tr>\n",
       "    <tr>\n",
       "      <td>830580</td>\n",
       "      <td>united states</td>\n",
       "      <td>natural gas (including lng) - production</td>\n",
       "      <td>2010</td>\n",
       "      <td>Terajoules</td>\n",
       "      <td>23017554.0</td>\n",
       "      <td>natural_gas_including_lng</td>\n",
       "      <td>Natural_Manufactured_or_Recovered_Gas</td>\n",
       "    </tr>\n",
       "    <tr>\n",
       "      <td>830581</td>\n",
       "      <td>united states</td>\n",
       "      <td>natural gas (including lng) - production</td>\n",
       "      <td>2009</td>\n",
       "      <td>Terajoules</td>\n",
       "      <td>22316957.0</td>\n",
       "      <td>natural_gas_including_lng</td>\n",
       "      <td>Natural_Manufactured_or_Recovered_Gas</td>\n",
       "    </tr>\n",
       "    <tr>\n",
       "      <td>830582</td>\n",
       "      <td>united states</td>\n",
       "      <td>natural gas (including lng) - production</td>\n",
       "      <td>2008</td>\n",
       "      <td>Terajoules</td>\n",
       "      <td>21854831.0</td>\n",
       "      <td>natural_gas_including_lng</td>\n",
       "      <td>Natural_Manufactured_or_Recovered_Gas</td>\n",
       "    </tr>\n",
       "    <tr>\n",
       "      <td>830583</td>\n",
       "      <td>united states</td>\n",
       "      <td>natural gas (including lng) - production</td>\n",
       "      <td>2007</td>\n",
       "      <td>Terajoules</td>\n",
       "      <td>20929601.0</td>\n",
       "      <td>natural_gas_including_lng</td>\n",
       "      <td>Natural_Manufactured_or_Recovered_Gas</td>\n",
       "    </tr>\n",
       "    <tr>\n",
       "      <td>830584</td>\n",
       "      <td>united states</td>\n",
       "      <td>natural gas (including lng) - production</td>\n",
       "      <td>2006</td>\n",
       "      <td>Terajoules</td>\n",
       "      <td>20082489.0</td>\n",
       "      <td>natural_gas_including_lng</td>\n",
       "      <td>Natural_Manufactured_or_Recovered_Gas</td>\n",
       "    </tr>\n",
       "    <tr>\n",
       "      <td>830585</td>\n",
       "      <td>united states</td>\n",
       "      <td>natural gas (including lng) - production</td>\n",
       "      <td>2005</td>\n",
       "      <td>Terajoules</td>\n",
       "      <td>19610918.0</td>\n",
       "      <td>natural_gas_including_lng</td>\n",
       "      <td>Natural_Manufactured_or_Recovered_Gas</td>\n",
       "    </tr>\n",
       "    <tr>\n",
       "      <td>830586</td>\n",
       "      <td>united states</td>\n",
       "      <td>natural gas (including lng) - production</td>\n",
       "      <td>2004</td>\n",
       "      <td>Terajoules</td>\n",
       "      <td>20161752.0</td>\n",
       "      <td>natural_gas_including_lng</td>\n",
       "      <td>Natural_Manufactured_or_Recovered_Gas</td>\n",
       "    </tr>\n",
       "    <tr>\n",
       "      <td>830587</td>\n",
       "      <td>united states</td>\n",
       "      <td>natural gas (including lng) - production</td>\n",
       "      <td>2003</td>\n",
       "      <td>Terajoules</td>\n",
       "      <td>20794765.0</td>\n",
       "      <td>natural_gas_including_lng</td>\n",
       "      <td>Natural_Manufactured_or_Recovered_Gas</td>\n",
       "    </tr>\n",
       "    <tr>\n",
       "      <td>830588</td>\n",
       "      <td>united states</td>\n",
       "      <td>natural gas (including lng) - production</td>\n",
       "      <td>2002</td>\n",
       "      <td>Terajoules</td>\n",
       "      <td>20529041.0</td>\n",
       "      <td>natural_gas_including_lng</td>\n",
       "      <td>Natural_Manufactured_or_Recovered_Gas</td>\n",
       "    </tr>\n",
       "    <tr>\n",
       "      <td>830589</td>\n",
       "      <td>united states</td>\n",
       "      <td>natural gas (including lng) - production</td>\n",
       "      <td>2001</td>\n",
       "      <td>Terajoules</td>\n",
       "      <td>21318057.0</td>\n",
       "      <td>natural_gas_including_lng</td>\n",
       "      <td>Natural_Manufactured_or_Recovered_Gas</td>\n",
       "    </tr>\n",
       "    <tr>\n",
       "      <td>830590</td>\n",
       "      <td>united states</td>\n",
       "      <td>natural gas (including lng) - production</td>\n",
       "      <td>2000</td>\n",
       "      <td>Terajoules</td>\n",
       "      <td>20792062.0</td>\n",
       "      <td>natural_gas_including_lng</td>\n",
       "      <td>Natural_Manufactured_or_Recovered_Gas</td>\n",
       "    </tr>\n",
       "    <tr>\n",
       "      <td>830591</td>\n",
       "      <td>united states</td>\n",
       "      <td>natural gas (including lng) - production</td>\n",
       "      <td>1999</td>\n",
       "      <td>Terajoules</td>\n",
       "      <td>20458353.0</td>\n",
       "      <td>natural_gas_including_lng</td>\n",
       "      <td>Natural_Manufactured_or_Recovered_Gas</td>\n",
       "    </tr>\n",
       "    <tr>\n",
       "      <td>830592</td>\n",
       "      <td>united states</td>\n",
       "      <td>natural gas (including lng) - production</td>\n",
       "      <td>1998</td>\n",
       "      <td>Terajoules</td>\n",
       "      <td>20583107.0</td>\n",
       "      <td>natural_gas_including_lng</td>\n",
       "      <td>Natural_Manufactured_or_Recovered_Gas</td>\n",
       "    </tr>\n",
       "    <tr>\n",
       "      <td>830593</td>\n",
       "      <td>united states</td>\n",
       "      <td>natural gas (including lng) - production</td>\n",
       "      <td>1997</td>\n",
       "      <td>Terajoules</td>\n",
       "      <td>20519580.0</td>\n",
       "      <td>natural_gas_including_lng</td>\n",
       "      <td>Natural_Manufactured_or_Recovered_Gas</td>\n",
       "    </tr>\n",
       "    <tr>\n",
       "      <td>830594</td>\n",
       "      <td>united states</td>\n",
       "      <td>natural gas (including lng) - production</td>\n",
       "      <td>1996</td>\n",
       "      <td>Terajoules</td>\n",
       "      <td>20424818.0</td>\n",
       "      <td>natural_gas_including_lng</td>\n",
       "      <td>Natural_Manufactured_or_Recovered_Gas</td>\n",
       "    </tr>\n",
       "    <tr>\n",
       "      <td>830595</td>\n",
       "      <td>united states</td>\n",
       "      <td>natural gas (including lng) - production</td>\n",
       "      <td>1995</td>\n",
       "      <td>Terajoules</td>\n",
       "      <td>20216776.0</td>\n",
       "      <td>natural_gas_including_lng</td>\n",
       "      <td>Natural_Manufactured_or_Recovered_Gas</td>\n",
       "    </tr>\n",
       "    <tr>\n",
       "      <td>830596</td>\n",
       "      <td>united states</td>\n",
       "      <td>natural gas (including lng) - production</td>\n",
       "      <td>1994</td>\n",
       "      <td>Terajoules</td>\n",
       "      <td>20479435.0</td>\n",
       "      <td>natural_gas_including_lng</td>\n",
       "      <td>Natural_Manufactured_or_Recovered_Gas</td>\n",
       "    </tr>\n",
       "    <tr>\n",
       "      <td>830597</td>\n",
       "      <td>united states</td>\n",
       "      <td>natural gas (including lng) - production</td>\n",
       "      <td>1993</td>\n",
       "      <td>Terajoules</td>\n",
       "      <td>19683930.0</td>\n",
       "      <td>natural_gas_including_lng</td>\n",
       "      <td>Natural_Manufactured_or_Recovered_Gas</td>\n",
       "    </tr>\n",
       "    <tr>\n",
       "      <td>830598</td>\n",
       "      <td>united states</td>\n",
       "      <td>natural gas (including lng) - production</td>\n",
       "      <td>1992</td>\n",
       "      <td>Terajoules</td>\n",
       "      <td>19459310.0</td>\n",
       "      <td>natural_gas_including_lng</td>\n",
       "      <td>Natural_Manufactured_or_Recovered_Gas</td>\n",
       "    </tr>\n",
       "    <tr>\n",
       "      <td>830599</td>\n",
       "      <td>united states</td>\n",
       "      <td>natural gas (including lng) - production</td>\n",
       "      <td>1991</td>\n",
       "      <td>Terajoules</td>\n",
       "      <td>19304684.0</td>\n",
       "      <td>natural_gas_including_lng</td>\n",
       "      <td>Natural_Manufactured_or_Recovered_Gas</td>\n",
       "    </tr>\n",
       "    <tr>\n",
       "      <td>830600</td>\n",
       "      <td>united states</td>\n",
       "      <td>natural gas (including lng) - production</td>\n",
       "      <td>1990</td>\n",
       "      <td>Terajoules</td>\n",
       "      <td>19455013.0</td>\n",
       "      <td>natural_gas_including_lng</td>\n",
       "      <td>Natural_Manufactured_or_Recovered_Gas</td>\n",
       "    </tr>\n",
       "  </tbody>\n",
       "</table>\n",
       "</div>"
      ],
      "text/plain": [
       "       country_or_area                                commodity_transaction  \\\n",
       "822755   united states  natural gas (including lng) - memo:gross production   \n",
       "822756   united states  natural gas (including lng) - memo:gross production   \n",
       "822757   united states  natural gas (including lng) - memo:gross production   \n",
       "822758   united states  natural gas (including lng) - memo:gross production   \n",
       "822759   united states  natural gas (including lng) - memo:gross production   \n",
       "822760   united states  natural gas (including lng) - memo:gross production   \n",
       "822761   united states  natural gas (including lng) - memo:gross production   \n",
       "822762   united states  natural gas (including lng) - memo:gross production   \n",
       "822763   united states  natural gas (including lng) - memo:gross production   \n",
       "822764   united states  natural gas (including lng) - memo:gross production   \n",
       "822765   united states  natural gas (including lng) - memo:gross production   \n",
       "822766   united states  natural gas (including lng) - memo:gross production   \n",
       "822767   united states  natural gas (including lng) - memo:gross production   \n",
       "822768   united states  natural gas (including lng) - memo:gross production   \n",
       "822769   united states  natural gas (including lng) - memo:gross production   \n",
       "822770   united states  natural gas (including lng) - memo:gross production   \n",
       "822771   united states  natural gas (including lng) - memo:gross production   \n",
       "822772   united states  natural gas (including lng) - memo:gross production   \n",
       "822773   united states  natural gas (including lng) - memo:gross production   \n",
       "822774   united states  natural gas (including lng) - memo:gross production   \n",
       "822775   united states  natural gas (including lng) - memo:gross production   \n",
       "822776   united states  natural gas (including lng) - memo:gross production   \n",
       "822777   united states  natural gas (including lng) - memo:gross production   \n",
       "822778   united states  natural gas (including lng) - memo:gross production   \n",
       "822779   united states  natural gas (including lng) - memo:gross production   \n",
       "830576   united states             natural gas (including lng) - production   \n",
       "830577   united states             natural gas (including lng) - production   \n",
       "830578   united states             natural gas (including lng) - production   \n",
       "830579   united states             natural gas (including lng) - production   \n",
       "830580   united states             natural gas (including lng) - production   \n",
       "830581   united states             natural gas (including lng) - production   \n",
       "830582   united states             natural gas (including lng) - production   \n",
       "830583   united states             natural gas (including lng) - production   \n",
       "830584   united states             natural gas (including lng) - production   \n",
       "830585   united states             natural gas (including lng) - production   \n",
       "830586   united states             natural gas (including lng) - production   \n",
       "830587   united states             natural gas (including lng) - production   \n",
       "830588   united states             natural gas (including lng) - production   \n",
       "830589   united states             natural gas (including lng) - production   \n",
       "830590   united states             natural gas (including lng) - production   \n",
       "830591   united states             natural gas (including lng) - production   \n",
       "830592   united states             natural gas (including lng) - production   \n",
       "830593   united states             natural gas (including lng) - production   \n",
       "830594   united states             natural gas (including lng) - production   \n",
       "830595   united states             natural gas (including lng) - production   \n",
       "830596   united states             natural gas (including lng) - production   \n",
       "830597   united states             natural gas (including lng) - production   \n",
       "830598   united states             natural gas (including lng) - production   \n",
       "830599   united states             natural gas (including lng) - production   \n",
       "830600   united states             natural gas (including lng) - production   \n",
       "\n",
       "        year        unit    quantity                    product  \\\n",
       "822755  2014  Terajoules  33726056.0  natural_gas_including_lng   \n",
       "822756  2013  Terajoules  31645380.0  natural_gas_including_lng   \n",
       "822757  2012  Terajoules  31154822.0  natural_gas_including_lng   \n",
       "822758  2011  Terajoules  29849958.0  natural_gas_including_lng   \n",
       "822759  2010  Terajoules  28113124.0  natural_gas_including_lng   \n",
       "822760  2009  Terajoules  27464589.0  natural_gas_including_lng   \n",
       "822761  2008  Terajoules  27054304.0  natural_gas_including_lng   \n",
       "822762  2007  Terajoules  26104469.0  natural_gas_including_lng   \n",
       "822763  2006  Terajoules  24781008.0  natural_gas_including_lng   \n",
       "822764  2005  Terajoules  24740629.0  natural_gas_including_lng   \n",
       "822765  2004  Terajoules  25323731.0  natural_gas_including_lng   \n",
       "822766  2003  Terajoules  25735005.0  natural_gas_including_lng   \n",
       "822767  2002  Terajoules  25457923.0  natural_gas_including_lng   \n",
       "822768  2001  Terajoules  26149061.0  natural_gas_including_lng   \n",
       "822769  2000  Terajoules  25693761.0  natural_gas_including_lng   \n",
       "822770  1999  Terajoules  25238811.0  natural_gas_including_lng   \n",
       "822771  1998  Terajoules  25464514.0  natural_gas_including_lng   \n",
       "822772  1997  Terajoules  25667343.0  natural_gas_including_lng   \n",
       "822773  1996  Terajoules  25604697.0  natural_gas_including_lng   \n",
       "822774  1995  Terajoules  25413601.0  natural_gas_including_lng   \n",
       "822775  1994  Terajoules  25229344.0  natural_gas_including_lng   \n",
       "822776  1993  Terajoules  24290394.0  natural_gas_including_lng   \n",
       "822777  1992  Terajoules  23842635.0  natural_gas_including_lng   \n",
       "822778  1991  Terajoules  23430709.0  natural_gas_including_lng   \n",
       "822779  1990  Terajoules  23195472.0  natural_gas_including_lng   \n",
       "830576  2014  Terajoules  28026934.0  natural_gas_including_lng   \n",
       "830577  2013  Terajoules  26238464.0  natural_gas_including_lng   \n",
       "830578  2012  Terajoules  25975611.0  natural_gas_including_lng   \n",
       "830579  2011  Terajoules  24704847.0  natural_gas_including_lng   \n",
       "830580  2010  Terajoules  23017554.0  natural_gas_including_lng   \n",
       "830581  2009  Terajoules  22316957.0  natural_gas_including_lng   \n",
       "830582  2008  Terajoules  21854831.0  natural_gas_including_lng   \n",
       "830583  2007  Terajoules  20929601.0  natural_gas_including_lng   \n",
       "830584  2006  Terajoules  20082489.0  natural_gas_including_lng   \n",
       "830585  2005  Terajoules  19610918.0  natural_gas_including_lng   \n",
       "830586  2004  Terajoules  20161752.0  natural_gas_including_lng   \n",
       "830587  2003  Terajoules  20794765.0  natural_gas_including_lng   \n",
       "830588  2002  Terajoules  20529041.0  natural_gas_including_lng   \n",
       "830589  2001  Terajoules  21318057.0  natural_gas_including_lng   \n",
       "830590  2000  Terajoules  20792062.0  natural_gas_including_lng   \n",
       "830591  1999  Terajoules  20458353.0  natural_gas_including_lng   \n",
       "830592  1998  Terajoules  20583107.0  natural_gas_including_lng   \n",
       "830593  1997  Terajoules  20519580.0  natural_gas_including_lng   \n",
       "830594  1996  Terajoules  20424818.0  natural_gas_including_lng   \n",
       "830595  1995  Terajoules  20216776.0  natural_gas_including_lng   \n",
       "830596  1994  Terajoules  20479435.0  natural_gas_including_lng   \n",
       "830597  1993  Terajoules  19683930.0  natural_gas_including_lng   \n",
       "830598  1992  Terajoules  19459310.0  natural_gas_including_lng   \n",
       "830599  1991  Terajoules  19304684.0  natural_gas_including_lng   \n",
       "830600  1990  Terajoules  19455013.0  natural_gas_including_lng   \n",
       "\n",
       "                                product_class  \n",
       "822755  Natural_Manufactured_or_Recovered_Gas  \n",
       "822756  Natural_Manufactured_or_Recovered_Gas  \n",
       "822757  Natural_Manufactured_or_Recovered_Gas  \n",
       "822758  Natural_Manufactured_or_Recovered_Gas  \n",
       "822759  Natural_Manufactured_or_Recovered_Gas  \n",
       "822760  Natural_Manufactured_or_Recovered_Gas  \n",
       "822761  Natural_Manufactured_or_Recovered_Gas  \n",
       "822762  Natural_Manufactured_or_Recovered_Gas  \n",
       "822763  Natural_Manufactured_or_Recovered_Gas  \n",
       "822764  Natural_Manufactured_or_Recovered_Gas  \n",
       "822765  Natural_Manufactured_or_Recovered_Gas  \n",
       "822766  Natural_Manufactured_or_Recovered_Gas  \n",
       "822767  Natural_Manufactured_or_Recovered_Gas  \n",
       "822768  Natural_Manufactured_or_Recovered_Gas  \n",
       "822769  Natural_Manufactured_or_Recovered_Gas  \n",
       "822770  Natural_Manufactured_or_Recovered_Gas  \n",
       "822771  Natural_Manufactured_or_Recovered_Gas  \n",
       "822772  Natural_Manufactured_or_Recovered_Gas  \n",
       "822773  Natural_Manufactured_or_Recovered_Gas  \n",
       "822774  Natural_Manufactured_or_Recovered_Gas  \n",
       "822775  Natural_Manufactured_or_Recovered_Gas  \n",
       "822776  Natural_Manufactured_or_Recovered_Gas  \n",
       "822777  Natural_Manufactured_or_Recovered_Gas  \n",
       "822778  Natural_Manufactured_or_Recovered_Gas  \n",
       "822779  Natural_Manufactured_or_Recovered_Gas  \n",
       "830576  Natural_Manufactured_or_Recovered_Gas  \n",
       "830577  Natural_Manufactured_or_Recovered_Gas  \n",
       "830578  Natural_Manufactured_or_Recovered_Gas  \n",
       "830579  Natural_Manufactured_or_Recovered_Gas  \n",
       "830580  Natural_Manufactured_or_Recovered_Gas  \n",
       "830581  Natural_Manufactured_or_Recovered_Gas  \n",
       "830582  Natural_Manufactured_or_Recovered_Gas  \n",
       "830583  Natural_Manufactured_or_Recovered_Gas  \n",
       "830584  Natural_Manufactured_or_Recovered_Gas  \n",
       "830585  Natural_Manufactured_or_Recovered_Gas  \n",
       "830586  Natural_Manufactured_or_Recovered_Gas  \n",
       "830587  Natural_Manufactured_or_Recovered_Gas  \n",
       "830588  Natural_Manufactured_or_Recovered_Gas  \n",
       "830589  Natural_Manufactured_or_Recovered_Gas  \n",
       "830590  Natural_Manufactured_or_Recovered_Gas  \n",
       "830591  Natural_Manufactured_or_Recovered_Gas  \n",
       "830592  Natural_Manufactured_or_Recovered_Gas  \n",
       "830593  Natural_Manufactured_or_Recovered_Gas  \n",
       "830594  Natural_Manufactured_or_Recovered_Gas  \n",
       "830595  Natural_Manufactured_or_Recovered_Gas  \n",
       "830596  Natural_Manufactured_or_Recovered_Gas  \n",
       "830597  Natural_Manufactured_or_Recovered_Gas  \n",
       "830598  Natural_Manufactured_or_Recovered_Gas  \n",
       "830599  Natural_Manufactured_or_Recovered_Gas  \n",
       "830600  Natural_Manufactured_or_Recovered_Gas  "
      ]
     },
     "execution_count": 311,
     "metadata": {},
     "output_type": "execute_result"
    }
   ],
   "source": [
    "Natural_Manufactured_or_Recovered_Gas_Production[Natural_Manufactured_or_Recovered_Gas_Production['country_or_area'].str.contains('united states')][Natural_Manufactured_or_Recovered_Gas_Production['commodity_transaction'].str.contains('natural')]"
   ]
  },
  {
   "cell_type": "code",
   "execution_count": 312,
   "metadata": {
    "hidden": true
   },
   "outputs": [
    {
     "data": {
      "text/html": [
       "<div>\n",
       "<style scoped>\n",
       "    .dataframe tbody tr th:only-of-type {\n",
       "        vertical-align: middle;\n",
       "    }\n",
       "\n",
       "    .dataframe tbody tr th {\n",
       "        vertical-align: top;\n",
       "    }\n",
       "\n",
       "    .dataframe thead th {\n",
       "        text-align: right;\n",
       "    }\n",
       "</style>\n",
       "<table border=\"1\" class=\"dataframe\">\n",
       "  <thead>\n",
       "    <tr style=\"text-align: right;\">\n",
       "      <th></th>\n",
       "      <th>country_or_area</th>\n",
       "      <th>commodity_transaction</th>\n",
       "      <th>year</th>\n",
       "      <th>unit</th>\n",
       "      <th>quantity</th>\n",
       "      <th>product</th>\n",
       "      <th>product_class</th>\n",
       "    </tr>\n",
       "  </thead>\n",
       "  <tbody>\n",
       "  </tbody>\n",
       "</table>\n",
       "</div>"
      ],
      "text/plain": [
       "Empty DataFrame\n",
       "Columns: [country_or_area, commodity_transaction, year, unit, quantity, product, product_class]\n",
       "Index: []"
      ]
     },
     "execution_count": 312,
     "metadata": {},
     "output_type": "execute_result"
    }
   ],
   "source": [
    "Natural_Manufactured_or_Recovered_Gas_df[Natural_Manufactured_or_Recovered_Gas_df['commodity_transaction'].str.contains(\"natural gas losses\")]\n"
   ]
  },
  {
   "cell_type": "code",
   "execution_count": null,
   "metadata": {
    "hidden": true
   },
   "outputs": [],
   "source": []
  },
  {
   "cell_type": "code",
   "execution_count": 335,
   "metadata": {
    "hidden": true
   },
   "outputs": [
    {
     "data": {
      "image/png": "[encoded data removed]",
      "text/plain": [
       "<Figure size 864x432 with 1 Axes>"
      ]
     },
     "metadata": {
      "needs_background": "light"
     },
     "output_type": "display_data"
    }
   ],
   "source": [
    "gas_products = Filtered_Total_Natural_Manufactured_or_Recovered_Gas_Production['commodity_transaction']\n",
    "gas_quantity = Filtered_Total_Natural_Manufactured_or_Recovered_Gas_Production['quantity']\n",
    "\n",
    "fig, ax1 = plt.subplots(figsize=(12,6))\n",
    "\n",
    "\n",
    "ax1.bar(gas_products, gas_quantity, color='blue')\n",
    "ax1.tick_params('x', labelrotation=0)\n",
    "ax1.tick_params('y', pad=8)\n",
    "ax1.set_xlabel('products', fontsize=14)\n",
    "ax1.set_ylabel('Produced Gas (Terajoules)', fontsize=14)\n",
    "ax1.ticklabel_format(style='plain', axis='y')\n",
    "ax1.set_title('Total Global Prodution of Natrural, Maufactured and Recovered Gas form 1990-2014', fontsize=13)\n",
    "ax1.set_yscale('log')\n"
   ]
  },
  {
   "cell_type": "code",
   "execution_count": 336,
   "metadata": {
    "hidden": true
   },
   "outputs": [],
   "source": [
    "# Looking at these products production over time"
   ]
  },
  {
   "cell_type": "code",
   "execution_count": 342,
   "metadata": {
    "hidden": true
   },
   "outputs": [
    {
     "data": {
      "text/plain": [
       "array(['blast furnace gas - production', 'gasworks gas - production',\n",
       "       'natural gas (including lng) - memo:gross production',\n",
       "       'natural gas (including lng) - production',\n",
       "       'other recovered gases - production'], dtype=object)"
      ]
     },
     "execution_count": 342,
     "metadata": {},
     "output_type": "execute_result"
    }
   ],
   "source": [
    "Natural_Manufactured_or_Recovered_Gas_Production.commodity_transaction.unique()"
   ]
  },
  {
   "cell_type": "code",
   "execution_count": 353,
   "metadata": {
    "hidden": true
   },
   "outputs": [],
   "source": [
    "natural_gas_including_lng_production = Natural_Manufactured_or_Recovered_Gas_Production[Natural_Manufactured_or_Recovered_Gas_Production['commodity_transaction'] == 'natural gas (including lng) - production'].sort_values('year').groupby(['year']).sum().round(3).reset_index()\n",
    "blast_furnace_gas_production = Natural_Manufactured_or_Recovered_Gas_Production[Natural_Manufactured_or_Recovered_Gas_Production['commodity_transaction'] == 'blast furnace gas - production'].sort_values('year').groupby(['year']).sum().round(3).reset_index()\n",
    "gasworks_gas_production = Natural_Manufactured_or_Recovered_Gas_Production[Natural_Manufactured_or_Recovered_Gas_Production['commodity_transaction'] == 'gasworks gas - production'].sort_values('year').groupby(['year']).sum().round(3).reset_index()\n",
    "other_recovered_gases_production = Natural_Manufactured_or_Recovered_Gas_Production[Natural_Manufactured_or_Recovered_Gas_Production['commodity_transaction'] == 'other recovered gases - production'].sort_values('year').groupby(['year']).sum().round(3).reset_index()"
   ]
  },
  {
   "cell_type": "code",
   "execution_count": 356,
   "metadata": {
    "hidden": true
   },
   "outputs": [
    {
     "data": {
      "image/png": "[encoded data removed]",
      "text/plain": [
       "<Figure size 1080x720 with 1 Axes>"
      ]
     },
     "metadata": {
      "needs_background": "light"
     },
     "output_type": "display_data"
    }
   ],
   "source": [
    "time = natural_gas_including_lng_production['year']\n",
    "natural_gas_including_lng = natural_gas_including_lng_production['quantity']\n",
    "blast_furnace = blast_furnace_gas_production['quantity']\n",
    "gasworks_gas = gasworks_gas_production['quantity']\n",
    "other_recovered_gases = other_recovered_gases_production['quantity']\n",
    "\n",
    "\n",
    "\n",
    "fig, ax = plt.subplots(figsize = (15,10))\n",
    "\n",
    "\n",
    "ax.plot(time, natural_gas_including_lng, label='natural gas including lng')\n",
    "ax.plot(time, blast_furnace, label='blast furnace', color = 'red')\n",
    "ax.plot(time, gasworks_gas, label='gasworks gas')\n",
    "ax.plot(time, other_recovered_gases, label='other recovered gases')\n",
    "\n",
    "# ax.ticklabel_format(scilimits= [3,3])\n",
    "\n",
    "ax.legend()\n",
    "ax.set_xlabel('year', fontsize=14)\n",
    "ax.set_ylabel('Production (Terajoules)', fontsize=14)\n",
    "ax.set_title('Total Global Production of Natural, Manufactured, and Recovered Gas from 1990-2014', fontsize=18)\n",
    "\n",
    "\n",
    "\n",
    "plt.show()\n"
   ]
  },
  {
   "cell_type": "code",
   "execution_count": 362,
   "metadata": {
    "hidden": true
   },
   "outputs": [
    {
     "data": {
      "image/png": "[encoded data removed]",
      "text/plain": [
       "<Figure size 1080x720 with 1 Axes>"
      ]
     },
     "metadata": {
      "needs_background": "light"
     },
     "output_type": "display_data"
    }
   ],
   "source": [
    "time = natural_gas_including_lng_production['year']\n",
    "blast_furnace = blast_furnace_gas_production['quantity']\n",
    "gasworks_gas = gasworks_gas_production['quantity']\n",
    "other_recovered_gases = other_recovered_gases_production['quantity']\n",
    "\n",
    "\n",
    "\n",
    "fig, ax = plt.subplots(figsize = (15,10))\n",
    "\n",
    "ax.plot(time, blast_furnace, label='blast furnace', color = 'red')\n",
    "ax.plot(time, gasworks_gas, label='gasworks gas', color='orange')\n",
    "ax.plot(time, other_recovered_gases, label='other recovered gases', color='green')\n",
    "\n",
    "# ax.ticklabel_format(scilimits= [3,3])\n",
    "\n",
    "ax.legend()\n",
    "ax.set_xlabel('year', fontsize=14)\n",
    "ax.set_ylabel('Production (Terajoules)', fontsize=14)\n",
    "ax.set_title('Total Global Production of Manufactured and Recovered Gas from 1990-2014', fontsize=18)\n",
    "\n",
    "\n",
    "\n",
    "plt.show()"
   ]
  },
  {
   "cell_type": "code",
   "execution_count": null,
   "metadata": {
    "hidden": true
   },
   "outputs": [],
   "source": []
  },
  {
   "cell_type": "markdown",
   "metadata": {
    "heading_collapsed": true
   },
   "source": [
    "# Biofuels and Waste Products"
   ]
  },
  {
   "cell_type": "code",
   "execution_count": 541,
   "metadata": {
    "hidden": true
   },
   "outputs": [],
   "source": [
    "biofuels_waste_production = Biofuels_Waste_df[Biofuels_Waste_df['commodity_transaction'].str.contains('production')]"
   ]
  },
  {
   "cell_type": "code",
   "execution_count": 542,
   "metadata": {
    "hidden": true
   },
   "outputs": [
    {
     "data": {
      "text/plain": [
       "array(['Terajoules', 'Metric tons,  thousand', 'Cubic metres, thousand',\n",
       "       'Metric Tons'], dtype=object)"
      ]
     },
     "execution_count": 542,
     "metadata": {},
     "output_type": "execute_result"
    }
   ],
   "source": [
    "biofuels_waste_production.unit.unique()"
   ]
  },
  {
   "cell_type": "code",
   "execution_count": 543,
   "metadata": {
    "hidden": true
   },
   "outputs": [],
   "source": [
    "total_biofuels_waste_production = biofuels_waste_production.groupby('commodity_transaction').sum().round(3).drop(['year'], axis=1).reset_index()"
   ]
  },
  {
   "cell_type": "code",
   "execution_count": 563,
   "metadata": {
    "hidden": true
   },
   "outputs": [
    {
     "data": {
      "text/html": [
       "<div>\n",
       "<style scoped>\n",
       "    .dataframe tbody tr th:only-of-type {\n",
       "        vertical-align: middle;\n",
       "    }\n",
       "\n",
       "    .dataframe tbody tr th {\n",
       "        vertical-align: top;\n",
       "    }\n",
       "\n",
       "    .dataframe thead th {\n",
       "        text-align: right;\n",
       "    }\n",
       "</style>\n",
       "<table border=\"1\" class=\"dataframe\">\n",
       "  <thead>\n",
       "    <tr style=\"text-align: right;\">\n",
       "      <th></th>\n",
       "      <th>commodity_transaction</th>\n",
       "      <th>quantity</th>\n",
       "      <th>units</th>\n",
       "    </tr>\n",
       "  </thead>\n",
       "  <tbody>\n",
       "    <tr>\n",
       "      <td>11</td>\n",
       "      <td>uranium</td>\n",
       "      <td>1.024387e+06</td>\n",
       "      <td>Metric ton</td>\n",
       "    </tr>\n",
       "    <tr>\n",
       "      <td>3</td>\n",
       "      <td>biogases</td>\n",
       "      <td>8.472489e+06</td>\n",
       "      <td>Terajoules</td>\n",
       "    </tr>\n",
       "    <tr>\n",
       "      <td>8</td>\n",
       "      <td>industrial waste</td>\n",
       "      <td>1.211488e+07</td>\n",
       "      <td>Terajoules</td>\n",
       "    </tr>\n",
       "    <tr>\n",
       "      <td>10</td>\n",
       "      <td>other liquid biofuels</td>\n",
       "      <td>1.459564e+07</td>\n",
       "      <td>Metric ton</td>\n",
       "    </tr>\n",
       "    <tr>\n",
       "      <td>0</td>\n",
       "      <td>animal waste</td>\n",
       "      <td>1.709709e+07</td>\n",
       "      <td>Terajoules</td>\n",
       "    </tr>\n",
       "    <tr>\n",
       "      <td>9</td>\n",
       "      <td>municipal wastes</td>\n",
       "      <td>3.466039e+07</td>\n",
       "      <td>Terajoules</td>\n",
       "    </tr>\n",
       "    <tr>\n",
       "      <td>5</td>\n",
       "      <td>black liquor</td>\n",
       "      <td>3.945005e+07</td>\n",
       "      <td>Terajoules</td>\n",
       "    </tr>\n",
       "    <tr>\n",
       "      <td>12</td>\n",
       "      <td>vegetal waste</td>\n",
       "      <td>1.679295e+08</td>\n",
       "      <td>Terajoules</td>\n",
       "    </tr>\n",
       "    <tr>\n",
       "      <td>4</td>\n",
       "      <td>biogasoline</td>\n",
       "      <td>7.650657e+08</td>\n",
       "      <td>Metric ton</td>\n",
       "    </tr>\n",
       "    <tr>\n",
       "      <td>6</td>\n",
       "      <td>charcoal</td>\n",
       "      <td>1.172402e+09</td>\n",
       "      <td>Metric ton</td>\n",
       "    </tr>\n",
       "    <tr>\n",
       "      <td>1</td>\n",
       "      <td>bagasse</td>\n",
       "      <td>8.532296e+09</td>\n",
       "      <td>Metric ton</td>\n",
       "    </tr>\n",
       "    <tr>\n",
       "      <td>7</td>\n",
       "      <td>fuelwood</td>\n",
       "      <td>6.299227e+10</td>\n",
       "      <td>Cubic meters</td>\n",
       "    </tr>\n",
       "  </tbody>\n",
       "</table>\n",
       "</div>"
      ],
      "text/plain": [
       "    commodity_transaction      quantity         units\n",
       "11                uranium  1.024387e+06    Metric ton\n",
       "3                biogases  8.472489e+06    Terajoules\n",
       "8        industrial waste  1.211488e+07    Terajoules\n",
       "10  other liquid biofuels  1.459564e+07    Metric ton\n",
       "0            animal waste  1.709709e+07    Terajoules\n",
       "9        municipal wastes  3.466039e+07    Terajoules\n",
       "5            black liquor  3.945005e+07    Terajoules\n",
       "12          vegetal waste  1.679295e+08    Terajoules\n",
       "4             biogasoline  7.650657e+08    Metric ton\n",
       "6                charcoal  1.172402e+09    Metric ton\n",
       "1                 bagasse  8.532296e+09    Metric ton\n",
       "7                fuelwood  6.299227e+10  Cubic meters"
      ]
     },
     "execution_count": 563,
     "metadata": {},
     "output_type": "execute_result"
    }
   ],
   "source": [
    "total_biofuels_waste_production"
   ]
  },
  {
   "cell_type": "code",
   "execution_count": 545,
   "metadata": {
    "hidden": true
   },
   "outputs": [],
   "source": [
    "# remove biogases - own use by biogas production plants. This is a measure of consumption\n",
    "total_biofuels_waste_production = total_biofuels_waste_production.drop(2)"
   ]
  },
  {
   "cell_type": "code",
   "execution_count": 548,
   "metadata": {
    "hidden": true
   },
   "outputs": [],
   "source": [
    "# make metric tons, thousands equvilant to metric tons\n",
    "total_biofuels_waste_production.iloc[1,1] = total_biofuels_waste_production.iloc[1,1]*1000"
   ]
  },
  {
   "cell_type": "code",
   "execution_count": 550,
   "metadata": {
    "hidden": true
   },
   "outputs": [],
   "source": [
    "total_biofuels_waste_production.iloc[3,1] = total_biofuels_waste_production.iloc[3,1]*1000"
   ]
  },
  {
   "cell_type": "code",
   "execution_count": 552,
   "metadata": {
    "hidden": true
   },
   "outputs": [],
   "source": [
    "total_biofuels_waste_production.iloc[5:7,1] = total_biofuels_waste_production.iloc[5:7,1]*1000"
   ]
  },
  {
   "cell_type": "code",
   "execution_count": 554,
   "metadata": {
    "hidden": true
   },
   "outputs": [],
   "source": [
    "total_biofuels_waste_production.iloc[9,1] = total_biofuels_waste_production.iloc[9,1]*1000"
   ]
  },
  {
   "cell_type": "code",
   "execution_count": 556,
   "metadata": {
    "hidden": true
   },
   "outputs": [],
   "source": [
    "# remove '- production'\n",
    "total_biofuels_waste_production['commodity_transaction'] = total_biofuels_waste_production['commodity_transaction'].str.rstrip('- production')"
   ]
  },
  {
   "cell_type": "code",
   "execution_count": 557,
   "metadata": {
    "hidden": true
   },
   "outputs": [],
   "source": [
    "# some letter stripped that weren't supposed to be. Correct this\n",
    "total_biofuels_waste_production = total_biofuels_waste_production.replace({'commodity_transaction': 'fuelw'}, 'fuelwood')\n",
    "total_biofuels_waste_production = total_biofuels_waste_production.replace({'commodity_transaction': 'black liq'}, 'black liquor')"
   ]
  },
  {
   "cell_type": "code",
   "execution_count": 558,
   "metadata": {
    "hidden": true
   },
   "outputs": [],
   "source": [
    "units = ['Terajoules', 'Metric ton', 'Terajoules','Metric ton','Terajoules','Metric ton','Cubic meters','Terajoules','Terajoules','Metric ton','Metric ton','Terajoules']"
   ]
  },
  {
   "cell_type": "code",
   "execution_count": 559,
   "metadata": {
    "hidden": true
   },
   "outputs": [],
   "source": [
    "total_biofuels_waste_production['units'] = units"
   ]
  },
  {
   "cell_type": "code",
   "execution_count": 567,
   "metadata": {
    "hidden": true
   },
   "outputs": [],
   "source": [
    "total_biofuels_waste_production = total_biofuels_waste_production.sort_values('quantity', ascending=False).sort_values('units')"
   ]
  },
  {
   "cell_type": "code",
   "execution_count": 568,
   "metadata": {
    "hidden": true
   },
   "outputs": [
    {
     "data": {
      "text/html": [
       "<div>\n",
       "<style scoped>\n",
       "    .dataframe tbody tr th:only-of-type {\n",
       "        vertical-align: middle;\n",
       "    }\n",
       "\n",
       "    .dataframe tbody tr th {\n",
       "        vertical-align: top;\n",
       "    }\n",
       "\n",
       "    .dataframe thead th {\n",
       "        text-align: right;\n",
       "    }\n",
       "</style>\n",
       "<table border=\"1\" class=\"dataframe\">\n",
       "  <thead>\n",
       "    <tr style=\"text-align: right;\">\n",
       "      <th></th>\n",
       "      <th>commodity_transaction</th>\n",
       "      <th>quantity</th>\n",
       "      <th>units</th>\n",
       "    </tr>\n",
       "  </thead>\n",
       "  <tbody>\n",
       "    <tr>\n",
       "      <td>7</td>\n",
       "      <td>fuelwood</td>\n",
       "      <td>6.299227e+10</td>\n",
       "      <td>Cubic meters</td>\n",
       "    </tr>\n",
       "    <tr>\n",
       "      <td>1</td>\n",
       "      <td>bagasse</td>\n",
       "      <td>8.532296e+09</td>\n",
       "      <td>Metric ton</td>\n",
       "    </tr>\n",
       "    <tr>\n",
       "      <td>6</td>\n",
       "      <td>charcoal</td>\n",
       "      <td>1.172402e+09</td>\n",
       "      <td>Metric ton</td>\n",
       "    </tr>\n",
       "    <tr>\n",
       "      <td>4</td>\n",
       "      <td>biogasoline</td>\n",
       "      <td>7.650657e+08</td>\n",
       "      <td>Metric ton</td>\n",
       "    </tr>\n",
       "    <tr>\n",
       "      <td>10</td>\n",
       "      <td>other liquid biofuels</td>\n",
       "      <td>1.459564e+07</td>\n",
       "      <td>Metric ton</td>\n",
       "    </tr>\n",
       "    <tr>\n",
       "      <td>11</td>\n",
       "      <td>uranium</td>\n",
       "      <td>1.024387e+06</td>\n",
       "      <td>Metric ton</td>\n",
       "    </tr>\n",
       "    <tr>\n",
       "      <td>12</td>\n",
       "      <td>vegetal waste</td>\n",
       "      <td>1.679295e+08</td>\n",
       "      <td>Terajoules</td>\n",
       "    </tr>\n",
       "    <tr>\n",
       "      <td>5</td>\n",
       "      <td>black liquor</td>\n",
       "      <td>3.945005e+07</td>\n",
       "      <td>Terajoules</td>\n",
       "    </tr>\n",
       "    <tr>\n",
       "      <td>9</td>\n",
       "      <td>municipal wastes</td>\n",
       "      <td>3.466039e+07</td>\n",
       "      <td>Terajoules</td>\n",
       "    </tr>\n",
       "    <tr>\n",
       "      <td>0</td>\n",
       "      <td>animal waste</td>\n",
       "      <td>1.709709e+07</td>\n",
       "      <td>Terajoules</td>\n",
       "    </tr>\n",
       "    <tr>\n",
       "      <td>8</td>\n",
       "      <td>industrial waste</td>\n",
       "      <td>1.211488e+07</td>\n",
       "      <td>Terajoules</td>\n",
       "    </tr>\n",
       "    <tr>\n",
       "      <td>3</td>\n",
       "      <td>biogases</td>\n",
       "      <td>8.472489e+06</td>\n",
       "      <td>Terajoules</td>\n",
       "    </tr>\n",
       "  </tbody>\n",
       "</table>\n",
       "</div>"
      ],
      "text/plain": [
       "    commodity_transaction      quantity         units\n",
       "7                fuelwood  6.299227e+10  Cubic meters\n",
       "1                 bagasse  8.532296e+09    Metric ton\n",
       "6                charcoal  1.172402e+09    Metric ton\n",
       "4             biogasoline  7.650657e+08    Metric ton\n",
       "10  other liquid biofuels  1.459564e+07    Metric ton\n",
       "11                uranium  1.024387e+06    Metric ton\n",
       "12          vegetal waste  1.679295e+08    Terajoules\n",
       "5            black liquor  3.945005e+07    Terajoules\n",
       "9        municipal wastes  3.466039e+07    Terajoules\n",
       "0            animal waste  1.709709e+07    Terajoules\n",
       "8        industrial waste  1.211488e+07    Terajoules\n",
       "3                biogases  8.472489e+06    Terajoules"
      ]
     },
     "execution_count": 568,
     "metadata": {},
     "output_type": "execute_result"
    }
   ],
   "source": [
    "total_biofuels_waste_production"
   ]
  },
  {
   "cell_type": "code",
   "execution_count": 598,
   "metadata": {
    "hidden": true
   },
   "outputs": [
    {
     "data": {
      "text/plain": [
       "<matplotlib.legend.Legend at 0x1b7aed3cdc8>"
      ]
     },
     "execution_count": 598,
     "metadata": {},
     "output_type": "execute_result"
    },
    {
     "data": {
      "image/png": "[encoded data removed]",
      "text/plain": [
       "<Figure size 864x432 with 1 Axes>"
      ]
     },
     "metadata": {
      "needs_background": "light"
     },
     "output_type": "display_data"
    }
   ],
   "source": [
    "biofuels_waste_products = total_biofuels_waste_production['commodity_transaction']\n",
    "biofuels_waste_quantity = total_biofuels_waste_production['quantity']\n",
    "\n",
    "fig, ax1 = plt.subplots(figsize=(12,6))\n",
    "\n",
    "\n",
    "ax1.bar(biofuels_waste_products, biofuels_waste_quantity, color=['blue','red','red','red','red','red','green','green','green','green','green','green'])\n",
    "ax1.tick_params('x', labelrotation=45)\n",
    "ax1.tick_params('y', pad=8)\n",
    "ax1.set_xlabel('products', fontsize=14)\n",
    "ax1.set_ylabel('Produced Biofuels and Waste', fontsize=14)\n",
    "ax1.ticklabel_format(style='plain', axis='y')\n",
    "ax1.set_title('Total Global Prodution of Biofuels and Waste form 1990-2014', fontsize=13)\n",
    "ax1.set_yscale('log')\n",
    "\n",
    "blue_label = mpatches.Patch(color='blue', label='Cubic Meters')\n",
    "red_label = mpatches.Patch(color='red', label='Metric Tons')\n",
    "green_label = mpatches.Patch(color='green', label='Terajoules')\n",
    "\n",
    "ax1.legend(handles=[blue_label,red_label,green_label])\n",
    "\n"
   ]
  },
  {
   "cell_type": "code",
   "execution_count": 599,
   "metadata": {
    "hidden": true
   },
   "outputs": [],
   "source": [
    "# look at annual production over time"
   ]
  },
  {
   "cell_type": "code",
   "execution_count": 634,
   "metadata": {
    "hidden": true
   },
   "outputs": [
    {
     "data": {
      "text/plain": [
       "array(['biogases - production'], dtype=object)"
      ]
     },
     "execution_count": 634,
     "metadata": {},
     "output_type": "execute_result"
    }
   ],
   "source": [
    "biofuels_waste_production[biofuels_waste_production['commodity_transaction'].str.contains('biogases - production')].commodity_transaction.unique()"
   ]
  },
  {
   "cell_type": "code",
   "execution_count": 622,
   "metadata": {
    "hidden": true
   },
   "outputs": [],
   "source": [
    "def biofuels_waste_annual_production(x):\n",
    "    return biofuels_waste_production[biofuels_waste_production['commodity_transaction'].str.contains(x)].sort_values('year').groupby(['year']).sum().round(3).reset_index()"
   ]
  },
  {
   "cell_type": "code",
   "execution_count": 653,
   "metadata": {
    "hidden": true
   },
   "outputs": [],
   "source": [
    "fuelwood_production = biofuels_waste_annual_production('fuelwood')\n",
    "bagasse_production = biofuels_waste_annual_production('bagasse')\n",
    "charcoal_production = biofuels_waste_annual_production('charcoal')\n",
    "biogasoline_production = biofuels_waste_annual_production('biogasoline')\n",
    "other_liquid_biofuels_production = biofuels_waste_annual_production('other liquid biofuels')\n",
    "uranium_production = biofuels_waste_annual_production('uranium')"
   ]
  },
  {
   "cell_type": "code",
   "execution_count": 639,
   "metadata": {
    "hidden": true
   },
   "outputs": [],
   "source": [
    "vegetal_waste_production = biofuels_waste_annual_production('vegetal')\n",
    "black_liquor_production = biofuels_waste_annual_production('black liquor')\n",
    "municipal_wastes_production = biofuels_waste_annual_production('municipal')\n",
    "animal_wastes_produciton = biofuels_waste_annual_production('animal')\n",
    "industrial_waste_production = biofuels_waste_annual_production('industrial')\n",
    "biogases_production = biofuels_waste_annual_production('biogases')"
   ]
  },
  {
   "cell_type": "code",
   "execution_count": 654,
   "metadata": {
    "hidden": true
   },
   "outputs": [],
   "source": [
    "# Other liquid biofuels started reporting in 1992. Need to add rows to represent 1990 and 1991\n",
    "other_liquid_biofuels_production.loc[-1] = [1991, 0]\n",
    "other_liquid_biofuels_production.index = other_liquid_biofuels_production.index + 1\n",
    "other_liquid_biofuels_production = other_liquid_biofuels_production.sort_index()"
   ]
  },
  {
   "cell_type": "code",
   "execution_count": 659,
   "metadata": {
    "hidden": true
   },
   "outputs": [],
   "source": [
    "other_liquid_biofuels_production.loc[-1] = [1990, 0]\n",
    "other_liquid_biofuels_production.index = other_liquid_biofuels_production.index + 1\n",
    "other_liquid_biofuels_production = other_liquid_biofuels_production.sort_index()"
   ]
  },
  {
   "cell_type": "code",
   "execution_count": 668,
   "metadata": {
    "hidden": true
   },
   "outputs": [
    {
     "data": {
      "text/html": [
       "<div>\n",
       "<style scoped>\n",
       "    .dataframe tbody tr th:only-of-type {\n",
       "        vertical-align: middle;\n",
       "    }\n",
       "\n",
       "    .dataframe tbody tr th {\n",
       "        vertical-align: top;\n",
       "    }\n",
       "\n",
       "    .dataframe thead th {\n",
       "        text-align: right;\n",
       "    }\n",
       "</style>\n",
       "<table border=\"1\" class=\"dataframe\">\n",
       "  <thead>\n",
       "    <tr style=\"text-align: right;\">\n",
       "      <th></th>\n",
       "      <th>year</th>\n",
       "      <th>quantity</th>\n",
       "    </tr>\n",
       "  </thead>\n",
       "  <tbody>\n",
       "    <tr>\n",
       "      <td>0</td>\n",
       "      <td>1990</td>\n",
       "      <td>33395.00</td>\n",
       "    </tr>\n",
       "    <tr>\n",
       "      <td>1</td>\n",
       "      <td>1991</td>\n",
       "      <td>28713.00</td>\n",
       "    </tr>\n",
       "    <tr>\n",
       "      <td>2</td>\n",
       "      <td>1992</td>\n",
       "      <td>34496.00</td>\n",
       "    </tr>\n",
       "    <tr>\n",
       "      <td>3</td>\n",
       "      <td>1993</td>\n",
       "      <td>33207.00</td>\n",
       "    </tr>\n",
       "    <tr>\n",
       "      <td>4</td>\n",
       "      <td>1994</td>\n",
       "      <td>31610.00</td>\n",
       "    </tr>\n",
       "    <tr>\n",
       "      <td>5</td>\n",
       "      <td>1995</td>\n",
       "      <td>33154.00</td>\n",
       "    </tr>\n",
       "    <tr>\n",
       "      <td>6</td>\n",
       "      <td>1996</td>\n",
       "      <td>36182.00</td>\n",
       "    </tr>\n",
       "    <tr>\n",
       "      <td>7</td>\n",
       "      <td>1997</td>\n",
       "      <td>36793.00</td>\n",
       "    </tr>\n",
       "    <tr>\n",
       "      <td>8</td>\n",
       "      <td>1998</td>\n",
       "      <td>34886.00</td>\n",
       "    </tr>\n",
       "    <tr>\n",
       "      <td>9</td>\n",
       "      <td>1999</td>\n",
       "      <td>32946.00</td>\n",
       "    </tr>\n",
       "    <tr>\n",
       "      <td>10</td>\n",
       "      <td>2000</td>\n",
       "      <td>36011.00</td>\n",
       "    </tr>\n",
       "    <tr>\n",
       "      <td>11</td>\n",
       "      <td>2001</td>\n",
       "      <td>37030.00</td>\n",
       "    </tr>\n",
       "    <tr>\n",
       "      <td>12</td>\n",
       "      <td>2002</td>\n",
       "      <td>36113.00</td>\n",
       "    </tr>\n",
       "    <tr>\n",
       "      <td>13</td>\n",
       "      <td>2003</td>\n",
       "      <td>35519.00</td>\n",
       "    </tr>\n",
       "    <tr>\n",
       "      <td>14</td>\n",
       "      <td>2004</td>\n",
       "      <td>40469.00</td>\n",
       "    </tr>\n",
       "    <tr>\n",
       "      <td>15</td>\n",
       "      <td>2005</td>\n",
       "      <td>41733.00</td>\n",
       "    </tr>\n",
       "    <tr>\n",
       "      <td>16</td>\n",
       "      <td>2006</td>\n",
       "      <td>39637.00</td>\n",
       "    </tr>\n",
       "    <tr>\n",
       "      <td>17</td>\n",
       "      <td>2007</td>\n",
       "      <td>41259.00</td>\n",
       "    </tr>\n",
       "    <tr>\n",
       "      <td>18</td>\n",
       "      <td>2008</td>\n",
       "      <td>43818.26</td>\n",
       "    </tr>\n",
       "    <tr>\n",
       "      <td>19</td>\n",
       "      <td>2009</td>\n",
       "      <td>51517.14</td>\n",
       "    </tr>\n",
       "    <tr>\n",
       "      <td>20</td>\n",
       "      <td>2010</td>\n",
       "      <td>54680.30</td>\n",
       "    </tr>\n",
       "    <tr>\n",
       "      <td>21</td>\n",
       "      <td>2011</td>\n",
       "      <td>54766.00</td>\n",
       "    </tr>\n",
       "    <tr>\n",
       "      <td>22</td>\n",
       "      <td>2012</td>\n",
       "      <td>59197.00</td>\n",
       "    </tr>\n",
       "    <tr>\n",
       "      <td>23</td>\n",
       "      <td>2013</td>\n",
       "      <td>60541.00</td>\n",
       "    </tr>\n",
       "    <tr>\n",
       "      <td>24</td>\n",
       "      <td>2014</td>\n",
       "      <td>56714.00</td>\n",
       "    </tr>\n",
       "  </tbody>\n",
       "</table>\n",
       "</div>"
      ],
      "text/plain": [
       "    year  quantity\n",
       "0   1990  33395.00\n",
       "1   1991  28713.00\n",
       "2   1992  34496.00\n",
       "3   1993  33207.00\n",
       "4   1994  31610.00\n",
       "5   1995  33154.00\n",
       "6   1996  36182.00\n",
       "7   1997  36793.00\n",
       "8   1998  34886.00\n",
       "9   1999  32946.00\n",
       "10  2000  36011.00\n",
       "11  2001  37030.00\n",
       "12  2002  36113.00\n",
       "13  2003  35519.00\n",
       "14  2004  40469.00\n",
       "15  2005  41733.00\n",
       "16  2006  39637.00\n",
       "17  2007  41259.00\n",
       "18  2008  43818.26\n",
       "19  2009  51517.14\n",
       "20  2010  54680.30\n",
       "21  2011  54766.00\n",
       "22  2012  59197.00\n",
       "23  2013  60541.00\n",
       "24  2014  56714.00"
      ]
     },
     "execution_count": 668,
     "metadata": {},
     "output_type": "execute_result"
    }
   ],
   "source": [
    "uranium_production"
   ]
  },
  {
   "cell_type": "code",
   "execution_count": 683,
   "metadata": {
    "hidden": true
   },
   "outputs": [
    {
     "data": {
      "image/png": "[encoded data removed]",
      "text/plain": [
       "<Figure size 1080x720 with 1 Axes>"
      ]
     },
     "metadata": {
      "needs_background": "light"
     },
     "output_type": "display_data"
    }
   ],
   "source": [
    "time = fuelwood_production['year']\n",
    "# convert fuelwood from cubic meters to metric ton. Avg. fuelwood density if is between 650-750 kg/m3 \n",
    "fuelwood = fuelwood_production['quantity'] * 700\n",
    "bagasse = bagasse_production['quantity'] *1000 #to convert from (Metric ton, thousand) to (Metric ton)\n",
    "charcoal = charcoal_production['quantity'] *1000 #to convert from (Metric ton, thousand) to (Metric ton)\n",
    "biogasoline = biogasoline_production['quantity'] *1000 #to convert from (Metric ton, thousand) to (Metric ton)\n",
    "other_liquid_biofuels = other_liquid_biofuels_production['quantity'] *1000 #to convert from (Metric ton, thousand) to (Metric ton)\n",
    "uranium = uranium_production['quantity']\n",
    "\n",
    "\n",
    "fig, ax = plt.subplots(figsize = (15,10))\n",
    "\n",
    "\n",
    "ax.plot(time, fuelwood, label='fuelwood')\n",
    "ax.plot(time, bagasse, label='bagasse', color = 'red')\n",
    "ax.plot(time, charcoal, label='charcoal')\n",
    "ax.plot(time, biogasoline, label='biogasoline')\n",
    "ax.plot(time, other_liquid_biofuels, label='other liquid biofuels')\n",
    "ax.plot(time, uranium, label='uranium')\n",
    "\n",
    "# ax.ticklabel_format(scilimits= [3,3])\n",
    "\n",
    "ax.legend()\n",
    "ax.set_xlabel('year', fontsize=14)\n",
    "ax.set_ylabel('Production (Metric Ton)', fontsize=14)\n",
    "ax.set_title('Annual Global Production of Biofuels and Uranium from 1990-2014', fontsize=18)\n",
    "\n",
    "plt.show()\n",
    "\n"
   ]
  },
  {
   "cell_type": "code",
   "execution_count": 681,
   "metadata": {
    "hidden": true
   },
   "outputs": [
    {
     "data": {
      "image/png": "[encoded data removed]",
      "text/plain": [
       "<Figure size 1080x720 with 1 Axes>"
      ]
     },
     "metadata": {
      "needs_background": "light"
     },
     "output_type": "display_data"
    }
   ],
   "source": [
    "time = fuelwood_production['year']\n",
    "vegetal_waste = vegetal_waste_production['quantity'] \n",
    "black_liquor_waste = black_liquor_production['quantity']\n",
    "municipal_waste = municipal_wastes_production['quantity']\n",
    "animal_waste = animal_wastes_produciton['quantity']\n",
    "industrial_waste = industrial_waste_production['quantity']\n",
    "biogases = biogases_production['quantity']\n",
    "\n",
    "\n",
    "fig, ax = plt.subplots(figsize = (15,10))\n",
    "\n",
    "\n",
    "ax.plot(time, vegetal_waste, label='vegetal waste')\n",
    "ax.plot(time, black_liquor_waste, label='black liquor waste', color = 'red')\n",
    "ax.plot(time, municipal_waste, label='municipal waste')\n",
    "ax.plot(time, animal_waste, label='animal waste')\n",
    "ax.plot(time, industrial_waste, label='industrial waste')\n",
    "ax.plot(time, biogases, label='biogases')\n",
    "\n",
    "# ax.ticklabel_format(scilimits= [3,3])\n",
    "\n",
    "ax.legend()\n",
    "ax.set_xlabel('year', fontsize=14)\n",
    "ax.set_ylabel('Production (Terajoules)', fontsize=14)\n",
    "ax.set_title('Annual Global Production of Waste Product and Biogases from 1990-2014', fontsize=18)\n",
    "\n",
    "plt.show()"
   ]
  },
  {
   "cell_type": "markdown",
   "metadata": {},
   "source": [
    "# Electricity Production"
   ]
  },
  {
   "cell_type": "code",
   "execution_count": 691,
   "metadata": {},
   "outputs": [
    {
     "data": {
      "text/plain": [
       "array(['electricity generating capacity - from other sources - autoproducers',\n",
       "       'electricity generating capacity - from other sources - main activity producers',\n",
       "       'electricity generating capacity - from other sources - total',\n",
       "       'electricity generating capacity - pumped hydro - autoproducers',\n",
       "       'electricity generating capacity - pumped hydro - main activity producers',\n",
       "       'electricity generating capacity - pumped hydro - total',\n",
       "       'electricity generating capacity - solar pv - autoproducers',\n",
       "       'electricity generating capacity - solar pv - main activity producers',\n",
       "       'electricity generating capacity - solar pv - total',\n",
       "       'electricity generating capacity - solar thermal - autoproducers',\n",
       "       'electricity generating capacity - solar thermal - main activity producers',\n",
       "       'electricity generating capacity - solar thermal - total',\n",
       "       'electricity - net installed capacity of electric power plants, public combustible fuels',\n",
       "       'electricity - net installed capacity of electric power plants, public geothermal',\n",
       "       'electricity - net installed capacity of electric power plants, public hydro',\n",
       "       'electricity - net installed capacity of electric power plants, public nuclear',\n",
       "       'electricity - net installed capacity of electric power plants public solar',\n",
       "       'electricity - net installed capacity of electric power plants, public tide, wave, marine',\n",
       "       'electricity - net installed capacity of electric power plants, public wind',\n",
       "       'electricity - net installed capacity of electric power plants, self-producer combustible fuels',\n",
       "       'electricity - net installed capacity of electric power plants, self-producer geothermal',\n",
       "       'electricity - net installed capacity of electric power plants, self-producer hydro',\n",
       "       'electricity - net installed capacity of electric power plants, self-producer nuclear',\n",
       "       'electricity - net installed capacity of electric power plants, self-producer solar',\n",
       "       'electricity - net installed capacity of electric power plants, self-producer tide, wave, marine',\n",
       "       'electricity - net installed capacity of electric power plants, self-producer wind',\n",
       "       'electricity - total net installed capacity of electric power plants, autoproducer',\n",
       "       'electricity - total net installed capacity of electric power plants, combustible fuels',\n",
       "       'electricity - total net installed capacity of electric power plants, geothermal',\n",
       "       'electricity - total net installed capacity of electric power plants, hydro',\n",
       "       'electricity - total net installed capacity of electric power plants, main activity',\n",
       "       'electricity - total net installed capacity of electric power plants, main activity & autoproducer',\n",
       "       'electricity - total net installed capacity of electric power plants, nuclear',\n",
       "       'electricity - total net installed capacity of electric power plants, solar',\n",
       "       'electricity - total net installed capacity of electric power plants, tide, wave, marine',\n",
       "       'electricity - total net installed capacity of electric power plants, wind',\n",
       "       'falling water - total hydraulic resources',\n",
       "       'electricity - total geothermal production',\n",
       "       'electricity - total hydro production',\n",
       "       'electricity - total nuclear production',\n",
       "       'electricity - total solar production',\n",
       "       'electricity - total thermal production',\n",
       "       'electricity - total tide, wave production',\n",
       "       'electricity - consumption by chemical and petrochemical',\n",
       "       'electricity - consumption by commercial and public services',\n",
       "       'electricity - consumption by construction',\n",
       "       'electricity - consumption by food and tobacco',\n",
       "       'electricity - consumption by households',\n",
       "       'electricity - consumption by iron and steel',\n",
       "       'electricity - consumption by machinery',\n",
       "       'electricity - consumption by manufacturing, construction and non-fuel industry',\n",
       "       'electricity - consumption by mining and quarrying',\n",
       "       'electricity - consumption by non-ferrous metals',\n",
       "       'electricity - consumption by non-metallic minerals',\n",
       "       'electricity - consumption by other',\n",
       "       'electricity - consumption by other manuf., const. and non-fuel ind.',\n",
       "       'electricity - consumption by paper, pulp and print',\n",
       "       'electricity - consumption by pipeline transport',\n",
       "       'electricity - consumption by rail',\n",
       "       'electricity - consumption by road',\n",
       "       'electricity - consumption by textile and leather',\n",
       "       'electricity - consumption by transport',\n",
       "       'electricity - consumption by transport equipment',\n",
       "       'electricity - consumption by wood and wood products',\n",
       "       'electricity - consumption in agriculture, forestry and fishing',\n",
       "       'electricity - consumption not elsewhere specified (industry)',\n",
       "       'electricity - consumption not elsewhere specified (other)',\n",
       "       'electricity - consumption not elsewhere specified (transport)',\n",
       "       'electricity - energy industries own use', 'electricity - exports',\n",
       "       'electricity - final energy consumption',\n",
       "       'electricity - gross demand', 'electricity - gross production',\n",
       "       'electricity - imports', 'electricity - losses',\n",
       "       'electricity - net production',\n",
       "       'electricity - other energy industry own use',\n",
       "       'electricity - own use by blast furnaces',\n",
       "       'electricity - own use by briquetting plants',\n",
       "       'electricity - own use by coal liquefaction plants',\n",
       "       'electricity - own use by coal mines',\n",
       "       'electricity - own use by coke ovens',\n",
       "       'electricity - own use by electricity, heat and chp plants',\n",
       "       'electricity - own use by gas-to-liquid (gtl) plants',\n",
       "       'electricity - own use by gas works',\n",
       "       'electricity - own use by lng/regasification plants',\n",
       "       'electricity - own use by nuclear fuel extraction and processing',\n",
       "       'electricity - own use by oil and gas extraction',\n",
       "       'electricity - own use by oil refineries',\n",
       "       'electricity - own use by pump-storage plants',\n",
       "       'electricity - total production, autoproducer',\n",
       "       'electricity - total production, main activity',\n",
       "       'electricity - used for electric boilers',\n",
       "       'electricity - used for heat pumps',\n",
       "       'from chemical heat – autoproducer',\n",
       "       'from chemical heat – autoproducer – chp plants',\n",
       "       'from chemical heat – autoproducer – electricity plants',\n",
       "       'from chemical heat – main activity',\n",
       "       'from chemical heat – main activity – chp plants',\n",
       "       'from chemical heat – main activity – electricity plants',\n",
       "       'from combustible fuels – autoproducer',\n",
       "       'from combustible fuels – autoproducer – chp plants',\n",
       "       'from combustible fuels – autoproducer – electricity plants',\n",
       "       'from combustible fuels – main activity',\n",
       "       'from combustible fuels – main activity – chp plants',\n",
       "       'from combustible fuels – main activity – electricity plants',\n",
       "       'from other sources – autoproducer',\n",
       "       'from other sources – autoproducer – chp plants',\n",
       "       'from other sources – autoproducer – electricity plants',\n",
       "       'from other sources – main activity',\n",
       "       'from other sources – main activity – chp plants',\n",
       "       'from other sources – main activity – electricity plants',\n",
       "       'geothermal – autoproducer',\n",
       "       'geothermal – autoproducer – chp plants',\n",
       "       'geothermal – autoproducer – electricity plants',\n",
       "       'geothermal – main activity',\n",
       "       'geothermal – main activity – chp plants',\n",
       "       'geothermal – main activity – electricity plants',\n",
       "       'hydro – autoproducer', 'hydro – main activity',\n",
       "       'nuclear – autoproducer', 'nuclear – autoproducer – chp plants',\n",
       "       'nuclear – autoproducer – electricity plants',\n",
       "       'nuclear – main activity', 'nuclear – main activity – chp plants',\n",
       "       'nuclear – main activity – electricity plants',\n",
       "       'of which: pumped hydro – autoproducer',\n",
       "       'of which: pumped hydro – main activity', 'solar – autoproducer',\n",
       "       'solar – main activity', 'solar photovoltaic – autoproducer',\n",
       "       'solar photovoltaic – main activity',\n",
       "       'solar thermal – autoproducer', 'solar thermal – main activity',\n",
       "       'tide, wave and marine – autoproducer',\n",
       "       'tide, wave and marine – main activity', 'wind – autoproducer',\n",
       "       'wind – main activity', 'total refinery output',\n",
       "       'total refinery throughput', 'electricity - total wind production'],\n",
       "      dtype=object)"
      ]
     },
     "execution_count": 691,
     "metadata": {},
     "output_type": "execute_result"
    }
   ],
   "source": [
    "Electricity_df['commodity_transaction'].unique()"
   ]
  },
  {
   "cell_type": "code",
   "execution_count": 692,
   "metadata": {},
   "outputs": [
    {
     "data": {
      "text/html": [
       "<div>\n",
       "<style scoped>\n",
       "    .dataframe tbody tr th:only-of-type {\n",
       "        vertical-align: middle;\n",
       "    }\n",
       "\n",
       "    .dataframe tbody tr th {\n",
       "        vertical-align: top;\n",
       "    }\n",
       "\n",
       "    .dataframe thead th {\n",
       "        text-align: right;\n",
       "    }\n",
       "</style>\n",
       "<table border=\"1\" class=\"dataframe\">\n",
       "  <thead>\n",
       "    <tr style=\"text-align: right;\">\n",
       "      <th></th>\n",
       "      <th>country_or_area</th>\n",
       "      <th>commodity_transaction</th>\n",
       "      <th>year</th>\n",
       "      <th>unit</th>\n",
       "      <th>quantity</th>\n",
       "      <th>product</th>\n",
       "      <th>product_class</th>\n",
       "    </tr>\n",
       "  </thead>\n",
       "  <tbody>\n",
       "    <tr>\n",
       "      <td>1133492</td>\n",
       "      <td>afghanistan</td>\n",
       "      <td>electricity - total production, autoproducer</td>\n",
       "      <td>2014</td>\n",
       "      <td>Kilowatt-hours, million</td>\n",
       "      <td>307.0</td>\n",
       "      <td>total_electricity</td>\n",
       "      <td>Electricity</td>\n",
       "    </tr>\n",
       "    <tr>\n",
       "      <td>1133493</td>\n",
       "      <td>afghanistan</td>\n",
       "      <td>electricity - total production, autoproducer</td>\n",
       "      <td>2013</td>\n",
       "      <td>Kilowatt-hours, million</td>\n",
       "      <td>276.0</td>\n",
       "      <td>total_electricity</td>\n",
       "      <td>Electricity</td>\n",
       "    </tr>\n",
       "    <tr>\n",
       "      <td>1133494</td>\n",
       "      <td>afghanistan</td>\n",
       "      <td>electricity - total production, autoproducer</td>\n",
       "      <td>2012</td>\n",
       "      <td>Kilowatt-hours, million</td>\n",
       "      <td>301.0</td>\n",
       "      <td>total_electricity</td>\n",
       "      <td>Electricity</td>\n",
       "    </tr>\n",
       "    <tr>\n",
       "      <td>1133495</td>\n",
       "      <td>afghanistan</td>\n",
       "      <td>electricity - total production, autoproducer</td>\n",
       "      <td>2011</td>\n",
       "      <td>Kilowatt-hours, million</td>\n",
       "      <td>286.0</td>\n",
       "      <td>total_electricity</td>\n",
       "      <td>Electricity</td>\n",
       "    </tr>\n",
       "    <tr>\n",
       "      <td>1133496</td>\n",
       "      <td>afghanistan</td>\n",
       "      <td>electricity - total production, autoproducer</td>\n",
       "      <td>2010</td>\n",
       "      <td>Kilowatt-hours, million</td>\n",
       "      <td>270.0</td>\n",
       "      <td>total_electricity</td>\n",
       "      <td>Electricity</td>\n",
       "    </tr>\n",
       "    <tr>\n",
       "      <td>...</td>\n",
       "      <td>...</td>\n",
       "      <td>...</td>\n",
       "      <td>...</td>\n",
       "      <td>...</td>\n",
       "      <td>...</td>\n",
       "      <td>...</td>\n",
       "      <td>...</td>\n",
       "    </tr>\n",
       "    <tr>\n",
       "      <td>1137163</td>\n",
       "      <td>zimbabwe</td>\n",
       "      <td>electricity - total production, autoproducer</td>\n",
       "      <td>1996</td>\n",
       "      <td>Kilowatt-hours, million</td>\n",
       "      <td>25.0</td>\n",
       "      <td>total_electricity</td>\n",
       "      <td>Electricity</td>\n",
       "    </tr>\n",
       "    <tr>\n",
       "      <td>1137164</td>\n",
       "      <td>zimbabwe</td>\n",
       "      <td>electricity - total production, autoproducer</td>\n",
       "      <td>1995</td>\n",
       "      <td>Kilowatt-hours, million</td>\n",
       "      <td>25.0</td>\n",
       "      <td>total_electricity</td>\n",
       "      <td>Electricity</td>\n",
       "    </tr>\n",
       "    <tr>\n",
       "      <td>1137165</td>\n",
       "      <td>zimbabwe</td>\n",
       "      <td>electricity - total production, autoproducer</td>\n",
       "      <td>1994</td>\n",
       "      <td>Kilowatt-hours, million</td>\n",
       "      <td>23.0</td>\n",
       "      <td>total_electricity</td>\n",
       "      <td>Electricity</td>\n",
       "    </tr>\n",
       "    <tr>\n",
       "      <td>1137166</td>\n",
       "      <td>zimbabwe</td>\n",
       "      <td>electricity - total production, autoproducer</td>\n",
       "      <td>1993</td>\n",
       "      <td>Kilowatt-hours, million</td>\n",
       "      <td>25.0</td>\n",
       "      <td>total_electricity</td>\n",
       "      <td>Electricity</td>\n",
       "    </tr>\n",
       "    <tr>\n",
       "      <td>1137167</td>\n",
       "      <td>zimbabwe</td>\n",
       "      <td>electricity - total production, autoproducer</td>\n",
       "      <td>1990</td>\n",
       "      <td>Kilowatt-hours, million</td>\n",
       "      <td>158.0</td>\n",
       "      <td>total_electricity</td>\n",
       "      <td>Electricity</td>\n",
       "    </tr>\n",
       "  </tbody>\n",
       "</table>\n",
       "<p>3676 rows × 7 columns</p>\n",
       "</div>"
      ],
      "text/plain": [
       "        country_or_area                         commodity_transaction  year  \\\n",
       "1133492     afghanistan  electricity - total production, autoproducer  2014   \n",
       "1133493     afghanistan  electricity - total production, autoproducer  2013   \n",
       "1133494     afghanistan  electricity - total production, autoproducer  2012   \n",
       "1133495     afghanistan  electricity - total production, autoproducer  2011   \n",
       "1133496     afghanistan  electricity - total production, autoproducer  2010   \n",
       "...                 ...                                           ...   ...   \n",
       "1137163        zimbabwe  electricity - total production, autoproducer  1996   \n",
       "1137164        zimbabwe  electricity - total production, autoproducer  1995   \n",
       "1137165        zimbabwe  electricity - total production, autoproducer  1994   \n",
       "1137166        zimbabwe  electricity - total production, autoproducer  1993   \n",
       "1137167        zimbabwe  electricity - total production, autoproducer  1990   \n",
       "\n",
       "                            unit  quantity            product product_class  \n",
       "1133492  Kilowatt-hours, million     307.0  total_electricity   Electricity  \n",
       "1133493  Kilowatt-hours, million     276.0  total_electricity   Electricity  \n",
       "1133494  Kilowatt-hours, million     301.0  total_electricity   Electricity  \n",
       "1133495  Kilowatt-hours, million     286.0  total_electricity   Electricity  \n",
       "1133496  Kilowatt-hours, million     270.0  total_electricity   Electricity  \n",
       "...                          ...       ...                ...           ...  \n",
       "1137163  Kilowatt-hours, million      25.0  total_electricity   Electricity  \n",
       "1137164  Kilowatt-hours, million      25.0  total_electricity   Electricity  \n",
       "1137165  Kilowatt-hours, million      23.0  total_electricity   Electricity  \n",
       "1137166  Kilowatt-hours, million      25.0  total_electricity   Electricity  \n",
       "1137167  Kilowatt-hours, million     158.0  total_electricity   Electricity  \n",
       "\n",
       "[3676 rows x 7 columns]"
      ]
     },
     "execution_count": 692,
     "metadata": {},
     "output_type": "execute_result"
    }
   ],
   "source": [
    "Electricity_df[Electricity_df['commodity_transaction'].str.contains('electricity - total production, autoproducer')]"
   ]
  },
  {
   "cell_type": "code",
   "execution_count": 693,
   "metadata": {},
   "outputs": [],
   "source": [
    "# production of electricity comes from autoproducers or main activity plants\n",
    "electricity_production = Electricity_df[Electricity_df['commodity_transaction'].str.contains(\"autoproducer|main activity\")]"
   ]
  },
  {
   "cell_type": "code",
   "execution_count": 694,
   "metadata": {},
   "outputs": [
    {
     "data": {
      "text/plain": [
       "204398    electricity generating capacity - from other sources - autoproducers\n",
       "204399    electricity generating capacity - from other sources - autoproducers\n",
       "204400    electricity generating capacity - from other sources - autoproducers\n",
       "204401    electricity generating capacity - from other sources - autoproducers\n",
       "204402    electricity generating capacity - from other sources - autoproducers\n",
       "Name: commodity_transaction, dtype: object"
      ]
     },
     "execution_count": 694,
     "metadata": {},
     "output_type": "execute_result"
    }
   ],
   "source": [
    "electricity_production['commodity_transaction'].head()"
   ]
  },
  {
   "cell_type": "code",
   "execution_count": 695,
   "metadata": {},
   "outputs": [],
   "source": [
    "electricity_production = electricity_production.groupby(['commodity_transaction']).sum().round(2).drop(['year'], axis=1).reset_index()"
   ]
  },
  {
   "cell_type": "code",
   "execution_count": 696,
   "metadata": {
    "collapsed": true
   },
   "outputs": [
    {
     "data": {
      "text/plain": [
       "array(['electricity - total net installed capacity of electric power plants, autoproducer',\n",
       "       'electricity - total net installed capacity of electric power plants, main activity',\n",
       "       'electricity - total net installed capacity of electric power plants, main activity & autoproducer',\n",
       "       'electricity - total production, autoproducer',\n",
       "       'electricity - total production, main activity',\n",
       "       'electricity generating capacity - from other sources - autoproducers',\n",
       "       'electricity generating capacity - from other sources - main activity producers',\n",
       "       'electricity generating capacity - pumped hydro - autoproducers',\n",
       "       'electricity generating capacity - pumped hydro - main activity producers',\n",
       "       'electricity generating capacity - solar pv - autoproducers',\n",
       "       'electricity generating capacity - solar pv - main activity producers',\n",
       "       'electricity generating capacity - solar thermal - autoproducers',\n",
       "       'electricity generating capacity - solar thermal - main activity producers',\n",
       "       'from chemical heat – autoproducer',\n",
       "       'from chemical heat – autoproducer – chp plants',\n",
       "       'from chemical heat – autoproducer – electricity plants',\n",
       "       'from chemical heat – main activity',\n",
       "       'from chemical heat – main activity – chp plants',\n",
       "       'from chemical heat – main activity – electricity plants',\n",
       "       'from combustible fuels – autoproducer',\n",
       "       'from combustible fuels – autoproducer – chp plants',\n",
       "       'from combustible fuels – autoproducer – electricity plants',\n",
       "       'from combustible fuels – main activity',\n",
       "       'from combustible fuels – main activity – chp plants',\n",
       "       'from combustible fuels – main activity – electricity plants',\n",
       "       'from other sources – autoproducer',\n",
       "       'from other sources – autoproducer – chp plants',\n",
       "       'from other sources – autoproducer – electricity plants',\n",
       "       'from other sources – main activity',\n",
       "       'from other sources – main activity – chp plants',\n",
       "       'from other sources – main activity – electricity plants',\n",
       "       'geothermal – autoproducer',\n",
       "       'geothermal – autoproducer – chp plants',\n",
       "       'geothermal – autoproducer – electricity plants',\n",
       "       'geothermal – main activity',\n",
       "       'geothermal – main activity – chp plants',\n",
       "       'geothermal – main activity – electricity plants',\n",
       "       'hydro – autoproducer', 'hydro – main activity',\n",
       "       'nuclear – autoproducer', 'nuclear – autoproducer – chp plants',\n",
       "       'nuclear – autoproducer – electricity plants',\n",
       "       'nuclear – main activity', 'nuclear – main activity – chp plants',\n",
       "       'nuclear – main activity – electricity plants',\n",
       "       'of which: pumped hydro – autoproducer',\n",
       "       'of which: pumped hydro – main activity',\n",
       "       'solar photovoltaic – autoproducer',\n",
       "       'solar photovoltaic – main activity',\n",
       "       'solar thermal – autoproducer', 'solar thermal – main activity',\n",
       "       'solar – autoproducer', 'solar – main activity',\n",
       "       'tide, wave and marine – autoproducer',\n",
       "       'tide, wave and marine – main activity', 'wind – autoproducer',\n",
       "       'wind – main activity'], dtype=object)"
      ]
     },
     "execution_count": 696,
     "metadata": {},
     "output_type": "execute_result"
    }
   ],
   "source": [
    "electricity_production['commodity_transaction'].unique()"
   ]
  },
  {
   "cell_type": "code",
   "execution_count": 697,
   "metadata": {},
   "outputs": [],
   "source": [
    "# create new dataframe for rows refering to electric capacity and\n",
    "# drop the same rows in electricity_production\n",
    "\n",
    "total_electric_capacity = electricity_production[electricity_production['commodity_transaction'].str.contains(\"capacity\")]"
   ]
  },
  {
   "cell_type": "code",
   "execution_count": 698,
   "metadata": {},
   "outputs": [],
   "source": [
    "total_electricity_production = electricity_production.iloc[13:]"
   ]
  },
  {
   "cell_type": "code",
   "execution_count": 147,
   "metadata": {},
   "outputs": [],
   "source": [
    "total_electricity_production = electricity_production.sort_values(by=['quantity'], ascending=False)"
   ]
  },
  {
   "cell_type": "code",
   "execution_count": 699,
   "metadata": {
    "collapsed": true
   },
   "outputs": [
    {
     "data": {
      "text/plain": [
       "array(['from chemical heat – autoproducer',\n",
       "       'from chemical heat – autoproducer – chp plants',\n",
       "       'from chemical heat – autoproducer – electricity plants',\n",
       "       'from chemical heat – main activity',\n",
       "       'from chemical heat – main activity – chp plants',\n",
       "       'from chemical heat – main activity – electricity plants',\n",
       "       'from combustible fuels – autoproducer',\n",
       "       'from combustible fuels – autoproducer – chp plants',\n",
       "       'from combustible fuels – autoproducer – electricity plants',\n",
       "       'from combustible fuels – main activity',\n",
       "       'from combustible fuels – main activity – chp plants',\n",
       "       'from combustible fuels – main activity – electricity plants',\n",
       "       'from other sources – autoproducer',\n",
       "       'from other sources – autoproducer – chp plants',\n",
       "       'from other sources – autoproducer – electricity plants',\n",
       "       'from other sources – main activity',\n",
       "       'from other sources – main activity – chp plants',\n",
       "       'from other sources – main activity – electricity plants',\n",
       "       'geothermal – autoproducer',\n",
       "       'geothermal – autoproducer – chp plants',\n",
       "       'geothermal – autoproducer – electricity plants',\n",
       "       'geothermal – main activity',\n",
       "       'geothermal – main activity – chp plants',\n",
       "       'geothermal – main activity – electricity plants',\n",
       "       'hydro – autoproducer', 'hydro – main activity',\n",
       "       'nuclear – autoproducer', 'nuclear – autoproducer – chp plants',\n",
       "       'nuclear – autoproducer – electricity plants',\n",
       "       'nuclear – main activity', 'nuclear – main activity – chp plants',\n",
       "       'nuclear – main activity – electricity plants',\n",
       "       'of which: pumped hydro – autoproducer',\n",
       "       'of which: pumped hydro – main activity',\n",
       "       'solar photovoltaic – autoproducer',\n",
       "       'solar photovoltaic – main activity',\n",
       "       'solar thermal – autoproducer', 'solar thermal – main activity',\n",
       "       'solar – autoproducer', 'solar – main activity',\n",
       "       'tide, wave and marine – autoproducer',\n",
       "       'tide, wave and marine – main activity', 'wind – autoproducer',\n",
       "       'wind – main activity'], dtype=object)"
      ]
     },
     "execution_count": 699,
     "metadata": {},
     "output_type": "execute_result"
    }
   ],
   "source": [
    "total_electricity_production['commodity_transaction'].unique()"
   ]
  },
  {
   "cell_type": "code",
   "execution_count": 702,
   "metadata": {
    "collapsed": true
   },
   "outputs": [
    {
     "data": {
      "text/html": [
       "<div>\n",
       "<style scoped>\n",
       "    .dataframe tbody tr th:only-of-type {\n",
       "        vertical-align: middle;\n",
       "    }\n",
       "\n",
       "    .dataframe tbody tr th {\n",
       "        vertical-align: top;\n",
       "    }\n",
       "\n",
       "    .dataframe thead th {\n",
       "        text-align: right;\n",
       "    }\n",
       "</style>\n",
       "<table border=\"1\" class=\"dataframe\">\n",
       "  <thead>\n",
       "    <tr style=\"text-align: right;\">\n",
       "      <th></th>\n",
       "      <th>commodity_transaction</th>\n",
       "      <th>quantity</th>\n",
       "    </tr>\n",
       "  </thead>\n",
       "  <tbody>\n",
       "    <tr>\n",
       "      <td>13</td>\n",
       "      <td>from chemical heat – autoproducer</td>\n",
       "      <td>1.265000e+04</td>\n",
       "    </tr>\n",
       "    <tr>\n",
       "      <td>14</td>\n",
       "      <td>from chemical heat – autoproducer – chp plants</td>\n",
       "      <td>6.275000e+03</td>\n",
       "    </tr>\n",
       "    <tr>\n",
       "      <td>15</td>\n",
       "      <td>from chemical heat – autoproducer – electricity plants</td>\n",
       "      <td>6.375000e+03</td>\n",
       "    </tr>\n",
       "    <tr>\n",
       "      <td>16</td>\n",
       "      <td>from chemical heat – main activity</td>\n",
       "      <td>1.398000e+03</td>\n",
       "    </tr>\n",
       "    <tr>\n",
       "      <td>17</td>\n",
       "      <td>from chemical heat – main activity – chp plants</td>\n",
       "      <td>1.165000e+03</td>\n",
       "    </tr>\n",
       "    <tr>\n",
       "      <td>18</td>\n",
       "      <td>from chemical heat – main activity – electricity plants</td>\n",
       "      <td>2.330000e+02</td>\n",
       "    </tr>\n",
       "    <tr>\n",
       "      <td>19</td>\n",
       "      <td>from combustible fuels – autoproducer</td>\n",
       "      <td>2.820016e+07</td>\n",
       "    </tr>\n",
       "    <tr>\n",
       "      <td>20</td>\n",
       "      <td>from combustible fuels – autoproducer – chp plants</td>\n",
       "      <td>1.086777e+07</td>\n",
       "    </tr>\n",
       "    <tr>\n",
       "      <td>21</td>\n",
       "      <td>from combustible fuels – autoproducer – electricity plants</td>\n",
       "      <td>1.346586e+07</td>\n",
       "    </tr>\n",
       "    <tr>\n",
       "      <td>22</td>\n",
       "      <td>from combustible fuels – main activity</td>\n",
       "      <td>2.556860e+08</td>\n",
       "    </tr>\n",
       "    <tr>\n",
       "      <td>23</td>\n",
       "      <td>from combustible fuels – main activity – chp plants</td>\n",
       "      <td>2.858703e+07</td>\n",
       "    </tr>\n",
       "    <tr>\n",
       "      <td>24</td>\n",
       "      <td>from combustible fuels – main activity – electricity plants</td>\n",
       "      <td>1.839172e+08</td>\n",
       "    </tr>\n",
       "    <tr>\n",
       "      <td>25</td>\n",
       "      <td>from other sources – autoproducer</td>\n",
       "      <td>6.663900e+04</td>\n",
       "    </tr>\n",
       "    <tr>\n",
       "      <td>26</td>\n",
       "      <td>from other sources – autoproducer – chp plants</td>\n",
       "      <td>3.635800e+04</td>\n",
       "    </tr>\n",
       "    <tr>\n",
       "      <td>27</td>\n",
       "      <td>from other sources – autoproducer – electricity plants</td>\n",
       "      <td>3.028100e+04</td>\n",
       "    </tr>\n",
       "    <tr>\n",
       "      <td>28</td>\n",
       "      <td>from other sources – main activity</td>\n",
       "      <td>2.324488e+05</td>\n",
       "    </tr>\n",
       "    <tr>\n",
       "      <td>29</td>\n",
       "      <td>from other sources – main activity – chp plants</td>\n",
       "      <td>3.193000e+03</td>\n",
       "    </tr>\n",
       "    <tr>\n",
       "      <td>30</td>\n",
       "      <td>from other sources – main activity – electricity plants</td>\n",
       "      <td>2.292558e+05</td>\n",
       "    </tr>\n",
       "    <tr>\n",
       "      <td>31</td>\n",
       "      <td>geothermal – autoproducer</td>\n",
       "      <td>9.483591e+04</td>\n",
       "    </tr>\n",
       "    <tr>\n",
       "      <td>32</td>\n",
       "      <td>geothermal – autoproducer – chp plants</td>\n",
       "      <td>1.371000e+03</td>\n",
       "    </tr>\n",
       "    <tr>\n",
       "      <td>33</td>\n",
       "      <td>geothermal – autoproducer – electricity plants</td>\n",
       "      <td>9.261969e+04</td>\n",
       "    </tr>\n",
       "    <tr>\n",
       "      <td>34</td>\n",
       "      <td>geothermal – main activity</td>\n",
       "      <td>1.250098e+06</td>\n",
       "    </tr>\n",
       "    <tr>\n",
       "      <td>35</td>\n",
       "      <td>geothermal – main activity – chp plants</td>\n",
       "      <td>2.557800e+04</td>\n",
       "    </tr>\n",
       "    <tr>\n",
       "      <td>36</td>\n",
       "      <td>geothermal – main activity – electricity plants</td>\n",
       "      <td>9.807273e+05</td>\n",
       "    </tr>\n",
       "    <tr>\n",
       "      <td>37</td>\n",
       "      <td>hydro – autoproducer</td>\n",
       "      <td>2.308826e+06</td>\n",
       "    </tr>\n",
       "    <tr>\n",
       "      <td>38</td>\n",
       "      <td>hydro – main activity</td>\n",
       "      <td>7.053943e+07</td>\n",
       "    </tr>\n",
       "    <tr>\n",
       "      <td>39</td>\n",
       "      <td>nuclear – autoproducer</td>\n",
       "      <td>4.783100e+04</td>\n",
       "    </tr>\n",
       "    <tr>\n",
       "      <td>40</td>\n",
       "      <td>nuclear – autoproducer – chp plants</td>\n",
       "      <td>3.950000e+02</td>\n",
       "    </tr>\n",
       "    <tr>\n",
       "      <td>41</td>\n",
       "      <td>nuclear – autoproducer – electricity plants</td>\n",
       "      <td>4.634000e+04</td>\n",
       "    </tr>\n",
       "    <tr>\n",
       "      <td>42</td>\n",
       "      <td>nuclear – main activity</td>\n",
       "      <td>6.253849e+07</td>\n",
       "    </tr>\n",
       "    <tr>\n",
       "      <td>43</td>\n",
       "      <td>nuclear – main activity – chp plants</td>\n",
       "      <td>5.817290e+05</td>\n",
       "    </tr>\n",
       "    <tr>\n",
       "      <td>44</td>\n",
       "      <td>nuclear – main activity – electricity plants</td>\n",
       "      <td>5.809222e+07</td>\n",
       "    </tr>\n",
       "    <tr>\n",
       "      <td>45</td>\n",
       "      <td>of which: pumped hydro – autoproducer</td>\n",
       "      <td>3.022000e+03</td>\n",
       "    </tr>\n",
       "    <tr>\n",
       "      <td>46</td>\n",
       "      <td>of which: pumped hydro – main activity</td>\n",
       "      <td>1.713093e+06</td>\n",
       "    </tr>\n",
       "    <tr>\n",
       "      <td>47</td>\n",
       "      <td>solar photovoltaic – autoproducer</td>\n",
       "      <td>1.625475e+05</td>\n",
       "    </tr>\n",
       "    <tr>\n",
       "      <td>48</td>\n",
       "      <td>solar photovoltaic – main activity</td>\n",
       "      <td>3.573688e+05</td>\n",
       "    </tr>\n",
       "    <tr>\n",
       "      <td>49</td>\n",
       "      <td>solar thermal – autoproducer</td>\n",
       "      <td>7.416000e+03</td>\n",
       "    </tr>\n",
       "    <tr>\n",
       "      <td>50</td>\n",
       "      <td>solar thermal – main activity</td>\n",
       "      <td>3.060460e+04</td>\n",
       "    </tr>\n",
       "    <tr>\n",
       "      <td>51</td>\n",
       "      <td>solar – autoproducer</td>\n",
       "      <td>1.715319e+05</td>\n",
       "    </tr>\n",
       "    <tr>\n",
       "      <td>52</td>\n",
       "      <td>solar – main activity</td>\n",
       "      <td>4.123656e+05</td>\n",
       "    </tr>\n",
       "    <tr>\n",
       "      <td>53</td>\n",
       "      <td>tide, wave and marine – autoproducer</td>\n",
       "      <td>1.600000e+01</td>\n",
       "    </tr>\n",
       "    <tr>\n",
       "      <td>54</td>\n",
       "      <td>tide, wave and marine – main activity</td>\n",
       "      <td>1.383200e+04</td>\n",
       "    </tr>\n",
       "    <tr>\n",
       "      <td>55</td>\n",
       "      <td>wind – autoproducer</td>\n",
       "      <td>1.663111e+05</td>\n",
       "    </tr>\n",
       "    <tr>\n",
       "      <td>56</td>\n",
       "      <td>wind – main activity</td>\n",
       "      <td>3.689739e+06</td>\n",
       "    </tr>\n",
       "  </tbody>\n",
       "</table>\n",
       "</div>"
      ],
      "text/plain": [
       "                                          commodity_transaction      quantity\n",
       "13                            from chemical heat – autoproducer  1.265000e+04\n",
       "14               from chemical heat – autoproducer – chp plants  6.275000e+03\n",
       "15       from chemical heat – autoproducer – electricity plants  6.375000e+03\n",
       "16                           from chemical heat – main activity  1.398000e+03\n",
       "17              from chemical heat – main activity – chp plants  1.165000e+03\n",
       "18      from chemical heat – main activity – electricity plants  2.330000e+02\n",
       "19                        from combustible fuels – autoproducer  2.820016e+07\n",
       "20           from combustible fuels – autoproducer – chp plants  1.086777e+07\n",
       "21   from combustible fuels – autoproducer – electricity plants  1.346586e+07\n",
       "22                       from combustible fuels – main activity  2.556860e+08\n",
       "23          from combustible fuels – main activity – chp plants  2.858703e+07\n",
       "24  from combustible fuels – main activity – electricity plants  1.839172e+08\n",
       "25                            from other sources – autoproducer  6.663900e+04\n",
       "26               from other sources – autoproducer – chp plants  3.635800e+04\n",
       "27       from other sources – autoproducer – electricity plants  3.028100e+04\n",
       "28                           from other sources – main activity  2.324488e+05\n",
       "29              from other sources – main activity – chp plants  3.193000e+03\n",
       "30      from other sources – main activity – electricity plants  2.292558e+05\n",
       "31                                    geothermal – autoproducer  9.483591e+04\n",
       "32                       geothermal – autoproducer – chp plants  1.371000e+03\n",
       "33               geothermal – autoproducer – electricity plants  9.261969e+04\n",
       "34                                   geothermal – main activity  1.250098e+06\n",
       "35                      geothermal – main activity – chp plants  2.557800e+04\n",
       "36              geothermal – main activity – electricity plants  9.807273e+05\n",
       "37                                         hydro – autoproducer  2.308826e+06\n",
       "38                                        hydro – main activity  7.053943e+07\n",
       "39                                       nuclear – autoproducer  4.783100e+04\n",
       "40                          nuclear – autoproducer – chp plants  3.950000e+02\n",
       "41                  nuclear – autoproducer – electricity plants  4.634000e+04\n",
       "42                                      nuclear – main activity  6.253849e+07\n",
       "43                         nuclear – main activity – chp plants  5.817290e+05\n",
       "44                 nuclear – main activity – electricity plants  5.809222e+07\n",
       "45                        of which: pumped hydro – autoproducer  3.022000e+03\n",
       "46                       of which: pumped hydro – main activity  1.713093e+06\n",
       "47                            solar photovoltaic – autoproducer  1.625475e+05\n",
       "48                           solar photovoltaic – main activity  3.573688e+05\n",
       "49                                 solar thermal – autoproducer  7.416000e+03\n",
       "50                                solar thermal – main activity  3.060460e+04\n",
       "51                                         solar – autoproducer  1.715319e+05\n",
       "52                                        solar – main activity  4.123656e+05\n",
       "53                         tide, wave and marine – autoproducer  1.600000e+01\n",
       "54                        tide, wave and marine – main activity  1.383200e+04\n",
       "55                                          wind – autoproducer  1.663111e+05\n",
       "56                                         wind – main activity  3.689739e+06"
      ]
     },
     "execution_count": 702,
     "metadata": {},
     "output_type": "execute_result"
    }
   ],
   "source": [
    "total_electricity_production"
   ]
  },
  {
   "cell_type": "code",
   "execution_count": 148,
   "metadata": {},
   "outputs": [
    {
     "data": {
      "text/plain": [
       "Text(0.5, 1.0, 'Avg. Global Prodution of Electricity form 1990-2014')"
      ]
     },
     "execution_count": 148,
     "metadata": {},
     "output_type": "execute_result"
    },
    {
     "data": {
      "image/png": "[encoded data removed]",
      "text/plain": [
       "<Figure size 720x360 with 1 Axes>"
      ]
     },
     "metadata": {
      "needs_background": "light"
     },
     "output_type": "display_data"
    }
   ],
   "source": [
    "electric_products = electricity_production['commodity_transaction']\n",
    "electric_quantity = electricity_production['quantity']\n",
    "\n",
    "fig, ax1 = plt.subplots(figsize=(10,5))\n",
    "\n",
    "\n",
    "ax1.bar(electric_products, electric_quantity)\n",
    "ax1.tick_params('x', labelrotation=90)\n",
    "ax1.tick_params('y', pad=8)\n",
    "ax1.set_xlabel('products', fontsize=12)\n",
    "ax1.set_ylabel('Produced Produced (Kilowatt-hours, millions)', fontsize=12)\n",
    "ax1.ticklabel_format(style='plain', axis='y')\n",
    "ax1.set_yscale('log')\n",
    "ax1.set_title('Avg. Global Prodution of Electricity form 1990-2014', fontsize=17)"
   ]
  },
  {
   "cell_type": "code",
   "execution_count": 703,
   "metadata": {},
   "outputs": [],
   "source": [
    "total_electricity_production_autoproducers = total_electricity_production[total_electricity_production['commodity_transaction'].str.contains('autoproducer')]"
   ]
  },
  {
   "cell_type": "code",
   "execution_count": 738,
   "metadata": {},
   "outputs": [],
   "source": [
    "autoproducer_chp_plant_production = total_electricity_production_autoproducers[total_electricity_production_autoproducers['commodity_transaction'].str.contains('– chp plants')]"
   ]
  },
  {
   "cell_type": "code",
   "execution_count": 741,
   "metadata": {},
   "outputs": [],
   "source": [
    "autoproducer_electricity_plant_production = total_electricity_production_autoproducers[total_electricity_production_autoproducers['commodity_transaction'].str.contains('electricity')]"
   ]
  },
  {
   "cell_type": "code",
   "execution_count": 733,
   "metadata": {},
   "outputs": [],
   "source": [
    "autoproducer_chp_plant_indices = autoproducer_chp_plant_production.index.to_numpy()"
   ]
  },
  {
   "cell_type": "code",
   "execution_count": 743,
   "metadata": {},
   "outputs": [],
   "source": [
    "autoproducer_electricity_plant_indices = autoproducer_electricity_plant_production.index.to_numpy()"
   ]
  },
  {
   "cell_type": "code",
   "execution_count": 744,
   "metadata": {},
   "outputs": [],
   "source": [
    "total_electricity_production_autoproducers = total_electricity_production_autoproducers.drop(autoproducer_chp_plant_indices)"
   ]
  },
  {
   "cell_type": "code",
   "execution_count": 745,
   "metadata": {},
   "outputs": [],
   "source": [
    "total_electricity_production_autoproducers = total_electricity_production_autoproducers.drop(autoproducer_electricity_plant_indices)"
   ]
  },
  {
   "cell_type": "code",
   "execution_count": 751,
   "metadata": {},
   "outputs": [],
   "source": [
    "total_electricity_production_autoproducers = total_electricity_production_autoproducers.sort_values('quantity', ascending=False)"
   ]
  },
  {
   "cell_type": "code",
   "execution_count": 752,
   "metadata": {},
   "outputs": [
    {
     "data": {
      "text/plain": [
       "Text(0.5, 1.0, 'Avg. Global Prodution of Electricity form 1990-2014')"
      ]
     },
     "execution_count": 752,
     "metadata": {},
     "output_type": "execute_result"
    },
    {
     "data": {
      "image/png": "[encoded data removed]",
      "text/plain": [
       "<Figure size 720x360 with 1 Axes>"
      ]
     },
     "metadata": {
      "needs_background": "light"
     },
     "output_type": "display_data"
    }
   ],
   "source": [
    "autoproducer = total_electricity_production_autoproducers['commodity_transaction']\n",
    "autoproducer_quantity = total_electricity_production_autoproducers['quantity']\n",
    "\n",
    "fig, ax1 = plt.subplots(figsize=(10,5))\n",
    "\n",
    "\n",
    "ax1.bar(autoproducer, autoproducer_quantity)\n",
    "ax1.tick_params('x', labelrotation=90)\n",
    "ax1.tick_params('y', pad=8)\n",
    "ax1.set_xlabel('products', fontsize=12)\n",
    "ax1.set_ylabel('Produced Produced (Kilowatt-hours, millions)', fontsize=12)\n",
    "ax1.ticklabel_format(style='plain', axis='y')\n",
    "ax1.set_yscale('log')\n",
    "ax1.set_title('Avg. Global Prodution of Electricity form 1990-2014', fontsize=17)"
   ]
  },
  {
   "cell_type": "code",
   "execution_count": null,
   "metadata": {},
   "outputs": [],
   "source": []
  },
  {
   "cell_type": "code",
   "execution_count": null,
   "metadata": {},
   "outputs": [],
   "source": []
  },
  {
   "cell_type": "code",
   "execution_count": null,
   "metadata": {},
   "outputs": [],
   "source": []
  },
  {
   "cell_type": "code",
   "execution_count": null,
   "metadata": {},
   "outputs": [],
   "source": []
  },
  {
   "cell_type": "code",
   "execution_count": null,
   "metadata": {},
   "outputs": [],
   "source": []
  },
  {
   "cell_type": "code",
   "execution_count": null,
   "metadata": {},
   "outputs": [],
   "source": []
  },
  {
   "cell_type": "code",
   "execution_count": 62,
   "metadata": {},
   "outputs": [],
   "source": [
    "# total electricity category is vague. It doesn't seem right that nuclear energy generated the most electricity globally\n",
    "# What about electricity generated from coal, oil, natural gas??"
   ]
  },
  {
   "cell_type": "code",
   "execution_count": 685,
   "metadata": {},
   "outputs": [
    {
     "data": {
      "text/html": [
       "<div>\n",
       "<style scoped>\n",
       "    .dataframe tbody tr th:only-of-type {\n",
       "        vertical-align: middle;\n",
       "    }\n",
       "\n",
       "    .dataframe tbody tr th {\n",
       "        vertical-align: top;\n",
       "    }\n",
       "\n",
       "    .dataframe thead th {\n",
       "        text-align: right;\n",
       "    }\n",
       "</style>\n",
       "<table border=\"1\" class=\"dataframe\">\n",
       "  <thead>\n",
       "    <tr style=\"text-align: right;\">\n",
       "      <th></th>\n",
       "      <th>country_or_area</th>\n",
       "      <th>commodity_transaction</th>\n",
       "      <th>year</th>\n",
       "      <th>unit</th>\n",
       "      <th>quantity</th>\n",
       "      <th>product</th>\n",
       "      <th>product_class</th>\n",
       "    </tr>\n",
       "  </thead>\n",
       "  <tbody>\n",
       "    <tr>\n",
       "      <td>1143312</td>\n",
       "      <td>afghanistan</td>\n",
       "      <td>from combustible fuels – autoproducer</td>\n",
       "      <td>2014</td>\n",
       "      <td>Kilowatt-hours, million</td>\n",
       "      <td>5.0</td>\n",
       "      <td>total_electricity</td>\n",
       "      <td>Electricity</td>\n",
       "    </tr>\n",
       "    <tr>\n",
       "      <td>1143313</td>\n",
       "      <td>afghanistan</td>\n",
       "      <td>from combustible fuels – autoproducer</td>\n",
       "      <td>2013</td>\n",
       "      <td>Kilowatt-hours, million</td>\n",
       "      <td>5.0</td>\n",
       "      <td>total_electricity</td>\n",
       "      <td>Electricity</td>\n",
       "    </tr>\n",
       "    <tr>\n",
       "      <td>1143314</td>\n",
       "      <td>afghanistan</td>\n",
       "      <td>from combustible fuels – autoproducer</td>\n",
       "      <td>2012</td>\n",
       "      <td>Kilowatt-hours, million</td>\n",
       "      <td>5.0</td>\n",
       "      <td>total_electricity</td>\n",
       "      <td>Electricity</td>\n",
       "    </tr>\n",
       "    <tr>\n",
       "      <td>1143315</td>\n",
       "      <td>afghanistan</td>\n",
       "      <td>from combustible fuels – autoproducer</td>\n",
       "      <td>2011</td>\n",
       "      <td>Kilowatt-hours, million</td>\n",
       "      <td>5.0</td>\n",
       "      <td>total_electricity</td>\n",
       "      <td>Electricity</td>\n",
       "    </tr>\n",
       "    <tr>\n",
       "      <td>1143316</td>\n",
       "      <td>afghanistan</td>\n",
       "      <td>from combustible fuels – autoproducer</td>\n",
       "      <td>2010</td>\n",
       "      <td>Kilowatt-hours, million</td>\n",
       "      <td>5.0</td>\n",
       "      <td>total_electricity</td>\n",
       "      <td>Electricity</td>\n",
       "    </tr>\n",
       "  </tbody>\n",
       "</table>\n",
       "</div>"
      ],
      "text/plain": [
       "        country_or_area                  commodity_transaction  year  \\\n",
       "1143312     afghanistan  from combustible fuels – autoproducer  2014   \n",
       "1143313     afghanistan  from combustible fuels – autoproducer  2013   \n",
       "1143314     afghanistan  from combustible fuels – autoproducer  2012   \n",
       "1143315     afghanistan  from combustible fuels – autoproducer  2011   \n",
       "1143316     afghanistan  from combustible fuels – autoproducer  2010   \n",
       "\n",
       "                            unit  quantity            product product_class  \n",
       "1143312  Kilowatt-hours, million       5.0  total_electricity   Electricity  \n",
       "1143313  Kilowatt-hours, million       5.0  total_electricity   Electricity  \n",
       "1143314  Kilowatt-hours, million       5.0  total_electricity   Electricity  \n",
       "1143315  Kilowatt-hours, million       5.0  total_electricity   Electricity  \n",
       "1143316  Kilowatt-hours, million       5.0  total_electricity   Electricity  "
      ]
     },
     "execution_count": 685,
     "metadata": {},
     "output_type": "execute_result"
    }
   ],
   "source": [
    "combustion_fuels_elec_prod = Electricity_df[Electricity_df['commodity_transaction'].str.contains(\"from combustible fuels\")]\n",
    "combustion_fuels_elec_prod.head()"
   ]
  },
  {
   "cell_type": "code",
   "execution_count": 64,
   "metadata": {},
   "outputs": [
    {
     "data": {
      "text/html": [
       "<div>\n",
       "<style scoped>\n",
       "    .dataframe tbody tr th:only-of-type {\n",
       "        vertical-align: middle;\n",
       "    }\n",
       "\n",
       "    .dataframe tbody tr th {\n",
       "        vertical-align: top;\n",
       "    }\n",
       "\n",
       "    .dataframe thead th {\n",
       "        text-align: right;\n",
       "    }\n",
       "</style>\n",
       "<table border=\"1\" class=\"dataframe\">\n",
       "  <thead>\n",
       "    <tr style=\"text-align: right;\">\n",
       "      <th></th>\n",
       "      <th>quantity</th>\n",
       "    </tr>\n",
       "    <tr>\n",
       "      <th>commodity_transaction</th>\n",
       "      <th></th>\n",
       "    </tr>\n",
       "  </thead>\n",
       "  <tbody>\n",
       "    <tr>\n",
       "      <td>from combustible fuels – autoproducer</td>\n",
       "      <td>7837.73</td>\n",
       "    </tr>\n",
       "    <tr>\n",
       "      <td>from combustible fuels – autoproducer – chp plants</td>\n",
       "      <td>11573.77</td>\n",
       "    </tr>\n",
       "    <tr>\n",
       "      <td>from combustible fuels – autoproducer – electricity plants</td>\n",
       "      <td>7560.84</td>\n",
       "    </tr>\n",
       "    <tr>\n",
       "      <td>from combustible fuels – main activity</td>\n",
       "      <td>46751.88</td>\n",
       "    </tr>\n",
       "    <tr>\n",
       "      <td>from combustible fuels – main activity – chp plants</td>\n",
       "      <td>32858.65</td>\n",
       "    </tr>\n",
       "    <tr>\n",
       "      <td>from combustible fuels – main activity – electricity plants</td>\n",
       "      <td>66038.49</td>\n",
       "    </tr>\n",
       "  </tbody>\n",
       "</table>\n",
       "</div>"
      ],
      "text/plain": [
       "                                                             quantity\n",
       "commodity_transaction                                                \n",
       "from combustible fuels – autoproducer                         7837.73\n",
       "from combustible fuels – autoproducer – chp plants           11573.77\n",
       "from combustible fuels – autoproducer – electricity plants    7560.84\n",
       "from combustible fuels – main activity                       46751.88\n",
       "from combustible fuels – main activity – chp plants          32858.65\n",
       "from combustible fuels – main activity – electricity plants  66038.49"
      ]
     },
     "execution_count": 64,
     "metadata": {},
     "output_type": "execute_result"
    }
   ],
   "source": [
    "combustion_fuels_elec_prod.groupby(['commodity_transaction']).mean().round(2).drop(['year'], axis=1)"
   ]
  },
  {
   "cell_type": "code",
   "execution_count": 65,
   "metadata": {},
   "outputs": [
    {
     "data": {
      "text/plain": [
       "quantity    172621.36\n",
       "dtype: float64"
      ]
     },
     "execution_count": 65,
     "metadata": {},
     "output_type": "execute_result"
    }
   ],
   "source": [
    "combustion_fuels_elec_prod.groupby(['commodity_transaction']).mean().round(2).drop(['year'], axis=1).sum()\n",
    "# this is more than double than the average annual electricity output from nuclear"
   ]
  },
  {
   "cell_type": "code",
   "execution_count": 66,
   "metadata": {},
   "outputs": [],
   "source": [
    "nuclear_production = Electricity_df[Electricity_df['commodity_transaction'].str.contains(\"nuclear – \")]"
   ]
  },
  {
   "cell_type": "code",
   "execution_count": 67,
   "metadata": {},
   "outputs": [
    {
     "data": {
      "text/plain": [
       "array(['nuclear – autoproducer', 'nuclear – autoproducer – chp plants',\n",
       "       'nuclear – autoproducer – electricity plants',\n",
       "       'nuclear – main activity', 'nuclear – main activity – chp plants',\n",
       "       'nuclear – main activity – electricity plants'], dtype=object)"
      ]
     },
     "execution_count": 67,
     "metadata": {},
     "output_type": "execute_result"
    }
   ],
   "source": [
    "nuclear_production['commodity_transaction'].unique()"
   ]
  },
  {
   "cell_type": "code",
   "execution_count": 68,
   "metadata": {},
   "outputs": [
    {
     "data": {
      "text/html": [
       "<div>\n",
       "<style scoped>\n",
       "    .dataframe tbody tr th:only-of-type {\n",
       "        vertical-align: middle;\n",
       "    }\n",
       "\n",
       "    .dataframe tbody tr th {\n",
       "        vertical-align: top;\n",
       "    }\n",
       "\n",
       "    .dataframe thead th {\n",
       "        text-align: right;\n",
       "    }\n",
       "</style>\n",
       "<table border=\"1\" class=\"dataframe\">\n",
       "  <thead>\n",
       "    <tr style=\"text-align: right;\">\n",
       "      <th></th>\n",
       "      <th>quantity</th>\n",
       "    </tr>\n",
       "    <tr>\n",
       "      <th>commodity_transaction</th>\n",
       "      <th></th>\n",
       "    </tr>\n",
       "  </thead>\n",
       "  <tbody>\n",
       "    <tr>\n",
       "      <td>nuclear – autoproducer</td>\n",
       "      <td>1406.79</td>\n",
       "    </tr>\n",
       "    <tr>\n",
       "      <td>nuclear – autoproducer – chp plants</td>\n",
       "      <td>79.00</td>\n",
       "    </tr>\n",
       "    <tr>\n",
       "      <td>nuclear – autoproducer – electricity plants</td>\n",
       "      <td>1655.00</td>\n",
       "    </tr>\n",
       "    <tr>\n",
       "      <td>nuclear – main activity</td>\n",
       "      <td>82722.88</td>\n",
       "    </tr>\n",
       "    <tr>\n",
       "      <td>nuclear – main activity – chp plants</td>\n",
       "      <td>12377.21</td>\n",
       "    </tr>\n",
       "    <tr>\n",
       "      <td>nuclear – main activity – electricity plants</td>\n",
       "      <td>106007.71</td>\n",
       "    </tr>\n",
       "  </tbody>\n",
       "</table>\n",
       "</div>"
      ],
      "text/plain": [
       "                                               quantity\n",
       "commodity_transaction                                  \n",
       "nuclear – autoproducer                          1406.79\n",
       "nuclear – autoproducer – chp plants               79.00\n",
       "nuclear – autoproducer – electricity plants     1655.00\n",
       "nuclear – main activity                        82722.88\n",
       "nuclear – main activity – chp plants           12377.21\n",
       "nuclear – main activity – electricity plants  106007.71"
      ]
     },
     "execution_count": 68,
     "metadata": {},
     "output_type": "execute_result"
    }
   ],
   "source": [
    "nuclear_production.groupby(['commodity_transaction']).mean().round(2).drop(['year'], axis=1)"
   ]
  },
  {
   "cell_type": "code",
   "execution_count": 69,
   "metadata": {},
   "outputs": [],
   "source": [
    "# lets unpack total_electricity product group"
   ]
  },
  {
   "cell_type": "code",
   "execution_count": 70,
   "metadata": {},
   "outputs": [],
   "source": [
    "total_electricity = Electricity_df[Electricity_df['product'].str.contains(\"total_electricity\")]\n"
   ]
  },
  {
   "cell_type": "code",
   "execution_count": 71,
   "metadata": {},
   "outputs": [
    {
     "data": {
      "text/plain": [
       "array(['electricity - consumption by chemical and petrochemical',\n",
       "       'electricity - consumption by commercial and public services',\n",
       "       'electricity - consumption by construction',\n",
       "       'electricity - consumption by food and tobacco',\n",
       "       'electricity - consumption by households',\n",
       "       'electricity - consumption by iron and steel',\n",
       "       'electricity - consumption by machinery',\n",
       "       'electricity - consumption by manufacturing, construction and non-fuel industry',\n",
       "       'electricity - consumption by mining and quarrying',\n",
       "       'electricity - consumption by non-ferrous metals',\n",
       "       'electricity - consumption by non-metallic minerals',\n",
       "       'electricity - consumption by other',\n",
       "       'electricity - consumption by other manuf., const. and non-fuel ind.',\n",
       "       'electricity - consumption by paper, pulp and print',\n",
       "       'electricity - consumption by pipeline transport',\n",
       "       'electricity - consumption by rail',\n",
       "       'electricity - consumption by road',\n",
       "       'electricity - consumption by textile and leather',\n",
       "       'electricity - consumption by transport',\n",
       "       'electricity - consumption by transport equipment',\n",
       "       'electricity - consumption by wood and wood products',\n",
       "       'electricity - consumption in agriculture, forestry and fishing',\n",
       "       'electricity - consumption not elsewhere specified (industry)',\n",
       "       'electricity - consumption not elsewhere specified (other)',\n",
       "       'electricity - consumption not elsewhere specified (transport)',\n",
       "       'electricity - energy industries own use', 'electricity - exports',\n",
       "       'electricity - final energy consumption',\n",
       "       'electricity - gross demand', 'electricity - gross production',\n",
       "       'electricity - imports', 'electricity - losses',\n",
       "       'electricity - net production',\n",
       "       'electricity - other energy industry own use',\n",
       "       'electricity - own use by blast furnaces',\n",
       "       'electricity - own use by briquetting plants',\n",
       "       'electricity - own use by coal liquefaction plants',\n",
       "       'electricity - own use by coal mines',\n",
       "       'electricity - own use by coke ovens',\n",
       "       'electricity - own use by electricity, heat and chp plants',\n",
       "       'electricity - own use by gas-to-liquid (gtl) plants',\n",
       "       'electricity - own use by gas works',\n",
       "       'electricity - own use by lng/regasification plants',\n",
       "       'electricity - own use by nuclear fuel extraction and processing',\n",
       "       'electricity - own use by oil and gas extraction',\n",
       "       'electricity - own use by oil refineries',\n",
       "       'electricity - own use by pump-storage plants',\n",
       "       'electricity - total production, autoproducer',\n",
       "       'electricity - total production, main activity',\n",
       "       'electricity - used for electric boilers',\n",
       "       'electricity - used for heat pumps',\n",
       "       'from chemical heat – autoproducer',\n",
       "       'from chemical heat – autoproducer – chp plants',\n",
       "       'from chemical heat – autoproducer – electricity plants',\n",
       "       'from chemical heat – main activity',\n",
       "       'from chemical heat – main activity – chp plants',\n",
       "       'from chemical heat – main activity – electricity plants',\n",
       "       'from combustible fuels – autoproducer',\n",
       "       'from combustible fuels – autoproducer – chp plants',\n",
       "       'from combustible fuels – autoproducer – electricity plants',\n",
       "       'from combustible fuels – main activity',\n",
       "       'from combustible fuels – main activity – chp plants',\n",
       "       'from combustible fuels – main activity – electricity plants',\n",
       "       'from other sources – autoproducer',\n",
       "       'from other sources – autoproducer – chp plants',\n",
       "       'from other sources – autoproducer – electricity plants',\n",
       "       'from other sources – main activity',\n",
       "       'from other sources – main activity – chp plants',\n",
       "       'from other sources – main activity – electricity plants',\n",
       "       'geothermal – autoproducer',\n",
       "       'geothermal – autoproducer – chp plants',\n",
       "       'geothermal – autoproducer – electricity plants',\n",
       "       'geothermal – main activity',\n",
       "       'geothermal – main activity – chp plants',\n",
       "       'geothermal – main activity – electricity plants',\n",
       "       'hydro – autoproducer', 'hydro – main activity',\n",
       "       'nuclear – autoproducer', 'nuclear – autoproducer – chp plants',\n",
       "       'nuclear – autoproducer – electricity plants',\n",
       "       'nuclear – main activity', 'nuclear – main activity – chp plants',\n",
       "       'nuclear – main activity – electricity plants',\n",
       "       'of which: pumped hydro – autoproducer',\n",
       "       'of which: pumped hydro – main activity', 'solar – autoproducer',\n",
       "       'solar – main activity', 'solar photovoltaic – autoproducer',\n",
       "       'solar photovoltaic – main activity',\n",
       "       'solar thermal – autoproducer', 'solar thermal – main activity',\n",
       "       'tide, wave and marine – autoproducer',\n",
       "       'tide, wave and marine – main activity', 'wind – autoproducer',\n",
       "       'wind – main activity'], dtype=object)"
      ]
     },
     "execution_count": 71,
     "metadata": {},
     "output_type": "execute_result"
    }
   ],
   "source": [
    "total_electricity['commodity_transaction'].unique()\n",
    "# total_electricity product group contains production of from chemical heat, comubstible fuels, orther sources, geothermal\n",
    "# hydro, nuclear, pumpedhydro,solar, tidal, and wind"
   ]
  },
  {
   "cell_type": "code",
   "execution_count": 72,
   "metadata": {},
   "outputs": [],
   "source": [
    "total_electricity_production = total_electricity[total_electricity['commodity_transaction'].str.contains(\"production\")]"
   ]
  },
  {
   "cell_type": "code",
   "execution_count": null,
   "metadata": {},
   "outputs": [],
   "source": []
  }
 ],
 "metadata": {
  "kernelspec": {
   "display_name": "Python 3.7.4 64-bit ('PandasLearn': conda)",
   "language": "python",
   "name": "python37464bitpandaslearnconda1c8adef87341478e8d1540d0dc6beed9"
  },
  "language_info": {
   "codemirror_mode": {
    "name": "ipython",
    "version": 3
   },
   "file_extension": ".py",
   "mimetype": "text/x-python",
   "name": "python",
   "nbconvert_exporter": "python",
   "pygments_lexer": "ipython3",
   "version": "3.7.4"
  },
  "toc": {
   "base_numbering": 1,
   "nav_menu": {
    "height": "127px",
    "width": "528px"
   },
   "number_sections": true,
   "sideBar": true,
   "skip_h1_title": false,
   "title_cell": "Table of Contents",
   "title_sidebar": "Contents",
   "toc_cell": true,
   "toc_position": {
    "height": "calc(100% - 180px)",
    "left": "10px",
    "top": "150px",
    "width": "384px"
   },
   "toc_section_display": true,
   "toc_window_display": true
  }
 },
 "nbformat": 4,
 "nbformat_minor": 2
}
